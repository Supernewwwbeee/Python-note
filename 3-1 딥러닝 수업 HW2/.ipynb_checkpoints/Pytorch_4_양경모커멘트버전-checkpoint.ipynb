{
 "cells": [
  {
   "cell_type": "markdown",
   "metadata": {
    "id": "1BzYu13EHIQm"
   },
   "source": [
    "4.1 로지스틱 회귀분석"
   ]
  },
  {
   "cell_type": "code",
   "execution_count": 29,
   "metadata": {
    "id": "ZOJOK_A_A7_C"
   },
   "outputs": [],
   "source": [
    "import statsmodels.api as sm # statsmodels.api는 통계 모델링 및 추론을 위한 핵심 인터페이스 제\n",
    "import pandas as pd"
   ]
  },
  {
   "cell_type": "code",
   "execution_count": 31,
   "metadata": {
    "colab": {
     "base_uri": "https://localhost:8080/"
    },
    "id": "9A89YZodEIUV",
    "outputId": "34172194-bc81-411a-f857-acf80f4fda8a"
   },
   "outputs": [
    {
     "name": "stdout",
     "output_type": "stream",
     "text": [
      "<class 'pandas.core.frame.DataFrame'>\n",
      "Index: 30 entries, 16 to 19\n",
      "Data columns (total 4 columns):\n",
      " #   Column           Non-Null Count  Dtype  \n",
      "---  ------           --------------  -----  \n",
      " 0   gmat             30 non-null     int64  \n",
      " 1   gpa              30 non-null     float64\n",
      " 2   work_experience  30 non-null     int64  \n",
      " 3   admitted         30 non-null     int64  \n",
      "dtypes: float64(1), int64(3)\n",
      "memory usage: 1.2 KB\n",
      "None\n"
     ]
    }
   ],
   "source": [
    "df = pd.read_csv('student_admission_train.csv', index_col = 0) #파일을 pandas.DataFrame 객체로 반환.\n",
    "print(df.info()) #데이터프레임의 전체 구조 요약, column 목록과 결측치 여부를 파악할 수 있다."
   ]
  },
  {
   "cell_type": "code",
   "execution_count": 33,
   "metadata": {
    "colab": {
     "base_uri": "https://localhost:8080/"
    },
    "id": "hRNAxCRFEQr2",
    "outputId": "ee50f886-4ab7-4682-b297-fbb5f67ecea6"
   },
   "outputs": [
    {
     "name": "stdout",
     "output_type": "stream",
     "text": [
      "    gmat  gpa  work_experience  admitted\n",
      "16   580  2.7                4         0\n",
      "33   660  3.3                6         1\n",
      "8    740  3.3                5         1\n",
      "38   590  1.7                4         0\n",
      "32   660  4.0                4         1\n"
     ]
    }
   ],
   "source": [
    "print(df.head()) # 데이터프레임 상위 5개 뽑기"
   ]
  },
  {
   "cell_type": "code",
   "execution_count": 35,
   "metadata": {
    "colab": {
     "base_uri": "https://localhost:8080/"
    },
    "id": "vrFrLg6cEh9L",
    "outputId": "8854b080-6808-4af3-a2a4-972b215e0cb7"
   },
   "outputs": [
    {
     "name": "stdout",
     "output_type": "stream",
     "text": [
      "<class 'pandas.core.frame.DataFrame'>\n",
      "<class 'pandas.core.frame.DataFrame'>\n",
      "(30, 3)\n",
      "(30, 1)\n"
     ]
    }
   ],
   "source": [
    "X = df[['gmat', 'gpa','work_experience']]\n",
    "Y = df[['admitted']] #DataFrame X,Y에 들어갈 column 설정\n",
    "\n",
    "print(type(X))\n",
    "print(type(Y))\n",
    "print(X.shape)\n",
    "print(Y.shape) #X,Y의 type, 열, 행 개수 반환"
   ]
  },
  {
   "cell_type": "code",
   "execution_count": 37,
   "metadata": {
    "colab": {
     "base_uri": "https://localhost:8080/"
    },
    "id": "bd85YUZRElgY",
    "outputId": "b6645bb2-91cf-4e9b-eee9-825b9b331400",
    "scrolled": true
   },
   "outputs": [
    {
     "name": "stdout",
     "output_type": "stream",
     "text": [
      "Optimization terminated successfully.\n",
      "         Current function value: 0.247296\n",
      "         Iterations 8\n"
     ]
    }
   ],
   "source": [
    "X = sm.add_constant(X) #설명 변수 X에 상수항 열 추가.\n",
    "model = sm.Logit(Y, X) \n",
    "# 종속 변수 Y와 설명 변수 X를 인자로 받아 Logit 모형 객체 생성.\n",
    "# 내부적으로 로지스틱 함수(시그모이드)를 가정하고, 모수가 최대우도법으로 추정될 준비\n",
    "results = model.fit() # 최대우도 추정 알고리즘 실행시켜 절편 각 설명 변수 계수, 표준오차, z-값, p-값 계산"
   ]
  },
  {
   "cell_type": "code",
   "execution_count": 39,
   "metadata": {
    "colab": {
     "base_uri": "https://localhost:8080/"
    },
    "id": "ENNVqL9LE8nA",
    "outputId": "acb954ee-3053-4534-a174-e4b9f701fc20"
   },
   "outputs": [
    {
     "name": "stdout",
     "output_type": "stream",
     "text": [
      "                           Logit Regression Results                           \n",
      "==============================================================================\n",
      "Dep. Variable:               admitted   No. Observations:                   30\n",
      "Model:                          Logit   Df Residuals:                       26\n",
      "Method:                           MLE   Df Model:                            3\n",
      "Date:                Thu, 08 May 2025   Pseudo R-squ.:                  0.6432\n",
      "Time:                        21:28:18   Log-Likelihood:                -7.4189\n",
      "converged:                       True   LL-Null:                       -20.794\n",
      "Covariance Type:            nonrobust   LLR p-value:                 6.639e-06\n",
      "===================================================================================\n",
      "                      coef    std err          z      P>|z|      [0.025      0.975]\n",
      "-----------------------------------------------------------------------------------\n",
      "const             -16.3315      8.601     -1.899      0.058     -33.189       0.526\n",
      "gmat                0.0025      0.018      0.141      0.888      -0.032       0.037\n",
      "gpa                 3.3208      2.397      1.385      0.166      -1.378       8.020\n",
      "work_experience     0.9975      0.585      1.704      0.088      -0.150       2.145\n",
      "===================================================================================\n"
     ]
    }
   ],
   "source": [
    "print(results.summary())"
   ]
  },
  {
   "cell_type": "markdown",
   "metadata": {},
   "source": [
    "최소제곱 회귀분석 수행 -> 추정된 계수와 통계량 담은 RegressionResults 객체 반환\n",
    "1. 절편(const), 기울기(area) 각각의 행을 보면\n",
    "   coef가 실추정치, p>|t| < 0.05이면 보통 통계적으로 유의.\n",
    "2. R-squared로 모델 설명력 파악\n",
    "3. F-statistic과 그 p-값으로 \"모델 전체가 유의한가\" 확인."
   ]
  },
  {
   "cell_type": "code",
   "execution_count": 42,
   "metadata": {
    "colab": {
     "base_uri": "https://localhost:8080/"
    },
    "id": "hLRoY8E5FOGx",
    "outputId": "6cd68ba2-271e-44b2-a514-aea181acc63d"
   },
   "outputs": [
    {
     "name": "stdout",
     "output_type": "stream",
     "text": [
      "Optimization terminated successfully.\n",
      "         Current function value: 0.247296\n",
      "         Iterations 8\n",
      "                           Logit Regression Results                           \n",
      "==============================================================================\n",
      "Dep. Variable:               admitted   No. Observations:                   30\n",
      "Model:                          Logit   Df Residuals:                       26\n",
      "Method:                           MLE   Df Model:                            3\n",
      "Date:                Thu, 08 May 2025   Pseudo R-squ.:                  0.6432\n",
      "Time:                        21:28:18   Log-Likelihood:                -7.4189\n",
      "converged:                       True   LL-Null:                       -20.794\n",
      "Covariance Type:            nonrobust   LLR p-value:                 6.639e-06\n",
      "===================================================================================\n",
      "                      coef    std err          z      P>|z|      [0.025      0.975]\n",
      "-----------------------------------------------------------------------------------\n",
      "Intercept         -16.3315      8.601     -1.899      0.058     -33.189       0.526\n",
      "gmat                0.0025      0.018      0.141      0.888      -0.032       0.037\n",
      "gpa                 3.3208      2.397      1.385      0.166      -1.378       8.020\n",
      "work_experience     0.9975      0.585      1.704      0.088      -0.150       2.145\n",
      "===================================================================================\n"
     ]
    }
   ],
   "source": [
    "#Logit.from_formula() 함수 이용\n",
    "model = sm.Logit.from_formula('admitted ~ gmat + gpa + work_experience', df)\n",
    "results = model.fit()\n",
    "\n",
    "print(results.summary()) "
   ]
  },
  {
   "cell_type": "markdown",
   "metadata": {},
   "source": [
    " # R스타일의 수식 문법 사용해서 모델 정의\n",
    " df에서 해당하는 컬럼만 사용해 로지스틱회귀 모델 만들기\n",
    " Y : admitted\n",
    " X : gmat, gpa, work_experience\n",
    "\n",
    " model.fit() : 모델 학습시키기\n",
    " result.summary() : 결과 출력"
   ]
  },
  {
   "cell_type": "code",
   "execution_count": 45,
   "metadata": {
    "colab": {
     "base_uri": "https://localhost:8080/"
    },
    "id": "sUb8b2wkFv7q",
    "outputId": "839a720c-c408-48b0-a85d-1acf601e890b"
   },
   "outputs": [
    {
     "name": "stdout",
     "output_type": "stream",
     "text": [
      "   const  gmat  gpa  work_experience\n",
      "0      1   590    2                3\n"
     ]
    }
   ],
   "source": [
    "new_candidates = {'const':[1],\n",
    "                  'gmat': [590],\n",
    "                  'gpa': [2],\n",
    "                  'work_experience': [3]\n",
    "                  }\n",
    "df2 = pd.DataFrame(new_candidates)\n",
    "print(df2)"
   ]
  },
  {
   "cell_type": "markdown",
   "metadata": {},
   "source": [
    "1) 딕셔너리 생성\n",
    "2) 딕셔너리 pandas DataFrame으로 변환"
   ]
  },
  {
   "cell_type": "code",
   "execution_count": 48,
   "metadata": {
    "colab": {
     "base_uri": "https://localhost:8080/"
    },
    "id": "-Qsr_rbeGHHk",
    "outputId": "5835273a-613a-460c-8928-c04a687c699e"
   },
   "outputs": [
    {
     "name": "stdout",
     "output_type": "stream",
     "text": [
      "0    0.005377\n",
      "dtype: float64\n"
     ]
    }
   ],
   "source": [
    "y_pred=results.predict(df2) # DataFrame객체 df2를 기존 학습된 모델 객체 results 사용해 합격확률 예측\n",
    "print (y_pred) # 합격확률 출력"
   ]
  },
  {
   "cell_type": "code",
   "execution_count": 50,
   "metadata": {
    "colab": {
     "base_uri": "https://localhost:8080/"
    },
    "id": "qKbVJ8X-GJGp",
    "outputId": "ae53cc81-232c-47bd-a463-fdc58a674afe"
   },
   "outputs": [
    {
     "name": "stdout",
     "output_type": "stream",
     "text": [
      "0    0\n",
      "dtype: int8\n"
     ]
    }
   ],
   "source": [
    "import numpy as np\n",
    "threshold = 0.5 \n",
    "\n",
    "y_pred = (y_pred > threshold).astype(np.int8) \n",
    "print(y_pred)"
   ]
  },
  {
   "cell_type": "markdown",
   "metadata": {},
   "source": [
    "(y_pred > threshold) # 예측 확률을 threshold 기준으로 대소비교해 T/F로 만들기.\n",
    "boolean.astype(np.int8) # boolean형을 int형 8비트로 변환. -> 0,1"
   ]
  },
  {
   "cell_type": "code",
   "execution_count": 53,
   "metadata": {
    "colab": {
     "base_uri": "https://localhost:8080/"
    },
    "id": "xkoPwv2iGj91",
    "outputId": "2dc48376-ef86-49b9-b70b-559b30893635"
   },
   "outputs": [
    {
     "name": "stdout",
     "output_type": "stream",
     "text": [
      "   const  gmat  gpa  work_experience\n",
      "0      1   590  2.0                3\n",
      "1      1   740  3.7                4\n",
      "2      1   680  3.3                6\n",
      "3      1   610  2.3                1\n",
      "4      1   710  3.0                5\n"
     ]
    }
   ],
   "source": [
    "new_candidates = {'const':[1,1,1,1,1],\n",
    "                  'gmat': [590,740,680,610,710],\n",
    "                  'gpa': [2,3.7,3.3,2.3,3],\n",
    "                  'work_experience': [3,4,6,1,5]\n",
    "                  }\n",
    "\n",
    "df2 = pd.DataFrame(new_candidates,columns= ['const', 'gmat', 'gpa','work_experience'])\n",
    "\n",
    "print(df2)"
   ]
  },
  {
   "cell_type": "markdown",
   "metadata": {},
   "source": [
    "새 데이터 데이터프레임으로 변환"
   ]
  },
  {
   "cell_type": "code",
   "execution_count": 56,
   "metadata": {
    "colab": {
     "base_uri": "https://localhost:8080/"
    },
    "id": "FD6HTNaYG73-",
    "outputId": "98d6d7b6-974c-49dc-a8f1-3dd01f3199dd"
   },
   "outputs": [
    {
     "name": "stdout",
     "output_type": "stream",
     "text": [
      "0    0.005377\n",
      "1    0.857911\n",
      "2    0.910066\n",
      "3    0.002089\n",
      "4    0.597692\n",
      "dtype: float64\n"
     ]
    }
   ],
   "source": [
    "y_pred=results.predict(df2) # DataFrame객체 df2를 기존 학습된 모델 객체 results 사용해 합격확률 예측\n",
    "print (y_pred) # 각 데이터 관측치 행마다의 합격확률 출력"
   ]
  },
  {
   "cell_type": "markdown",
   "metadata": {},
   "source": [
    "df2 데이터"
   ]
  },
  {
   "cell_type": "code",
   "execution_count": 59,
   "metadata": {
    "colab": {
     "base_uri": "https://localhost:8080/"
    },
    "id": "3dJ9d1JxG_rH",
    "outputId": "3b9943d9-0804-46da-a1dd-13cb55736b18"
   },
   "outputs": [
    {
     "name": "stdout",
     "output_type": "stream",
     "text": [
      "0    0\n",
      "1    1\n",
      "2    1\n",
      "3    0\n",
      "4    1\n",
      "dtype: int8\n"
     ]
    }
   ],
   "source": [
    "y_pred = (y_pred > threshold).astype(np.int8) \n",
    "print(y_pred)"
   ]
  },
  {
   "cell_type": "markdown",
   "metadata": {},
   "source": [
    "(y_pred > threshold) # 예측 확률을 threshold 기준으로 대소비교해 T/F로 만들기.\n",
    "boolean.astype(np.int8) # boolean형을 int형8비트로 변환. -> 0,1"
   ]
  },
  {
   "cell_type": "markdown",
   "metadata": {
    "id": "RpGsdAKwHLwh"
   },
   "source": [
    "4.2 머신러닝 기반 로지스틱 회귀분석"
   ]
  },
  {
   "cell_type": "markdown",
   "metadata": {
    "id": "BfP1MRE9H_9a"
   },
   "source": [
    "1) scikit-learn을 이용한 머신러닝"
   ]
  },
  {
   "cell_type": "code",
   "execution_count": 64,
   "metadata": {
    "id": "7FiIgvXQHDTr"
   },
   "outputs": [],
   "source": [
    "import pandas as pd\n",
    "from sklearn.linear_model import LogisticRegression"
   ]
  },
  {
   "cell_type": "code",
   "execution_count": 65,
   "metadata": {
    "colab": {
     "base_uri": "https://localhost:8080/"
    },
    "id": "z9xvrAkbIFNL",
    "outputId": "d55324f7-5787-4c12-c4c9-1f33bbc5504e"
   },
   "outputs": [
    {
     "name": "stdout",
     "output_type": "stream",
     "text": [
      "<class 'pandas.core.frame.DataFrame'>\n",
      "Index: 30 entries, 16 to 19\n",
      "Data columns (total 4 columns):\n",
      " #   Column           Non-Null Count  Dtype  \n",
      "---  ------           --------------  -----  \n",
      " 0   gmat             30 non-null     int64  \n",
      " 1   gpa              30 non-null     float64\n",
      " 2   work_experience  30 non-null     int64  \n",
      " 3   admitted         30 non-null     int64  \n",
      "dtypes: float64(1), int64(3)\n",
      "memory usage: 1.2 KB\n",
      "None\n"
     ]
    }
   ],
   "source": [
    "df = pd.read_csv('student_admission_train.csv', index_col = 0)\n",
    "print(df.info())"
   ]
  },
  {
   "cell_type": "code",
   "execution_count": 66,
   "metadata": {
    "colab": {
     "base_uri": "https://localhost:8080/"
    },
    "id": "L-7k0mIdIKJ_",
    "outputId": "cd78460f-f20e-4196-ee1b-9cd09326315c"
   },
   "outputs": [
    {
     "name": "stdout",
     "output_type": "stream",
     "text": [
      "    gmat  gpa  work_experience  admitted\n",
      "16   580  2.7                4         0\n",
      "33   660  3.3                6         1\n",
      "8    740  3.3                5         1\n",
      "38   590  1.7                4         0\n",
      "32   660  4.0                4         1\n"
     ]
    }
   ],
   "source": [
    "print(df.head())"
   ]
  },
  {
   "cell_type": "code",
   "execution_count": 67,
   "metadata": {
    "colab": {
     "base_uri": "https://localhost:8080/"
    },
    "id": "_8ylzcRFIMRx",
    "outputId": "15026d66-3082-4578-b935-9ae5a4877af9"
   },
   "outputs": [
    {
     "name": "stdout",
     "output_type": "stream",
     "text": [
      "(30, 3)\n",
      "(30,)\n"
     ]
    }
   ],
   "source": [
    "X = df[['gmat', 'gpa','work_experience']]\n",
    "y = df['admitted']\n",
    "print(X.shape)\n",
    "print(y.shape) # 종속 변수 y와 설명변수 X에 들어갈 column 설정"
   ]
  },
  {
   "cell_type": "code",
   "execution_count": 68,
   "metadata": {
    "colab": {
     "base_uri": "https://localhost:8080/",
     "height": 75
    },
    "id": "DFJmjanLIch6",
    "outputId": "b11632b3-32e1-45d2-ab95-e125b080865e"
   },
   "outputs": [
    {
     "data": {
      "text/html": [
       "<style>#sk-container-id-2 {\n",
       "  /* Definition of color scheme common for light and dark mode */\n",
       "  --sklearn-color-text: black;\n",
       "  --sklearn-color-line: gray;\n",
       "  /* Definition of color scheme for unfitted estimators */\n",
       "  --sklearn-color-unfitted-level-0: #fff5e6;\n",
       "  --sklearn-color-unfitted-level-1: #f6e4d2;\n",
       "  --sklearn-color-unfitted-level-2: #ffe0b3;\n",
       "  --sklearn-color-unfitted-level-3: chocolate;\n",
       "  /* Definition of color scheme for fitted estimators */\n",
       "  --sklearn-color-fitted-level-0: #f0f8ff;\n",
       "  --sklearn-color-fitted-level-1: #d4ebff;\n",
       "  --sklearn-color-fitted-level-2: #b3dbfd;\n",
       "  --sklearn-color-fitted-level-3: cornflowerblue;\n",
       "\n",
       "  /* Specific color for light theme */\n",
       "  --sklearn-color-text-on-default-background: var(--sg-text-color, var(--theme-code-foreground, var(--jp-content-font-color1, black)));\n",
       "  --sklearn-color-background: var(--sg-background-color, var(--theme-background, var(--jp-layout-color0, white)));\n",
       "  --sklearn-color-border-box: var(--sg-text-color, var(--theme-code-foreground, var(--jp-content-font-color1, black)));\n",
       "  --sklearn-color-icon: #696969;\n",
       "\n",
       "  @media (prefers-color-scheme: dark) {\n",
       "    /* Redefinition of color scheme for dark theme */\n",
       "    --sklearn-color-text-on-default-background: var(--sg-text-color, var(--theme-code-foreground, var(--jp-content-font-color1, white)));\n",
       "    --sklearn-color-background: var(--sg-background-color, var(--theme-background, var(--jp-layout-color0, #111)));\n",
       "    --sklearn-color-border-box: var(--sg-text-color, var(--theme-code-foreground, var(--jp-content-font-color1, white)));\n",
       "    --sklearn-color-icon: #878787;\n",
       "  }\n",
       "}\n",
       "\n",
       "#sk-container-id-2 {\n",
       "  color: var(--sklearn-color-text);\n",
       "}\n",
       "\n",
       "#sk-container-id-2 pre {\n",
       "  padding: 0;\n",
       "}\n",
       "\n",
       "#sk-container-id-2 input.sk-hidden--visually {\n",
       "  border: 0;\n",
       "  clip: rect(1px 1px 1px 1px);\n",
       "  clip: rect(1px, 1px, 1px, 1px);\n",
       "  height: 1px;\n",
       "  margin: -1px;\n",
       "  overflow: hidden;\n",
       "  padding: 0;\n",
       "  position: absolute;\n",
       "  width: 1px;\n",
       "}\n",
       "\n",
       "#sk-container-id-2 div.sk-dashed-wrapped {\n",
       "  border: 1px dashed var(--sklearn-color-line);\n",
       "  margin: 0 0.4em 0.5em 0.4em;\n",
       "  box-sizing: border-box;\n",
       "  padding-bottom: 0.4em;\n",
       "  background-color: var(--sklearn-color-background);\n",
       "}\n",
       "\n",
       "#sk-container-id-2 div.sk-container {\n",
       "  /* jupyter's `normalize.less` sets `[hidden] { display: none; }`\n",
       "     but bootstrap.min.css set `[hidden] { display: none !important; }`\n",
       "     so we also need the `!important` here to be able to override the\n",
       "     default hidden behavior on the sphinx rendered scikit-learn.org.\n",
       "     See: https://github.com/scikit-learn/scikit-learn/issues/21755 */\n",
       "  display: inline-block !important;\n",
       "  position: relative;\n",
       "}\n",
       "\n",
       "#sk-container-id-2 div.sk-text-repr-fallback {\n",
       "  display: none;\n",
       "}\n",
       "\n",
       "div.sk-parallel-item,\n",
       "div.sk-serial,\n",
       "div.sk-item {\n",
       "  /* draw centered vertical line to link estimators */\n",
       "  background-image: linear-gradient(var(--sklearn-color-text-on-default-background), var(--sklearn-color-text-on-default-background));\n",
       "  background-size: 2px 100%;\n",
       "  background-repeat: no-repeat;\n",
       "  background-position: center center;\n",
       "}\n",
       "\n",
       "/* Parallel-specific style estimator block */\n",
       "\n",
       "#sk-container-id-2 div.sk-parallel-item::after {\n",
       "  content: \"\";\n",
       "  width: 100%;\n",
       "  border-bottom: 2px solid var(--sklearn-color-text-on-default-background);\n",
       "  flex-grow: 1;\n",
       "}\n",
       "\n",
       "#sk-container-id-2 div.sk-parallel {\n",
       "  display: flex;\n",
       "  align-items: stretch;\n",
       "  justify-content: center;\n",
       "  background-color: var(--sklearn-color-background);\n",
       "  position: relative;\n",
       "}\n",
       "\n",
       "#sk-container-id-2 div.sk-parallel-item {\n",
       "  display: flex;\n",
       "  flex-direction: column;\n",
       "}\n",
       "\n",
       "#sk-container-id-2 div.sk-parallel-item:first-child::after {\n",
       "  align-self: flex-end;\n",
       "  width: 50%;\n",
       "}\n",
       "\n",
       "#sk-container-id-2 div.sk-parallel-item:last-child::after {\n",
       "  align-self: flex-start;\n",
       "  width: 50%;\n",
       "}\n",
       "\n",
       "#sk-container-id-2 div.sk-parallel-item:only-child::after {\n",
       "  width: 0;\n",
       "}\n",
       "\n",
       "/* Serial-specific style estimator block */\n",
       "\n",
       "#sk-container-id-2 div.sk-serial {\n",
       "  display: flex;\n",
       "  flex-direction: column;\n",
       "  align-items: center;\n",
       "  background-color: var(--sklearn-color-background);\n",
       "  padding-right: 1em;\n",
       "  padding-left: 1em;\n",
       "}\n",
       "\n",
       "\n",
       "/* Toggleable style: style used for estimator/Pipeline/ColumnTransformer box that is\n",
       "clickable and can be expanded/collapsed.\n",
       "- Pipeline and ColumnTransformer use this feature and define the default style\n",
       "- Estimators will overwrite some part of the style using the `sk-estimator` class\n",
       "*/\n",
       "\n",
       "/* Pipeline and ColumnTransformer style (default) */\n",
       "\n",
       "#sk-container-id-2 div.sk-toggleable {\n",
       "  /* Default theme specific background. It is overwritten whether we have a\n",
       "  specific estimator or a Pipeline/ColumnTransformer */\n",
       "  background-color: var(--sklearn-color-background);\n",
       "}\n",
       "\n",
       "/* Toggleable label */\n",
       "#sk-container-id-2 label.sk-toggleable__label {\n",
       "  cursor: pointer;\n",
       "  display: block;\n",
       "  width: 100%;\n",
       "  margin-bottom: 0;\n",
       "  padding: 0.5em;\n",
       "  box-sizing: border-box;\n",
       "  text-align: center;\n",
       "}\n",
       "\n",
       "#sk-container-id-2 label.sk-toggleable__label-arrow:before {\n",
       "  /* Arrow on the left of the label */\n",
       "  content: \"▸\";\n",
       "  float: left;\n",
       "  margin-right: 0.25em;\n",
       "  color: var(--sklearn-color-icon);\n",
       "}\n",
       "\n",
       "#sk-container-id-2 label.sk-toggleable__label-arrow:hover:before {\n",
       "  color: var(--sklearn-color-text);\n",
       "}\n",
       "\n",
       "/* Toggleable content - dropdown */\n",
       "\n",
       "#sk-container-id-2 div.sk-toggleable__content {\n",
       "  max-height: 0;\n",
       "  max-width: 0;\n",
       "  overflow: hidden;\n",
       "  text-align: left;\n",
       "  /* unfitted */\n",
       "  background-color: var(--sklearn-color-unfitted-level-0);\n",
       "}\n",
       "\n",
       "#sk-container-id-2 div.sk-toggleable__content.fitted {\n",
       "  /* fitted */\n",
       "  background-color: var(--sklearn-color-fitted-level-0);\n",
       "}\n",
       "\n",
       "#sk-container-id-2 div.sk-toggleable__content pre {\n",
       "  margin: 0.2em;\n",
       "  border-radius: 0.25em;\n",
       "  color: var(--sklearn-color-text);\n",
       "  /* unfitted */\n",
       "  background-color: var(--sklearn-color-unfitted-level-0);\n",
       "}\n",
       "\n",
       "#sk-container-id-2 div.sk-toggleable__content.fitted pre {\n",
       "  /* unfitted */\n",
       "  background-color: var(--sklearn-color-fitted-level-0);\n",
       "}\n",
       "\n",
       "#sk-container-id-2 input.sk-toggleable__control:checked~div.sk-toggleable__content {\n",
       "  /* Expand drop-down */\n",
       "  max-height: 200px;\n",
       "  max-width: 100%;\n",
       "  overflow: auto;\n",
       "}\n",
       "\n",
       "#sk-container-id-2 input.sk-toggleable__control:checked~label.sk-toggleable__label-arrow:before {\n",
       "  content: \"▾\";\n",
       "}\n",
       "\n",
       "/* Pipeline/ColumnTransformer-specific style */\n",
       "\n",
       "#sk-container-id-2 div.sk-label input.sk-toggleable__control:checked~label.sk-toggleable__label {\n",
       "  color: var(--sklearn-color-text);\n",
       "  background-color: var(--sklearn-color-unfitted-level-2);\n",
       "}\n",
       "\n",
       "#sk-container-id-2 div.sk-label.fitted input.sk-toggleable__control:checked~label.sk-toggleable__label {\n",
       "  background-color: var(--sklearn-color-fitted-level-2);\n",
       "}\n",
       "\n",
       "/* Estimator-specific style */\n",
       "\n",
       "/* Colorize estimator box */\n",
       "#sk-container-id-2 div.sk-estimator input.sk-toggleable__control:checked~label.sk-toggleable__label {\n",
       "  /* unfitted */\n",
       "  background-color: var(--sklearn-color-unfitted-level-2);\n",
       "}\n",
       "\n",
       "#sk-container-id-2 div.sk-estimator.fitted input.sk-toggleable__control:checked~label.sk-toggleable__label {\n",
       "  /* fitted */\n",
       "  background-color: var(--sklearn-color-fitted-level-2);\n",
       "}\n",
       "\n",
       "#sk-container-id-2 div.sk-label label.sk-toggleable__label,\n",
       "#sk-container-id-2 div.sk-label label {\n",
       "  /* The background is the default theme color */\n",
       "  color: var(--sklearn-color-text-on-default-background);\n",
       "}\n",
       "\n",
       "/* On hover, darken the color of the background */\n",
       "#sk-container-id-2 div.sk-label:hover label.sk-toggleable__label {\n",
       "  color: var(--sklearn-color-text);\n",
       "  background-color: var(--sklearn-color-unfitted-level-2);\n",
       "}\n",
       "\n",
       "/* Label box, darken color on hover, fitted */\n",
       "#sk-container-id-2 div.sk-label.fitted:hover label.sk-toggleable__label.fitted {\n",
       "  color: var(--sklearn-color-text);\n",
       "  background-color: var(--sklearn-color-fitted-level-2);\n",
       "}\n",
       "\n",
       "/* Estimator label */\n",
       "\n",
       "#sk-container-id-2 div.sk-label label {\n",
       "  font-family: monospace;\n",
       "  font-weight: bold;\n",
       "  display: inline-block;\n",
       "  line-height: 1.2em;\n",
       "}\n",
       "\n",
       "#sk-container-id-2 div.sk-label-container {\n",
       "  text-align: center;\n",
       "}\n",
       "\n",
       "/* Estimator-specific */\n",
       "#sk-container-id-2 div.sk-estimator {\n",
       "  font-family: monospace;\n",
       "  border: 1px dotted var(--sklearn-color-border-box);\n",
       "  border-radius: 0.25em;\n",
       "  box-sizing: border-box;\n",
       "  margin-bottom: 0.5em;\n",
       "  /* unfitted */\n",
       "  background-color: var(--sklearn-color-unfitted-level-0);\n",
       "}\n",
       "\n",
       "#sk-container-id-2 div.sk-estimator.fitted {\n",
       "  /* fitted */\n",
       "  background-color: var(--sklearn-color-fitted-level-0);\n",
       "}\n",
       "\n",
       "/* on hover */\n",
       "#sk-container-id-2 div.sk-estimator:hover {\n",
       "  /* unfitted */\n",
       "  background-color: var(--sklearn-color-unfitted-level-2);\n",
       "}\n",
       "\n",
       "#sk-container-id-2 div.sk-estimator.fitted:hover {\n",
       "  /* fitted */\n",
       "  background-color: var(--sklearn-color-fitted-level-2);\n",
       "}\n",
       "\n",
       "/* Specification for estimator info (e.g. \"i\" and \"?\") */\n",
       "\n",
       "/* Common style for \"i\" and \"?\" */\n",
       "\n",
       ".sk-estimator-doc-link,\n",
       "a:link.sk-estimator-doc-link,\n",
       "a:visited.sk-estimator-doc-link {\n",
       "  float: right;\n",
       "  font-size: smaller;\n",
       "  line-height: 1em;\n",
       "  font-family: monospace;\n",
       "  background-color: var(--sklearn-color-background);\n",
       "  border-radius: 1em;\n",
       "  height: 1em;\n",
       "  width: 1em;\n",
       "  text-decoration: none !important;\n",
       "  margin-left: 1ex;\n",
       "  /* unfitted */\n",
       "  border: var(--sklearn-color-unfitted-level-1) 1pt solid;\n",
       "  color: var(--sklearn-color-unfitted-level-1);\n",
       "}\n",
       "\n",
       ".sk-estimator-doc-link.fitted,\n",
       "a:link.sk-estimator-doc-link.fitted,\n",
       "a:visited.sk-estimator-doc-link.fitted {\n",
       "  /* fitted */\n",
       "  border: var(--sklearn-color-fitted-level-1) 1pt solid;\n",
       "  color: var(--sklearn-color-fitted-level-1);\n",
       "}\n",
       "\n",
       "/* On hover */\n",
       "div.sk-estimator:hover .sk-estimator-doc-link:hover,\n",
       ".sk-estimator-doc-link:hover,\n",
       "div.sk-label-container:hover .sk-estimator-doc-link:hover,\n",
       ".sk-estimator-doc-link:hover {\n",
       "  /* unfitted */\n",
       "  background-color: var(--sklearn-color-unfitted-level-3);\n",
       "  color: var(--sklearn-color-background);\n",
       "  text-decoration: none;\n",
       "}\n",
       "\n",
       "div.sk-estimator.fitted:hover .sk-estimator-doc-link.fitted:hover,\n",
       ".sk-estimator-doc-link.fitted:hover,\n",
       "div.sk-label-container:hover .sk-estimator-doc-link.fitted:hover,\n",
       ".sk-estimator-doc-link.fitted:hover {\n",
       "  /* fitted */\n",
       "  background-color: var(--sklearn-color-fitted-level-3);\n",
       "  color: var(--sklearn-color-background);\n",
       "  text-decoration: none;\n",
       "}\n",
       "\n",
       "/* Span, style for the box shown on hovering the info icon */\n",
       ".sk-estimator-doc-link span {\n",
       "  display: none;\n",
       "  z-index: 9999;\n",
       "  position: relative;\n",
       "  font-weight: normal;\n",
       "  right: .2ex;\n",
       "  padding: .5ex;\n",
       "  margin: .5ex;\n",
       "  width: min-content;\n",
       "  min-width: 20ex;\n",
       "  max-width: 50ex;\n",
       "  color: var(--sklearn-color-text);\n",
       "  box-shadow: 2pt 2pt 4pt #999;\n",
       "  /* unfitted */\n",
       "  background: var(--sklearn-color-unfitted-level-0);\n",
       "  border: .5pt solid var(--sklearn-color-unfitted-level-3);\n",
       "}\n",
       "\n",
       ".sk-estimator-doc-link.fitted span {\n",
       "  /* fitted */\n",
       "  background: var(--sklearn-color-fitted-level-0);\n",
       "  border: var(--sklearn-color-fitted-level-3);\n",
       "}\n",
       "\n",
       ".sk-estimator-doc-link:hover span {\n",
       "  display: block;\n",
       "}\n",
       "\n",
       "/* \"?\"-specific style due to the `<a>` HTML tag */\n",
       "\n",
       "#sk-container-id-2 a.estimator_doc_link {\n",
       "  float: right;\n",
       "  font-size: 1rem;\n",
       "  line-height: 1em;\n",
       "  font-family: monospace;\n",
       "  background-color: var(--sklearn-color-background);\n",
       "  border-radius: 1rem;\n",
       "  height: 1rem;\n",
       "  width: 1rem;\n",
       "  text-decoration: none;\n",
       "  /* unfitted */\n",
       "  color: var(--sklearn-color-unfitted-level-1);\n",
       "  border: var(--sklearn-color-unfitted-level-1) 1pt solid;\n",
       "}\n",
       "\n",
       "#sk-container-id-2 a.estimator_doc_link.fitted {\n",
       "  /* fitted */\n",
       "  border: var(--sklearn-color-fitted-level-1) 1pt solid;\n",
       "  color: var(--sklearn-color-fitted-level-1);\n",
       "}\n",
       "\n",
       "/* On hover */\n",
       "#sk-container-id-2 a.estimator_doc_link:hover {\n",
       "  /* unfitted */\n",
       "  background-color: var(--sklearn-color-unfitted-level-3);\n",
       "  color: var(--sklearn-color-background);\n",
       "  text-decoration: none;\n",
       "}\n",
       "\n",
       "#sk-container-id-2 a.estimator_doc_link.fitted:hover {\n",
       "  /* fitted */\n",
       "  background-color: var(--sklearn-color-fitted-level-3);\n",
       "}\n",
       "</style><div id=\"sk-container-id-2\" class=\"sk-top-container\"><div class=\"sk-text-repr-fallback\"><pre>LogisticRegression(random_state=0)</pre><b>In a Jupyter environment, please rerun this cell to show the HTML representation or trust the notebook. <br />On GitHub, the HTML representation is unable to render, please try loading this page with nbviewer.org.</b></div><div class=\"sk-container\" hidden><div class=\"sk-item\"><div class=\"sk-estimator fitted sk-toggleable\"><input class=\"sk-toggleable__control sk-hidden--visually\" id=\"sk-estimator-id-2\" type=\"checkbox\" checked><label for=\"sk-estimator-id-2\" class=\"sk-toggleable__label fitted sk-toggleable__label-arrow fitted\">&nbsp;&nbsp;LogisticRegression<a class=\"sk-estimator-doc-link fitted\" rel=\"noreferrer\" target=\"_blank\" href=\"https://scikit-learn.org/1.5/modules/generated/sklearn.linear_model.LogisticRegression.html\">?<span>Documentation for LogisticRegression</span></a><span class=\"sk-estimator-doc-link fitted\">i<span>Fitted</span></span></label><div class=\"sk-toggleable__content fitted\"><pre>LogisticRegression(random_state=0)</pre></div> </div></div></div></div>"
      ],
      "text/plain": [
       "LogisticRegression(random_state=0)"
      ]
     },
     "execution_count": 68,
     "metadata": {},
     "output_type": "execute_result"
    }
   ],
   "source": [
    "model = LogisticRegression(random_state=0, fit_intercept = True)\n",
    "model.fit(X, y) "
   ]
  },
  {
   "cell_type": "markdown",
   "metadata": {},
   "source": [
    "random_state=0 : 모델의 결과가 실행 시마다 동일하게 나오도록 난수 생성.\n",
    "fit_intercept=True : 절편(Intercept, 즉 y축과 만나는 점)을 학습에 포함."
   ]
  },
  {
   "cell_type": "code",
   "execution_count": 70,
   "metadata": {
    "colab": {
     "base_uri": "https://localhost:8080/"
    },
    "id": "E8ryR1wkIxR-",
    "outputId": "4f3552fd-5f14-4c80-f425-cb1599aeb579"
   },
   "outputs": [
    {
     "name": "stdout",
     "output_type": "stream",
     "text": [
      "Intercept: [-17.61899536]\n",
      "Coefficient: [[0.01779148 0.83600729 0.87068427]]\n"
     ]
    }
   ],
   "source": [
    "#절편\n",
    "print('Intercept:', model.intercept_)\n",
    "#기울기\n",
    "print('Coefficient:', model.coef_)"
   ]
  },
  {
   "cell_type": "code",
   "execution_count": 71,
   "metadata": {
    "colab": {
     "base_uri": "https://localhost:8080/"
    },
    "id": "BHzM6di2I4Mn",
    "outputId": "7532f9a2-95b5-4440-bc29-cfeedab82a08"
   },
   "outputs": [
    {
     "name": "stdout",
     "output_type": "stream",
     "text": [
      "Intercept: -17.6190\n",
      "Coefficient: 0.0178, 0.8360, 0.8707\n"
     ]
    }
   ],
   "source": [
    "#4번째 자리까지 출력\n",
    "#절편\n",
    "print('Intercept: {:.4f}'.format(model.intercept_[0]))\n",
    "#기울기\n",
    "print('Coefficient: {:.4f}, {:.4f}, {:.4f}'.format(model.coef_[0][0], model.coef_[0][1], model.coef_[0][2]))"
   ]
  },
  {
   "cell_type": "code",
   "execution_count": 72,
   "metadata": {
    "colab": {
     "base_uri": "https://localhost:8080/"
    },
    "id": "GiKgk5IbJlwD",
    "outputId": "579e15b2-af10-45a3-d97b-1fbe4972ad64"
   },
   "outputs": [
    {
     "name": "stdout",
     "output_type": "stream",
     "text": [
      "   gmat  gpa  work_experience\n",
      "0   590    2                3\n"
     ]
    },
    {
     "data": {
      "text/plain": [
       "array([[0.94469256, 0.05530744]])"
      ]
     },
     "execution_count": 72,
     "metadata": {},
     "output_type": "execute_result"
    }
   ],
   "source": [
    "new_candidates = {'gmat': [590],\n",
    "                  'gpa': [2],\n",
    "                  'work_experience': [3]\n",
    "                  }\n",
    "df2 = pd.DataFrame(new_candidates)\n",
    "print(df2)\n",
    "\n",
    "model.predict_proba(df2)"
   ]
  },
  {
   "cell_type": "markdown",
   "metadata": {},
   "source": [
    "df2 데이터가 불합격할 확률 : 0.94469256\n",
    "반대로 합격할 확률 : 0.05530744"
   ]
  },
  {
   "cell_type": "code",
   "execution_count": 75,
   "metadata": {
    "colab": {
     "base_uri": "https://localhost:8080/"
    },
    "id": "h7hixinIJsE4",
    "outputId": "30c97083-21eb-4b97-d573-2e69527133bf"
   },
   "outputs": [
    {
     "data": {
      "text/plain": [
       "array([0], dtype=int64)"
      ]
     },
     "execution_count": 75,
     "metadata": {},
     "output_type": "execute_result"
    }
   ],
   "source": [
    "model.predict(df2)\n",
    "#임계값은 0.5가 디폴트 in scikit-learn"
   ]
  },
  {
   "cell_type": "markdown",
   "metadata": {},
   "source": [
    "model.predict_proba(df2)는 입력 데이터가 각 클래스에 속할 확률 반환\n",
    "model.predict(df2) 내부적으로 predict_proba로 계산된 확률 중 가장 높은 값의 클래스 반환"
   ]
  },
  {
   "cell_type": "code",
   "execution_count": 79,
   "metadata": {
    "colab": {
     "base_uri": "https://localhost:8080/"
    },
    "id": "tX6uHBO0J8VS",
    "outputId": "2088ded3-aa18-4852-8952-65e12ca64557",
    "scrolled": true
   },
   "outputs": [
    {
     "name": "stdout",
     "output_type": "stream",
     "text": [
      "   gmat  gpa  work_experience\n",
      "0   590  2.0                3\n",
      "1   740  3.7                4\n",
      "2   680  3.3                6\n",
      "3   610  2.3                1\n",
      "4   710  3.0                5\n"
     ]
    },
    {
     "data": {
      "text/plain": [
       "array([0, 1, 1, 0, 1], dtype=int64)"
      ]
     },
     "execution_count": 79,
     "metadata": {},
     "output_type": "execute_result"
    }
   ],
   "source": [
    "new_candidates = { 'gmat': [590,740,680,610,710],\n",
    "                  'gpa': [2,3.7,3.3,2.3,3],\n",
    "                  'work_experience': [3,4,6,1,5]\n",
    "                  }\n",
    "df2 = pd.DataFrame(new_candidates)\n",
    "print(df2)\n",
    "\n",
    "model.predict(df2)"
   ]
  },
  {
   "cell_type": "markdown",
   "metadata": {},
   "source": [
    "관측치가 여러개라면 model.predict(df2)는 리스트 형태로 변환"
   ]
  },
  {
   "cell_type": "markdown",
   "metadata": {
    "id": "rzjOcl_-KVWT"
   },
   "source": [
    "2) 파이토치를 이용한 머신러닝"
   ]
  },
  {
   "cell_type": "code",
   "execution_count": 82,
   "metadata": {
    "colab": {
     "base_uri": "https://localhost:8080/"
    },
    "id": "M3_Ain58KCFq",
    "outputId": "1f2f37e3-9af8-413f-f8b7-89329462ae98"
   },
   "outputs": [
    {
     "name": "stdout",
     "output_type": "stream",
     "text": [
      "(30, 3)\n",
      "(30,)\n"
     ]
    }
   ],
   "source": [
    "df = pd.read_csv('student_admission_train.csv', index_col = 0)\n",
    "\n",
    "X = df.drop('admitted' , axis = 1).values #independent Feature\n",
    "y = df['admitted'].values #dependent Feature\n",
    "print(X.shape)\n",
    "print(y.shape)"
   ]
  },
  {
   "cell_type": "code",
   "execution_count": 83,
   "metadata": {
    "colab": {
     "base_uri": "https://localhost:8080/"
    },
    "id": "Xd5DRvsHKhj_",
    "outputId": "dbc45505-85b3-4f0f-8c50-9aa69b4ffb45"
   },
   "outputs": [
    {
     "name": "stdout",
     "output_type": "stream",
     "text": [
      "epoch= 1000 a= [[-0.01169533]\n",
      " [ 1.9504068 ]\n",
      " [ 1.0378832 ]] b= [-2.3987286] loss= 0.3374268\n",
      "epoch= 2000 a= [[-0.01215907]\n",
      " [ 3.0220308 ]\n",
      " [ 1.0444837 ]] b= [-5.6585793] loss= 0.2865036\n",
      "epoch= 3000 a= [[-0.00905306]\n",
      " [ 3.339009  ]\n",
      " [ 1.0350251 ]] b= [-8.757873] loss= 0.26448804\n",
      "epoch= 4000 a= [[-0.00569269]\n",
      " [ 3.3631778 ]\n",
      " [ 1.021436  ]] b= [-11.046716] loss= 0.2549835\n",
      "epoch= 5000 a= [[-2.1919976e-03]\n",
      " [ 3.3428140e+00]\n",
      " [ 1.0121241e+00]] b= [-12.677419] loss= 0.25933063\n",
      "epoch= 6000 a= [[-1.3391834e-03]\n",
      " [ 3.3282416e+00]\n",
      " [ 1.0074722e+00]] b= [-13.817789] loss= 0.24887177\n",
      "epoch= 7000 a= [[-4.1423918e-05]\n",
      " [ 3.3234074e+00]\n",
      " [ 1.0082692e+00]] b= [-14.611864] loss= 0.24805236\n",
      "epoch= 8000 a= [[6.9875485e-04]\n",
      " [3.3230114e+00]\n",
      " [1.0039994e+00]] b= [-15.16187] loss= 0.24763002\n",
      "epoch= 9000 a= [[1.0521107e-03]\n",
      " [3.3246987e+00]\n",
      " [1.0062765e+00]] b= [-15.542993] loss= 0.24849261\n",
      "epoch= 10000 a= [[1.6404578e-03]\n",
      " [3.3267021e+00]\n",
      " [1.0027853e+00]] b= [-15.806049] loss= 0.24737473\n"
     ]
    }
   ],
   "source": [
    "import torch \n",
    "from torch import sigmoid\n",
    "import torch.nn.functional as F\n",
    "\n",
    "device = torch.device(\"cuda\" if torch.cuda.is_available() else \"cpu\")\n",
    "\n",
    "X_tensor = torch.FloatTensor(X).to(device)\n",
    "y_tensor = torch.FloatTensor(y).view(-1,1).to(device)\n",
    "\n",
    "torch.manual_seed(1)\n",
    "\n",
    "W = torch.zeros((3, 1), device=device, requires_grad=True)\n",
    "b = torch.zeros(1, device=device, requires_grad=True)\n",
    "\n",
    "learning_rate = 0.01\n",
    "optimizer=torch.optim.Adam([W,b],lr=learning_rate)\n",
    "epochs=10000\n",
    "\n",
    "for epoch in range(epochs):\n",
    "    y_pred = torch.sigmoid(X_tensor.matmul(W)+ b).to(device)\n",
    "    #y_pred = torch.sigmoid(torch.matmul(X_tensor, W)+ b)     \n",
    "    #loss = F.binary_cross_entropy(y_pred, y_tensor)\n",
    "    loss = -(y_tensor * torch.log(y_pred) + \n",
    "             (1 - y_tensor) * torch.log(1 - y_pred)).mean()\n",
    "\n",
    "    optimizer.zero_grad()\n",
    "    loss.backward()\n",
    "    optimizer.step()\n",
    "   \n",
    "    if (epoch+1) % 1000 == 0:\n",
    "        print('epoch=',epoch+1, 'a=',W.detach().cpu().numpy(),\n",
    "              'b=',b.detach().cpu().numpy(),'loss=',loss.detach().cpu().numpy())"
   ]
  },
  {
   "attachments": {},
   "cell_type": "markdown",
   "metadata": {},
   "source": [
    "import torch \n",
    "from torch import sigmoid\n",
    "import torch.nn.functional as F \n",
    "device = torch.device(\"cuda\" if torch.cuda.is_available() else \"cpu\") \n",
    "# 라이브러리 및 장치 설정\n",
    "- device : GPU 사용 가능 여부 확인 후 장치 설정\n",
    "  \n",
    "\n",
    "X_tensor = torch.FloatTensor(X).to(device)\n",
    "y_tensor = torch.FloatTensor(y).view(-1,1).to(device)\n",
    "\n",
    "# 데이터 텐서 변환 \n",
    "- 입력 데이터(x)와 타겟(y)를 FloatTensor로 변환 후 G화PU로 이동.\n",
    "- view (-1, 1) : y를 2D 텐서로 변환. 첫 번째 차원의 길이는 파이토치가 변환. 두 번째 차원의 길이는 1\n",
    "\n",
    "\n",
    "torch.manual_seed(1)\n",
    "\n",
    "W = torch.zeros((3, 1), device=device, requires_grad=True)\n",
    "b = torch.zeros(1, device=device, requires_grad=True)\n",
    "\n",
    "# 가중치 초기화\n",
    "manual_seed(1): 재현성을 위한 난수 시드 고정\n",
    "\n",
    "W (가중치): 크기 (3, 1)의 0 텐서, 그래디언트 추적 활성화\n",
    "\n",
    "b (편향): 크기 1의 0 텐서, 그래디언트 추적 활성화\n",
    "\n",
    "\n",
    "learning_rate = 0.01\n",
    "optimizer = torch.optim.Adam([W,b], lr=learning_rate)\n",
    "epochs = 10000\n",
    "\n",
    "# 옵티마이저 설정\n",
    "Adam 옵티마이저를 사용하여 W와 b를 최적화\n",
    "\n",
    "학습률(lr)은 0.01, 총 에포크는 10,000회\n",
    "\n",
    "\n",
    "for epoch in range(epochs):\n",
    "    y_pred = torch.sigmoid(X_tensor.matmul(W)+ b).to(device) \n",
    "    #y_pred = torch.sigmoid(torch.matmul(X_tensor, W)+ b)     \n",
    "    #loss = F.binary_cross_entropy(y_pred, y_tensor)\n",
    "    loss = -(y_tensor * torch.log(y_pred) + \n",
    "             (1 - y_tensor) * torch.log(1 - y_pred)).mean()\n",
    "\n",
    "    optimizer.zero_grad()\n",
    "    loss.backward()\n",
    "    optimizer.step()\n",
    "   \n",
    "    if (epoch+1) % 1000 == 0:\n",
    "        print('epoch=',epoch+1, 'a=',W.detach().cpu().numpy(),\n",
    "              'b=',b.detach().cpu().numpy(),'loss=',loss.detach().cpu().numpy())\n",
    "              \n",
    "# 학습 루프\n",
    "\n",
    "예측값 계산\n",
    "y_pred = torch.sigmoid(X_tensor.matmul(W) + b)\n",
    "\n",
    "- X_tensor.matmul(W): 입력과 가중치의 행렬 곱 (선형 결합)\n",
    "\n",
    "- sigmoid: 선형 결과를 0~1 확률로 변환\n",
    "\n",
    "\n",
    "손실 함수\n",
    "-(y_tensor * log(y_pred) + (1 - y_tensor) * log(1 - y_pred)).mean()\n",
    "\n",
    "- 이진 교차 엔트로피(Binary Cross Entropy)를 수동으로 구현\n",
    "\n",
    "\n",
    "\n",
    "역전파\n",
    "\n",
    "- zero_grad(): 그래디언트 초기화\n",
    "\n",
    "- backward(): 손실에 대한 그래디언트 계산\n",
    "\n",
    "- step(): 옵티마이저로 가중치 업데이트\n",
    "\n",
    "\n"
   ]
  },
  {
   "cell_type": "code",
   "execution_count": 85,
   "metadata": {
    "colab": {
     "base_uri": "https://localhost:8080/"
    },
    "id": "AZuDQ8SvL5Eb",
    "outputId": "6ab53274-c491-472d-ced0-ea529d514007"
   },
   "outputs": [
    {
     "name": "stdout",
     "output_type": "stream",
     "text": [
      "   gmat  gpa  work_experience\n",
      "0   590    2                3\n",
      "tensor([[590.,   2.,   3.]])\n"
     ]
    }
   ],
   "source": [
    "new_candidates = {'gmat': [590],\n",
    "                  'gpa': [2],\n",
    "                  'work_experience': [3]\n",
    "                  }\n",
    "df2 = pd.DataFrame(new_candidates) # 딕셔너리 -> Pandas DataFrame\n",
    "print(df2)\n",
    "\n",
    "X = df2.values # df2.values는 DataFrame을 numpy array(2차원)로 변환.\n",
    "X_tensor = torch.FloatTensor(X).to(device) # 넘파이 배열을 파이토치의 FloatTensor로 변환 후, 변환 후 텐서를 GPU로 이동.\n",
    "print(X_tensor)"
   ]
  },
  {
   "cell_type": "code",
   "execution_count": 86,
   "metadata": {
    "colab": {
     "base_uri": "https://localhost:8080/"
    },
    "id": "XWdbt9ihMrK1",
    "outputId": "0c0f837d-12aa-4ecf-9c34-eb6220c19429"
   },
   "outputs": [
    {
     "name": "stdout",
     "output_type": "stream",
     "text": [
      "tensor([[0.0056]], grad_fn=<SigmoidBackward0>)\n",
      "tensor([[False]])\n",
      "[[0]]\n"
     ]
    }
   ],
   "source": [
    "threshold = 0.5\n",
    "y_pred = torch.sigmoid(X_tensor.matmul(W)+ b).to(device)\n",
    "print(y_pred) \n",
    "prediction = y_pred >= torch.FloatTensor([0.5]).to(device)\n",
    "print(prediction)\n",
    "prediction = (y_pred.detach().cpu().numpy() > threshold).astype(np.int8)\n",
    "print(prediction)"
   ]
  },
  {
   "cell_type": "markdown",
   "metadata": {},
   "source": [
    "## 시그모이드 함수 적용\n",
    "threshold = 0.5\n",
    "y_pred = torch.sigmoid(X_tensor.matmul(W)+ b).to(device)\n",
    "print(y_pred) \n",
    "\n",
    "입력 데이터, 가중치, 편향을 선형 결합 후 시그모이드 함수 적용.\n",
    ".to(device)로 결과를 device(GPU)로 이동.\n",
    "\n",
    "## 임계값 비교(텐서 연산)\n",
    "prediction = y_pred >= torch.FloatTensor([0.5]).to(device)\n",
    "print(prediction)\n",
    "\n",
    "예측값이 0.5이상인지 비교해, 0.5 이상이면 True, 아니면 False 반환 후 결과를 device(GPU)로 이동.\n",
    "\n",
    "##  넘파이 배열로 변환 및 정수형 변환\n",
    "prediction = (y_pred.detach().cpu().numpy() > threshold).astype(np.int8)\n",
    "print(prediction)\n",
    "\n",
    ".detach()로 연산 그래프에서 분리하고, .cpu()로 CPU로 이동, .numpy()로 넘파이 배열로 변환 후 True, False를 1,0 으로 변환"
   ]
  },
  {
   "cell_type": "code",
   "execution_count": 88,
   "metadata": {
    "colab": {
     "base_uri": "https://localhost:8080/"
    },
    "id": "UiHZNEBJM6oJ",
    "outputId": "c6786d73-901a-4ca1-d4e5-c9d951129c5a"
   },
   "outputs": [
    {
     "name": "stdout",
     "output_type": "stream",
     "text": [
      "   gmat  gpa  work_experience\n",
      "0   590  2.0                3\n",
      "1   740  3.7                4\n",
      "2   680  3.3                6\n",
      "3   610  2.3                1\n",
      "4   710  3.0                5\n",
      "tensor([[590.0000,   2.0000,   3.0000],\n",
      "        [740.0000,   3.7000,   4.0000],\n",
      "        [680.0000,   3.3000,   6.0000],\n",
      "        [610.0000,   2.3000,   1.0000],\n",
      "        [710.0000,   3.0000,   5.0000]])\n"
     ]
    }
   ],
   "source": [
    "new_candidates = { 'gmat': [590,740,680,610,710],\n",
    "                  'gpa': [2,3.7,3.3,2.3,3],\n",
    "                  'work_experience': [3,4,6,1,5]\n",
    "                  }\n",
    "df2 = pd.DataFrame(new_candidates)\n",
    "print(df2)\n",
    "\n",
    "X = df2.values\n",
    "X_tensor = torch.FloatTensor(X).to(device)\n",
    "print(X_tensor)"
   ]
  },
  {
   "cell_type": "markdown",
   "metadata": {},
   "source": [
    "딕셔너리형에서 pandas DataFrame으로, 다시 torch의 FloatTensor로 변환."
   ]
  },
  {
   "cell_type": "code",
   "execution_count": 90,
   "metadata": {
    "colab": {
     "base_uri": "https://localhost:8080/"
    },
    "id": "gpQ2K9QmM9I2",
    "outputId": "74de8583-65b5-4222-cafc-0d82b82d8176",
    "scrolled": true
   },
   "outputs": [
    {
     "name": "stdout",
     "output_type": "stream",
     "text": [
      "tensor([[0.0056],\n",
      "        [0.8491],\n",
      "        [0.9092],\n",
      "        [0.0021],\n",
      "        [0.5873]], grad_fn=<SigmoidBackward0>)\n",
      "tensor([[False],\n",
      "        [ True],\n",
      "        [ True],\n",
      "        [False],\n",
      "        [ True]])\n",
      "[[0]\n",
      " [1]\n",
      " [1]\n",
      " [0]\n",
      " [1]]\n"
     ]
    }
   ],
   "source": [
    "y_pred = torch.sigmoid(X_tensor.matmul(W)+ b).to(device)\n",
    "print(y_pred)\n",
    "prediction = y_pred >= torch.FloatTensor([0.5]).to(device)\n",
    "print(prediction)\n",
    "prediction = (y_pred.detach().cpu().numpy() > threshold).astype(np.int8) \n",
    "print(prediction)"
   ]
  },
  {
   "cell_type": "markdown",
   "metadata": {},
   "source": [
    "시그모이드 함수 적용\n",
    "y_pred = torch.sigmoid(X_tensor.matmul(W)+ b).to(device)\n",
    "print(y_pred)\n",
    "\n",
    "입력 데이터, 가중치, 편향을 선형 결합 후 시그모이드 함수 적용. .to(device)로 결과를 device(GPU)로 이동.\n",
    "\n",
    "임계값 비교(텐서 연산)¶\n",
    "prediction = y_pred >= torch.FloatTensor([0.5]).to(device)\n",
    "print(prediction)\n",
    "\n",
    "각각의 아이템에 대해 예측값이 0.5이상인지 비교해, 0.5 이상이면 True, 아니면 False 반환 후 결과를 device(GPU)로 이동.\n",
    "\n",
    "넘파이 배열로 변환 및 정수형 변환\n",
    "prediction = (y_pred.detach().cpu().numpy() > threshold).astype(np.int8) \n",
    "print(prediction)\n",
    "\n",
    ".detach()로 연산 그래프에서 분리하고, .cpu()로 CPU로 이동, .numpy()로 넘파이 배열로 변환 후 True, False를 1,0 으로 변환"
   ]
  },
  {
   "cell_type": "markdown",
   "metadata": {
    "id": "L6lw7t3MPeyr"
   },
   "source": [
    "* 크로스 엔트로피 함수"
   ]
  },
  {
   "cell_type": "code",
   "execution_count": 101,
   "metadata": {
    "colab": {
     "base_uri": "https://localhost:8080/"
    },
    "id": "2yCRm2t4NBmd",
    "outputId": "6deca2e5-bd2d-40a8-c3e3-fa49bf956f97"
   },
   "outputs": [
    {
     "name": "stdout",
     "output_type": "stream",
     "text": [
      "ce_loss : 1.058963656425476\n"
     ]
    }
   ],
   "source": [
    "import torch\n",
    "import torch.nn as nn\n",
    "\n",
    "output =torch.tensor([[0.1, 0.2, 0.6, 0.1]],dtype=torch.float)\n",
    "target = torch.tensor([2],dtype=torch.long)\n",
    "ce_loss = nn.CrossEntropyLoss()\n",
    "loss = ce_loss(output, target)\n",
    "print('ce_loss :', loss.item())"
   ]
  },
  {
   "cell_type": "markdown",
   "metadata": {},
   "source": [
    "output : 모델의 출력값 4개 클래스에 대한 예측 점수 나타내는 텐서\n",
    "\n",
    "target : 실제 정답 클래스 인덱스 담은 텐서\n",
    "\n",
    "nn.CrossEntropyLoss() : 내부적으로 softmax와 log연산 수행. 예측값과 정답간 차이 계산.\n",
    "\n",
    "loss : 예측값과 정답간 차이를 나타내는 손실값"
   ]
  },
  {
   "cell_type": "code",
   "execution_count": 103,
   "metadata": {
    "colab": {
     "base_uri": "https://localhost:8080/"
    },
    "id": "tAHF0TXBPxcr",
    "outputId": "28aa0c8c-6b13-42c2-ac8e-26ee3dd41b18"
   },
   "outputs": [
    {
     "name": "stdout",
     "output_type": "stream",
     "text": [
      "output :  tensor([[0.1000, 0.2000, 0.6000, 0.1000]])\n",
      "softmax : tensor([[0.2104, 0.2325, 0.3468, 0.2104]])\n",
      "target :  tensor([0., 0., 1., 0.])\n",
      "ce_loss : 1.0589637756347656\n"
     ]
    }
   ],
   "source": [
    "#식 직접 구현\n",
    "output =torch.tensor([[0.1, 0.2, 0.6, 0.1]],dtype=torch.float)\n",
    "target = torch.tensor([0.0, 0.0, 1.0, 0.0])\n",
    "softmax = nn.functional.softmax(output, dim=1)\n",
    "print('output : ', output)\n",
    "print('softmax :', softmax)\n",
    "print('target : ', target)\n",
    "ce_loss= -torch.sum(target*torch.log(softmax))\n",
    "print('ce_loss :', ce_loss.item())"
   ]
  },
  {
   "cell_type": "markdown",
   "metadata": {},
   "source": [
    "CrossEntropyLoss()를 직접 계산한 코드.\n",
    "output은 2D 텐서라 dim = 1\n",
    "softmax 값 -> 이것에 log 씌우고 target 곱해주기 -> 이 값들 다 더해주고 - 붙여주기."
   ]
  },
  {
   "cell_type": "code",
   "execution_count": 105,
   "metadata": {
    "colab": {
     "base_uri": "https://localhost:8080/"
    },
    "id": "jj2ayAuxP2ja",
    "outputId": "03d73a4e-2b93-442c-8b09-f29a258e29e6"
   },
   "outputs": [
    {
     "name": "stdout",
     "output_type": "stream",
     "text": [
      "bce_loss : 0.12692803144454956\n"
     ]
    }
   ],
   "source": [
    "#binary target\n",
    "output =torch.tensor([6, 4],dtype=torch.float)\n",
    "target = torch.tensor([1.0, 0.0])\n",
    "softmax = nn.functional.softmax(output, dim=0)\n",
    "bce_loss = nn.BCELoss()\n",
    "loss = bce_loss(softmax, target)\n",
    "print('bce_loss :', loss.item())"
   ]
  },
  {
   "cell_type": "markdown",
   "metadata": {},
   "source": [
    "이진 분류\n",
    "\n",
    "output은 1D 텐서라 dim = 1은 오류 발생.\n",
    "\n",
    "functional.softmax()에서 dim = 0은 벡터 전체를 softmax 처리하겠다는 뜻,\n",
    "\n",
    "BCELoss는 독립적인 이진 분류에 적합한 손실 함수. 때문에 softmax와 같이 쓰게 되면 부정확해진다.\n"
   ]
  },
  {
   "cell_type": "code",
   "execution_count": 107,
   "metadata": {
    "colab": {
     "base_uri": "https://localhost:8080/"
    },
    "id": "x1yMx6XGRPQJ",
    "outputId": "3a25b652-2d34-4f83-a25b-ba9b523adfa4"
   },
   "outputs": [
    {
     "name": "stdout",
     "output_type": "stream",
     "text": [
      "output :  tensor([6., 4.])\n",
      "softmax : tensor([0.8808, 0.1192])\n",
      "target :  tensor([1., 0.])\n",
      "bce_loss : 0.12692806124687195\n"
     ]
    }
   ],
   "source": [
    "#직접 구현\n",
    "output =torch.tensor([6, 4],dtype=torch.float)\n",
    "target = torch.tensor([1.0, 0.0])\n",
    "softmax = nn.functional.softmax(output, dim=0)\n",
    "print('output : ', output)\n",
    "print('softmax :', softmax)\n",
    "print('target : ', target)\n",
    "bce_loss= -torch.sum(target*torch.log(softmax))\n",
    "print('bce_loss :', bce_loss.item())"
   ]
  },
  {
   "cell_type": "markdown",
   "metadata": {},
   "source": [
    "이진 분류 직접 구현.\n",
    "\n",
    "BCE Loss=−[y⋅log(p)+(1−y)⋅log(1−p)]\n",
    "\n",
    "Loss식은 위와 같다. 첫 번째 값이 1에 가까울수록 손실값이 작아진다."
   ]
  },
  {
   "cell_type": "code",
   "execution_count": 109,
   "metadata": {
    "colab": {
     "base_uri": "https://localhost:8080/"
    },
    "id": "OJEZVItdRTSC",
    "outputId": "555c34ea-883a-4199-a4ef-244f622b92ef"
   },
   "outputs": [
    {
     "name": "stdout",
     "output_type": "stream",
     "text": [
      "tensor([0.6614, 0.2669, 0.0617, 0.6213], requires_grad=True)\n",
      "tensor([1., 0., 0., 1.])\n",
      "sigmoid :  tensor([0.6596, 0.5663, 0.5154, 0.6505], grad_fn=<SigmoidBackward0>)\n",
      "bce_loss :  tensor(0.6015, grad_fn=<BinaryCrossEntropyBackward0>)\n"
     ]
    }
   ],
   "source": [
    "#배치 4개, 클래스 2개\n",
    "torch.manual_seed(1) # 랜덤 값 항상 동일하게 나오도록 시드 고정.\n",
    "\n",
    "m = nn.Sigmoid() \n",
    "bce_loss = nn.BCELoss() # Sigmoid()와 BCELoss()의 객체 생성\n",
    "input = torch.randn(4, requires_grad=True) # 정규분포에서 4개 값 무작위 생성, 역전파 가능.\n",
    "print(input)\n",
    "target = torch.empty(4).random_(2) # 0또는 1의 값을 무작위로 4개 생성.\n",
    "print(target)\n",
    "print('sigmoid : ', m(input)) # input을 Sigmoid로 출력.\n",
    "loss = bce_loss(m(input), target) # Sigmoid결과와 target을 비교해 평균 BCE Loss 계산.\n",
    "print('bce_loss : ', loss)"
   ]
  },
  {
   "cell_type": "code",
   "execution_count": 110,
   "metadata": {
    "colab": {
     "base_uri": "https://localhost:8080/"
    },
    "id": "pVQwLEkhSY8s",
    "outputId": "00d0da1d-a84a-43b6-8eb1-dcacee90df8f"
   },
   "outputs": [
    {
     "name": "stdout",
     "output_type": "stream",
     "text": [
      "tensor([0.6614, 0.2669, 0.0617, 0.6213], requires_grad=True)\n",
      "tensor([1., 0., 0., 1.])\n",
      "sigmoid :  tensor([0.6596, 0.5663, 0.5154, 0.6505], grad_fn=<SigmoidBackward0>)\n",
      "bce_loss :  tensor(0.6015, grad_fn=<DivBackward0>)\n"
     ]
    }
   ],
   "source": [
    "# 직접 구현\n",
    "torch.manual_seed(1) # 랜덤 값 항상 동일하게 나오도록 시드 고정.\n",
    "\n",
    "m = nn.Sigmoid()\n",
    "input = torch.randn(4, requires_grad=True) # 정규분포에서 4개 값 무작위 생성, 역전파 가능.\n",
    "print(input)\n",
    "target = torch.empty(4).random_(2) # 0또는 1의 값을 무작위로 4개 생성\n",
    "print(target)\n",
    "def BCE(input, target):\n",
    "    total_bce_loss = torch.sum(-target * torch.log(m(input)) - (1 - target) * torch.log(1 - m(input)))\n",
    "    num_of_samples = input.shape[0] # input.shape -> (4,) 이므로 input.shape[0] -> 4\n",
    "    mean_bce_loss = total_bce_loss / num_of_samples # BCE Loss=−[y⋅log(p)+(1−y)⋅log(1−p)]\n",
    "    return mean_bce_loss    \n",
    "print('sigmoid : ', m(input))\n",
    "loss = BCE(input, target)\n",
    "print('bce_loss : ', loss) # Sigmoid결과와 target을 비교해 평균 BCE Loss 계산."
   ]
  },
  {
   "cell_type": "markdown",
   "metadata": {
    "id": "TwXv6Ja1S9Y8"
   },
   "source": [
    "4.4 머신러닝을 이용한 분류모델의 성능 평가"
   ]
  },
  {
   "cell_type": "code",
   "execution_count": 112,
   "metadata": {
    "id": "Ujga4UsJSpgj"
   },
   "outputs": [],
   "source": [
    "#ROC 곡선 그리기\n",
    "fpr = np.array([1, 0.5, 0.25, 0.25, 0, 0])\n",
    "tpr = np.array([1, 1, 0.5, 0.33, 0.33, 0])"
   ]
  },
  {
   "cell_type": "code",
   "execution_count": 113,
   "metadata": {
    "colab": {
     "base_uri": "https://localhost:8080/",
     "height": 472
    },
    "id": "HxnL_mCvWCmf",
    "outputId": "bc79c7f5-86ed-4054-8868-7c3a89378c9a"
   },
   "outputs": [
    {
     "data": {
      "image/png": "[encoded data removed]",
      "text/plain": [
       "<Figure size 640x480 with 1 Axes>"
      ]
     },
     "metadata": {},
     "output_type": "display_data"
    }
   ],
   "source": [
    "import matplotlib.pyplot as plt\n",
    "plt.title('Recevier Operating Characteristic')\n",
    "plt.plot(fpr, tpr, 'b')\n",
    "plt.plot([0,1],[0,1],'r--')\n",
    "plt.xlim([-0.01,1.01])\n",
    "plt.ylim([-0.01,1.01])\n",
    "plt.xlabel('False Positive Rate')\n",
    "plt.ylabel('True Positive Rate')\n",
    "plt.show()\n",
    "\n",
    "#임계값을 더 세분하면 더 부드러운 곡선 얻을 수 있음"
   ]
  },
  {
   "cell_type": "markdown",
   "metadata": {},
   "source": [
    "Receiver Operating Characteristic(ROC)는 \"수신자 조작 특성\"을 의미하고, 분류 모델의 성능을 평가하는 그래프를 의미한다.\n",
    "\n",
    "민감도(참양성비율,TPR)와 특이도(거짓양성비율,FPR)의 관계를 시각화한 것.\n",
    "\n",
    "x축: FPR (False Positive Rate, 1 - 특이도)\n",
    "\n",
    "y축: TPR (True Positive Rate, 민감도, 재현율)\n",
    "\n",
    "이 곡선은 임계값을 바꿔가며 예측값이 얼마나 잘 맞는지, 즉 실제 양성과 음성을 얼마나 잘 구분하는지 보여준다.\n",
    "\n",
    "ROC 곡선 아래 면적(AUC, Area Under the Curve)는 모델의 종합적인 분류 성능을 하나의 숫자로 나타내며, 1에 가까울수록 더 좋은 모델."
   ]
  },
  {
   "cell_type": "code",
   "execution_count": 115,
   "metadata": {
    "colab": {
     "base_uri": "https://localhost:8080/"
    },
    "id": "vGN_uYvGWYKA",
    "outputId": "cd117d2e-b708-49ba-b3b3-8640f1addd23"
   },
   "outputs": [
    {
     "name": "stdout",
     "output_type": "stream",
     "text": [
      "FPR :  [0.  0.  0.5 0.5 1. ]\n",
      "TPR :  [0.  0.5 0.5 1.  1. ]\n",
      "thresholds : [ inf 0.8  0.4  0.35 0.1 ]\n"
     ]
    }
   ],
   "source": [
    "#scikit-learn 이용한 ROC 곡선\n",
    "from sklearn import metrics\n",
    "\n",
    "y_true = np.array([1, 1, 2, 2])\n",
    "y_score = np.array([0.1, 0.4, 0.35, 0.8])\n",
    "fpr, tpr, thresholds = metrics.roc_curve(y_true, y_score, pos_label=2)\n",
    "print(\"FPR : \", fpr)\n",
    "print(\"TPR : \", tpr)\n",
    "print(\"thresholds :\", thresholds)"
   ]
  },
  {
   "cell_type": "markdown",
   "metadata": {},
   "source": [
    "y_true: 정답 클래스 레이블. 클래스 1이 음성, 클래스 2가 양성\n",
    "\n",
    "y_score: 각 샘플에 대해 모델이 예측한 \"양성 클래스(클래스 2)\"에 대한 점수(확률 또는 신뢰도).\n",
    "점수가 높을수록 클래스 2일 가능성이 크다.\n",
    "\n",
    "metrics.roc_curve(y_true, y_score, pos_label=2)\n",
    "\n",
    "FPR (False Positive Rate): 거짓 양성 비율\n",
    "\n",
    "TPR (True Positive Rate, aka recall): 진짜 양성 비율\n",
    "\n",
    "\n",
    "thresholds: 예측 점수 임계값, ROC 곡선 그릴 때 예측 점수(y_score)의 고유값을 기준으로 자동으로 정해짐. scikit-learn의 roc_curve 함수는 y_score의 내림차순 고유값을 기준으로 threshold를 정해 각 threshold에서 양성/음성 예측 결과를 바꿔가며 FPR,TPR 게산\n",
    "\n",
    "[TPR, FPR 산식]\n",
    "\n",
    "TP : 실제 양성(클래스 2)이고, 예측도 양성(클래스 2)인 경우의 개수\n",
    "\n",
    "FN : 실제 양성(클래스 2)인데, 예측은 음성(클래스 1)인 경우의 개수\n",
    "\n",
    "FP : 실제 음성(클래스 1)인데, 예측도 양성(클래스 2)인 경우의 개수\n",
    "\n",
    "TP : 실제 음성(클래스 1)이고, 예측도 음성(클래스 1)인 경우의 개수\n",
    "\n",
    "TPR = TP / (TP + FN)\n",
    "\n",
    "FPR = FP / (FP + TN)\n",
    "\n",
    "각 임계값(thresholds)을 기준으로 예측 점수가 그 이상이면 \"양성(클래스 2)\"로 판단.\n"
   ]
  },
  {
   "cell_type": "code",
   "execution_count": 117,
   "metadata": {
    "colab": {
     "base_uri": "https://localhost:8080/",
     "height": 472
    },
    "id": "ljvb99bYW_Jj",
    "outputId": "cda8fab4-7860-488c-dd42-2322ebb92b4a"
   },
   "outputs": [
    {
     "data": {
      "image/png": "[encoded data removed]",
      "text/plain": [
       "<Figure size 640x480 with 1 Axes>"
      ]
     },
     "metadata": {},
     "output_type": "display_data"
    }
   ],
   "source": [
    "auc = metrics.roc_auc_score(y_true, y_score)\n",
    "\n",
    "plt.title('ROC curve')\n",
    "plt.plot(fpr, tpr, label=\"AUC = \"+str(auc))\n",
    "plt.legend(loc=4)\n",
    "plt.xlabel('False Positive Rate')\n",
    "plt.ylabel('True Positive Rate')\n",
    "plt.show()"
   ]
  },
  {
   "cell_type": "markdown",
   "metadata": {},
   "source": [
    "1. AUC는 곡선 아래 면적 의미, 값이 1에 가까울수록 분류 성능 우수\n",
    "2. plt.plot(fpr, tpr, label=\"AUC = \"+str(auc)) -> FPR x축, TPR y축 ROC 곡선 그리기. 범례에 AUC값 표시\n",
    "3. plt.xlabel, plt.ylabel : 각 축의 이름을 지정\n",
    "4. plt.legend(loc=4) : 범례를 그래프의 오른쪽 아래(4번 위치)에 표시\n",
    "5. plt.show() : 그래프를 화면에 출력"
   ]
  },
  {
   "cell_type": "code",
   "execution_count": 119,
   "metadata": {
    "colab": {
     "base_uri": "https://localhost:8080/"
    },
    "id": "48pF33r3XExS",
    "outputId": "c7c448f9-093d-4481-d3d9-7b5eb9d29c23"
   },
   "outputs": [
    {
     "name": "stdout",
     "output_type": "stream",
     "text": [
      "    BMI  diabetic\n",
      "0  33.6         1\n",
      "1  26.6         0\n",
      "2  28.1         0\n",
      "3  31.0         1\n",
      "4  30.5         1\n"
     ]
    }
   ],
   "source": [
    "BMI = [33.6, 26.6, 28.1, 31.0, 30.5, 25.8, 45.8, 43.3, 39.3, 29.0, ]\n",
    "diabetic = [1, 0, 0, 1, 1,  0, 1, 1, 0, 1]\n",
    "\n",
    "df = pd.DataFrame(\n",
    "    {\"BMI\": BMI, \"diabetic\": diabetic}\n",
    ")\n",
    "\n",
    "print(df.head()) #pandas DataFrame 객체 df로 데이터 저장"
   ]
  },
  {
   "cell_type": "code",
   "execution_count": 120,
   "metadata": {
    "id": "4sKiWMn7XRu_"
   },
   "outputs": [],
   "source": [
    "X = df[['BMI']]\n",
    "Y = df['diabetic'] # 종속 변수, 독립 변수 지정"
   ]
  },
  {
   "cell_type": "code",
   "execution_count": 121,
   "metadata": {
    "colab": {
     "base_uri": "https://localhost:8080/",
     "height": 75
    },
    "id": "yfUoXyO9XUcB",
    "outputId": "949de375-465e-4a28-aa93-62b89d99b78b"
   },
   "outputs": [
    {
     "data": {
      "text/html": [
       "<style>#sk-container-id-3 {\n",
       "  /* Definition of color scheme common for light and dark mode */\n",
       "  --sklearn-color-text: black;\n",
       "  --sklearn-color-line: gray;\n",
       "  /* Definition of color scheme for unfitted estimators */\n",
       "  --sklearn-color-unfitted-level-0: #fff5e6;\n",
       "  --sklearn-color-unfitted-level-1: #f6e4d2;\n",
       "  --sklearn-color-unfitted-level-2: #ffe0b3;\n",
       "  --sklearn-color-unfitted-level-3: chocolate;\n",
       "  /* Definition of color scheme for fitted estimators */\n",
       "  --sklearn-color-fitted-level-0: #f0f8ff;\n",
       "  --sklearn-color-fitted-level-1: #d4ebff;\n",
       "  --sklearn-color-fitted-level-2: #b3dbfd;\n",
       "  --sklearn-color-fitted-level-3: cornflowerblue;\n",
       "\n",
       "  /* Specific color for light theme */\n",
       "  --sklearn-color-text-on-default-background: var(--sg-text-color, var(--theme-code-foreground, var(--jp-content-font-color1, black)));\n",
       "  --sklearn-color-background: var(--sg-background-color, var(--theme-background, var(--jp-layout-color0, white)));\n",
       "  --sklearn-color-border-box: var(--sg-text-color, var(--theme-code-foreground, var(--jp-content-font-color1, black)));\n",
       "  --sklearn-color-icon: #696969;\n",
       "\n",
       "  @media (prefers-color-scheme: dark) {\n",
       "    /* Redefinition of color scheme for dark theme */\n",
       "    --sklearn-color-text-on-default-background: var(--sg-text-color, var(--theme-code-foreground, var(--jp-content-font-color1, white)));\n",
       "    --sklearn-color-background: var(--sg-background-color, var(--theme-background, var(--jp-layout-color0, #111)));\n",
       "    --sklearn-color-border-box: var(--sg-text-color, var(--theme-code-foreground, var(--jp-content-font-color1, white)));\n",
       "    --sklearn-color-icon: #878787;\n",
       "  }\n",
       "}\n",
       "\n",
       "#sk-container-id-3 {\n",
       "  color: var(--sklearn-color-text);\n",
       "}\n",
       "\n",
       "#sk-container-id-3 pre {\n",
       "  padding: 0;\n",
       "}\n",
       "\n",
       "#sk-container-id-3 input.sk-hidden--visually {\n",
       "  border: 0;\n",
       "  clip: rect(1px 1px 1px 1px);\n",
       "  clip: rect(1px, 1px, 1px, 1px);\n",
       "  height: 1px;\n",
       "  margin: -1px;\n",
       "  overflow: hidden;\n",
       "  padding: 0;\n",
       "  position: absolute;\n",
       "  width: 1px;\n",
       "}\n",
       "\n",
       "#sk-container-id-3 div.sk-dashed-wrapped {\n",
       "  border: 1px dashed var(--sklearn-color-line);\n",
       "  margin: 0 0.4em 0.5em 0.4em;\n",
       "  box-sizing: border-box;\n",
       "  padding-bottom: 0.4em;\n",
       "  background-color: var(--sklearn-color-background);\n",
       "}\n",
       "\n",
       "#sk-container-id-3 div.sk-container {\n",
       "  /* jupyter's `normalize.less` sets `[hidden] { display: none; }`\n",
       "     but bootstrap.min.css set `[hidden] { display: none !important; }`\n",
       "     so we also need the `!important` here to be able to override the\n",
       "     default hidden behavior on the sphinx rendered scikit-learn.org.\n",
       "     See: https://github.com/scikit-learn/scikit-learn/issues/21755 */\n",
       "  display: inline-block !important;\n",
       "  position: relative;\n",
       "}\n",
       "\n",
       "#sk-container-id-3 div.sk-text-repr-fallback {\n",
       "  display: none;\n",
       "}\n",
       "\n",
       "div.sk-parallel-item,\n",
       "div.sk-serial,\n",
       "div.sk-item {\n",
       "  /* draw centered vertical line to link estimators */\n",
       "  background-image: linear-gradient(var(--sklearn-color-text-on-default-background), var(--sklearn-color-text-on-default-background));\n",
       "  background-size: 2px 100%;\n",
       "  background-repeat: no-repeat;\n",
       "  background-position: center center;\n",
       "}\n",
       "\n",
       "/* Parallel-specific style estimator block */\n",
       "\n",
       "#sk-container-id-3 div.sk-parallel-item::after {\n",
       "  content: \"\";\n",
       "  width: 100%;\n",
       "  border-bottom: 2px solid var(--sklearn-color-text-on-default-background);\n",
       "  flex-grow: 1;\n",
       "}\n",
       "\n",
       "#sk-container-id-3 div.sk-parallel {\n",
       "  display: flex;\n",
       "  align-items: stretch;\n",
       "  justify-content: center;\n",
       "  background-color: var(--sklearn-color-background);\n",
       "  position: relative;\n",
       "}\n",
       "\n",
       "#sk-container-id-3 div.sk-parallel-item {\n",
       "  display: flex;\n",
       "  flex-direction: column;\n",
       "}\n",
       "\n",
       "#sk-container-id-3 div.sk-parallel-item:first-child::after {\n",
       "  align-self: flex-end;\n",
       "  width: 50%;\n",
       "}\n",
       "\n",
       "#sk-container-id-3 div.sk-parallel-item:last-child::after {\n",
       "  align-self: flex-start;\n",
       "  width: 50%;\n",
       "}\n",
       "\n",
       "#sk-container-id-3 div.sk-parallel-item:only-child::after {\n",
       "  width: 0;\n",
       "}\n",
       "\n",
       "/* Serial-specific style estimator block */\n",
       "\n",
       "#sk-container-id-3 div.sk-serial {\n",
       "  display: flex;\n",
       "  flex-direction: column;\n",
       "  align-items: center;\n",
       "  background-color: var(--sklearn-color-background);\n",
       "  padding-right: 1em;\n",
       "  padding-left: 1em;\n",
       "}\n",
       "\n",
       "\n",
       "/* Toggleable style: style used for estimator/Pipeline/ColumnTransformer box that is\n",
       "clickable and can be expanded/collapsed.\n",
       "- Pipeline and ColumnTransformer use this feature and define the default style\n",
       "- Estimators will overwrite some part of the style using the `sk-estimator` class\n",
       "*/\n",
       "\n",
       "/* Pipeline and ColumnTransformer style (default) */\n",
       "\n",
       "#sk-container-id-3 div.sk-toggleable {\n",
       "  /* Default theme specific background. It is overwritten whether we have a\n",
       "  specific estimator or a Pipeline/ColumnTransformer */\n",
       "  background-color: var(--sklearn-color-background);\n",
       "}\n",
       "\n",
       "/* Toggleable label */\n",
       "#sk-container-id-3 label.sk-toggleable__label {\n",
       "  cursor: pointer;\n",
       "  display: block;\n",
       "  width: 100%;\n",
       "  margin-bottom: 0;\n",
       "  padding: 0.5em;\n",
       "  box-sizing: border-box;\n",
       "  text-align: center;\n",
       "}\n",
       "\n",
       "#sk-container-id-3 label.sk-toggleable__label-arrow:before {\n",
       "  /* Arrow on the left of the label */\n",
       "  content: \"▸\";\n",
       "  float: left;\n",
       "  margin-right: 0.25em;\n",
       "  color: var(--sklearn-color-icon);\n",
       "}\n",
       "\n",
       "#sk-container-id-3 label.sk-toggleable__label-arrow:hover:before {\n",
       "  color: var(--sklearn-color-text);\n",
       "}\n",
       "\n",
       "/* Toggleable content - dropdown */\n",
       "\n",
       "#sk-container-id-3 div.sk-toggleable__content {\n",
       "  max-height: 0;\n",
       "  max-width: 0;\n",
       "  overflow: hidden;\n",
       "  text-align: left;\n",
       "  /* unfitted */\n",
       "  background-color: var(--sklearn-color-unfitted-level-0);\n",
       "}\n",
       "\n",
       "#sk-container-id-3 div.sk-toggleable__content.fitted {\n",
       "  /* fitted */\n",
       "  background-color: var(--sklearn-color-fitted-level-0);\n",
       "}\n",
       "\n",
       "#sk-container-id-3 div.sk-toggleable__content pre {\n",
       "  margin: 0.2em;\n",
       "  border-radius: 0.25em;\n",
       "  color: var(--sklearn-color-text);\n",
       "  /* unfitted */\n",
       "  background-color: var(--sklearn-color-unfitted-level-0);\n",
       "}\n",
       "\n",
       "#sk-container-id-3 div.sk-toggleable__content.fitted pre {\n",
       "  /* unfitted */\n",
       "  background-color: var(--sklearn-color-fitted-level-0);\n",
       "}\n",
       "\n",
       "#sk-container-id-3 input.sk-toggleable__control:checked~div.sk-toggleable__content {\n",
       "  /* Expand drop-down */\n",
       "  max-height: 200px;\n",
       "  max-width: 100%;\n",
       "  overflow: auto;\n",
       "}\n",
       "\n",
       "#sk-container-id-3 input.sk-toggleable__control:checked~label.sk-toggleable__label-arrow:before {\n",
       "  content: \"▾\";\n",
       "}\n",
       "\n",
       "/* Pipeline/ColumnTransformer-specific style */\n",
       "\n",
       "#sk-container-id-3 div.sk-label input.sk-toggleable__control:checked~label.sk-toggleable__label {\n",
       "  color: var(--sklearn-color-text);\n",
       "  background-color: var(--sklearn-color-unfitted-level-2);\n",
       "}\n",
       "\n",
       "#sk-container-id-3 div.sk-label.fitted input.sk-toggleable__control:checked~label.sk-toggleable__label {\n",
       "  background-color: var(--sklearn-color-fitted-level-2);\n",
       "}\n",
       "\n",
       "/* Estimator-specific style */\n",
       "\n",
       "/* Colorize estimator box */\n",
       "#sk-container-id-3 div.sk-estimator input.sk-toggleable__control:checked~label.sk-toggleable__label {\n",
       "  /* unfitted */\n",
       "  background-color: var(--sklearn-color-unfitted-level-2);\n",
       "}\n",
       "\n",
       "#sk-container-id-3 div.sk-estimator.fitted input.sk-toggleable__control:checked~label.sk-toggleable__label {\n",
       "  /* fitted */\n",
       "  background-color: var(--sklearn-color-fitted-level-2);\n",
       "}\n",
       "\n",
       "#sk-container-id-3 div.sk-label label.sk-toggleable__label,\n",
       "#sk-container-id-3 div.sk-label label {\n",
       "  /* The background is the default theme color */\n",
       "  color: var(--sklearn-color-text-on-default-background);\n",
       "}\n",
       "\n",
       "/* On hover, darken the color of the background */\n",
       "#sk-container-id-3 div.sk-label:hover label.sk-toggleable__label {\n",
       "  color: var(--sklearn-color-text);\n",
       "  background-color: var(--sklearn-color-unfitted-level-2);\n",
       "}\n",
       "\n",
       "/* Label box, darken color on hover, fitted */\n",
       "#sk-container-id-3 div.sk-label.fitted:hover label.sk-toggleable__label.fitted {\n",
       "  color: var(--sklearn-color-text);\n",
       "  background-color: var(--sklearn-color-fitted-level-2);\n",
       "}\n",
       "\n",
       "/* Estimator label */\n",
       "\n",
       "#sk-container-id-3 div.sk-label label {\n",
       "  font-family: monospace;\n",
       "  font-weight: bold;\n",
       "  display: inline-block;\n",
       "  line-height: 1.2em;\n",
       "}\n",
       "\n",
       "#sk-container-id-3 div.sk-label-container {\n",
       "  text-align: center;\n",
       "}\n",
       "\n",
       "/* Estimator-specific */\n",
       "#sk-container-id-3 div.sk-estimator {\n",
       "  font-family: monospace;\n",
       "  border: 1px dotted var(--sklearn-color-border-box);\n",
       "  border-radius: 0.25em;\n",
       "  box-sizing: border-box;\n",
       "  margin-bottom: 0.5em;\n",
       "  /* unfitted */\n",
       "  background-color: var(--sklearn-color-unfitted-level-0);\n",
       "}\n",
       "\n",
       "#sk-container-id-3 div.sk-estimator.fitted {\n",
       "  /* fitted */\n",
       "  background-color: var(--sklearn-color-fitted-level-0);\n",
       "}\n",
       "\n",
       "/* on hover */\n",
       "#sk-container-id-3 div.sk-estimator:hover {\n",
       "  /* unfitted */\n",
       "  background-color: var(--sklearn-color-unfitted-level-2);\n",
       "}\n",
       "\n",
       "#sk-container-id-3 div.sk-estimator.fitted:hover {\n",
       "  /* fitted */\n",
       "  background-color: var(--sklearn-color-fitted-level-2);\n",
       "}\n",
       "\n",
       "/* Specification for estimator info (e.g. \"i\" and \"?\") */\n",
       "\n",
       "/* Common style for \"i\" and \"?\" */\n",
       "\n",
       ".sk-estimator-doc-link,\n",
       "a:link.sk-estimator-doc-link,\n",
       "a:visited.sk-estimator-doc-link {\n",
       "  float: right;\n",
       "  font-size: smaller;\n",
       "  line-height: 1em;\n",
       "  font-family: monospace;\n",
       "  background-color: var(--sklearn-color-background);\n",
       "  border-radius: 1em;\n",
       "  height: 1em;\n",
       "  width: 1em;\n",
       "  text-decoration: none !important;\n",
       "  margin-left: 1ex;\n",
       "  /* unfitted */\n",
       "  border: var(--sklearn-color-unfitted-level-1) 1pt solid;\n",
       "  color: var(--sklearn-color-unfitted-level-1);\n",
       "}\n",
       "\n",
       ".sk-estimator-doc-link.fitted,\n",
       "a:link.sk-estimator-doc-link.fitted,\n",
       "a:visited.sk-estimator-doc-link.fitted {\n",
       "  /* fitted */\n",
       "  border: var(--sklearn-color-fitted-level-1) 1pt solid;\n",
       "  color: var(--sklearn-color-fitted-level-1);\n",
       "}\n",
       "\n",
       "/* On hover */\n",
       "div.sk-estimator:hover .sk-estimator-doc-link:hover,\n",
       ".sk-estimator-doc-link:hover,\n",
       "div.sk-label-container:hover .sk-estimator-doc-link:hover,\n",
       ".sk-estimator-doc-link:hover {\n",
       "  /* unfitted */\n",
       "  background-color: var(--sklearn-color-unfitted-level-3);\n",
       "  color: var(--sklearn-color-background);\n",
       "  text-decoration: none;\n",
       "}\n",
       "\n",
       "div.sk-estimator.fitted:hover .sk-estimator-doc-link.fitted:hover,\n",
       ".sk-estimator-doc-link.fitted:hover,\n",
       "div.sk-label-container:hover .sk-estimator-doc-link.fitted:hover,\n",
       ".sk-estimator-doc-link.fitted:hover {\n",
       "  /* fitted */\n",
       "  background-color: var(--sklearn-color-fitted-level-3);\n",
       "  color: var(--sklearn-color-background);\n",
       "  text-decoration: none;\n",
       "}\n",
       "\n",
       "/* Span, style for the box shown on hovering the info icon */\n",
       ".sk-estimator-doc-link span {\n",
       "  display: none;\n",
       "  z-index: 9999;\n",
       "  position: relative;\n",
       "  font-weight: normal;\n",
       "  right: .2ex;\n",
       "  padding: .5ex;\n",
       "  margin: .5ex;\n",
       "  width: min-content;\n",
       "  min-width: 20ex;\n",
       "  max-width: 50ex;\n",
       "  color: var(--sklearn-color-text);\n",
       "  box-shadow: 2pt 2pt 4pt #999;\n",
       "  /* unfitted */\n",
       "  background: var(--sklearn-color-unfitted-level-0);\n",
       "  border: .5pt solid var(--sklearn-color-unfitted-level-3);\n",
       "}\n",
       "\n",
       ".sk-estimator-doc-link.fitted span {\n",
       "  /* fitted */\n",
       "  background: var(--sklearn-color-fitted-level-0);\n",
       "  border: var(--sklearn-color-fitted-level-3);\n",
       "}\n",
       "\n",
       ".sk-estimator-doc-link:hover span {\n",
       "  display: block;\n",
       "}\n",
       "\n",
       "/* \"?\"-specific style due to the `<a>` HTML tag */\n",
       "\n",
       "#sk-container-id-3 a.estimator_doc_link {\n",
       "  float: right;\n",
       "  font-size: 1rem;\n",
       "  line-height: 1em;\n",
       "  font-family: monospace;\n",
       "  background-color: var(--sklearn-color-background);\n",
       "  border-radius: 1rem;\n",
       "  height: 1rem;\n",
       "  width: 1rem;\n",
       "  text-decoration: none;\n",
       "  /* unfitted */\n",
       "  color: var(--sklearn-color-unfitted-level-1);\n",
       "  border: var(--sklearn-color-unfitted-level-1) 1pt solid;\n",
       "}\n",
       "\n",
       "#sk-container-id-3 a.estimator_doc_link.fitted {\n",
       "  /* fitted */\n",
       "  border: var(--sklearn-color-fitted-level-1) 1pt solid;\n",
       "  color: var(--sklearn-color-fitted-level-1);\n",
       "}\n",
       "\n",
       "/* On hover */\n",
       "#sk-container-id-3 a.estimator_doc_link:hover {\n",
       "  /* unfitted */\n",
       "  background-color: var(--sklearn-color-unfitted-level-3);\n",
       "  color: var(--sklearn-color-background);\n",
       "  text-decoration: none;\n",
       "}\n",
       "\n",
       "#sk-container-id-3 a.estimator_doc_link.fitted:hover {\n",
       "  /* fitted */\n",
       "  background-color: var(--sklearn-color-fitted-level-3);\n",
       "}\n",
       "</style><div id=\"sk-container-id-3\" class=\"sk-top-container\"><div class=\"sk-text-repr-fallback\"><pre>LogisticRegression(random_state=0)</pre><b>In a Jupyter environment, please rerun this cell to show the HTML representation or trust the notebook. <br />On GitHub, the HTML representation is unable to render, please try loading this page with nbviewer.org.</b></div><div class=\"sk-container\" hidden><div class=\"sk-item\"><div class=\"sk-estimator fitted sk-toggleable\"><input class=\"sk-toggleable__control sk-hidden--visually\" id=\"sk-estimator-id-3\" type=\"checkbox\" checked><label for=\"sk-estimator-id-3\" class=\"sk-toggleable__label fitted sk-toggleable__label-arrow fitted\">&nbsp;&nbsp;LogisticRegression<a class=\"sk-estimator-doc-link fitted\" rel=\"noreferrer\" target=\"_blank\" href=\"https://scikit-learn.org/1.5/modules/generated/sklearn.linear_model.LogisticRegression.html\">?<span>Documentation for LogisticRegression</span></a><span class=\"sk-estimator-doc-link fitted\">i<span>Fitted</span></span></label><div class=\"sk-toggleable__content fitted\"><pre>LogisticRegression(random_state=0)</pre></div> </div></div></div></div>"
      ],
      "text/plain": [
       "LogisticRegression(random_state=0)"
      ]
     },
     "execution_count": 121,
     "metadata": {},
     "output_type": "execute_result"
    }
   ],
   "source": [
    "model = LogisticRegression(random_state = 0) \n",
    "model.fit(X,Y) # 로지스틱 회귀 실행"
   ]
  },
  {
   "cell_type": "markdown",
   "metadata": {},
   "source": [
    "model = LogisticRegression(random_state = 0)\n",
    "객체 생성 및 내부 난수 발생 시드 고정해 결과 고정.\n",
    "model.fit(X,Y)\n",
    "입력 데이터와 정답을 이용해 로지스틱 회귀 모델 학습."
   ]
  },
  {
   "cell_type": "code",
   "execution_count": 123,
   "metadata": {
    "colab": {
     "base_uri": "https://localhost:8080/"
    },
    "id": "TSWUt6GiXbfO",
    "outputId": "bf084b7e-fd88-499f-d544-f6ea1f6df164"
   },
   "outputs": [
    {
     "name": "stdout",
     "output_type": "stream",
     "text": [
      "[-4.58164432]\n",
      "[0.15420843]\n"
     ]
    }
   ],
   "source": [
    "print(model.intercept_)\n",
    "print(model.coef_[0]) # 절편 값과 계수 출력"
   ]
  },
  {
   "cell_type": "code",
   "execution_count": 124,
   "metadata": {
    "id": "dE7PuwuTXgYD"
   },
   "outputs": [],
   "source": [
    "def sigmoid(x):\n",
    "  return 1/ (1 + np.exp(-(x)))"
   ]
  },
  {
   "cell_type": "code",
   "execution_count": 125,
   "metadata": {
    "colab": {
     "base_uri": "https://localhost:8080/"
    },
    "id": "XwkiAyW-XrCV",
    "outputId": "cea59ad4-21b8-44b1-9c0a-c2f4b807a84a"
   },
   "outputs": [
    {
     "name": "stdout",
     "output_type": "stream",
     "text": [
      "        BMI\n",
      "0  0.645601\n",
      "1  0.382323\n",
      "2  0.438220\n",
      "3  0.549541\n",
      "4  0.530391\n",
      "5  0.353642\n",
      "6  0.922806\n",
      "7  0.890473\n",
      "8  0.814383\n",
      "9  0.472627\n"
     ]
    }
   ],
   "source": [
    "y_pred_prob = sigmoid(model.coef_[0]*X+model.intercept_)\n",
    "print(y_pred_prob) # 모델 학습 출력 결과를 시그모이드에 대입. 단, 행렬 곱이 아니라 model.coef_[0] 상수곱"
   ]
  },
  {
   "cell_type": "markdown",
   "metadata": {},
   "source": [
    "print(y_pred_prob) # 모델 학습 출력 결과를 시그모이드에 대입. 단, 행렬 곱이 아니라 model.coef_[0] 상수곱으로 곱해줌."
   ]
  },
  {
   "cell_type": "code",
   "execution_count": 127,
   "metadata": {
    "colab": {
     "base_uri": "https://localhost:8080/",
     "height": 490
    },
    "id": "Fvu1Tj2hXvNO",
    "outputId": "fd478724-248a-43b5-fd74-2e1102203f95",
    "scrolled": true
   },
   "outputs": [
    {
     "name": "stdout",
     "output_type": "stream",
     "text": [
      "thresholds= [       inf 0.92280631 0.8904729  0.81438323 0.47262742 0.35364236]\n"
     ]
    },
    {
     "data": {
      "image/png": "[encoded data removed]",
      "text/plain": [
       "<Figure size 640x480 with 1 Axes>"
      ]
     },
     "metadata": {},
     "output_type": "display_data"
    }
   ],
   "source": [
    "plt.title('ROC curve')\n",
    "fpr, tpr, thresholds = metrics.roc_curve(Y,  y_pred_prob)\n",
    "print('thresholds=', thresholds)\n",
    "auc = metrics.roc_auc_score(Y, y_pred_prob)\n",
    "auc = round(auc,4) \n",
    "plt.plot(fpr,tpr,label=\"auc=\"+str(auc))\n",
    "plt.legend(loc=4)\n",
    "plt.xlabel('False Positive Rate')\n",
    "plt.ylabel('True Positive Rate')\n",
    "plt.show()"
   ]
  },
  {
   "cell_type": "markdown",
   "metadata": {},
   "source": [
    "plt.title('ROC curve')\n",
    "fpr, tpr, thresholds = metrics.roc_curve(Y,  y_pred_prob)\n",
    "* ROC 곡선 데이터 계산\n",
    "print('thresholds=', thresholds)\n",
    "auc = metrics.roc_auc_score(Y, y_pred_prob)\n",
    "* 모델의 분류 성능 0~1 사이 값으로 요약. \n",
    "auc = round(auc,4)\n",
    "* 소수점 4자리로 반올림.\n",
    "plt.plot(fpr,tpr,label=\"auc=\"+str(auc))\n",
    "plt.legend(loc=4)\n",
    "* 오른쪽 아래에 배치.\n",
    "plt.xlabel('False Positive Rate')\n",
    "plt.ylabel('True Positive Rate')\n",
    "plt.show()"
   ]
  },
  {
   "cell_type": "code",
   "execution_count": 129,
   "metadata": {
    "colab": {
     "base_uri": "https://localhost:8080/",
     "height": 75
    },
    "id": "KjKuQFC4YKhU",
    "outputId": "6b8ee7f2-7b1c-4653-d73c-5700c1265f99"
   },
   "outputs": [
    {
     "data": {
      "text/html": [
       "<style>#sk-container-id-4 {\n",
       "  /* Definition of color scheme common for light and dark mode */\n",
       "  --sklearn-color-text: black;\n",
       "  --sklearn-color-line: gray;\n",
       "  /* Definition of color scheme for unfitted estimators */\n",
       "  --sklearn-color-unfitted-level-0: #fff5e6;\n",
       "  --sklearn-color-unfitted-level-1: #f6e4d2;\n",
       "  --sklearn-color-unfitted-level-2: #ffe0b3;\n",
       "  --sklearn-color-unfitted-level-3: chocolate;\n",
       "  /* Definition of color scheme for fitted estimators */\n",
       "  --sklearn-color-fitted-level-0: #f0f8ff;\n",
       "  --sklearn-color-fitted-level-1: #d4ebff;\n",
       "  --sklearn-color-fitted-level-2: #b3dbfd;\n",
       "  --sklearn-color-fitted-level-3: cornflowerblue;\n",
       "\n",
       "  /* Specific color for light theme */\n",
       "  --sklearn-color-text-on-default-background: var(--sg-text-color, var(--theme-code-foreground, var(--jp-content-font-color1, black)));\n",
       "  --sklearn-color-background: var(--sg-background-color, var(--theme-background, var(--jp-layout-color0, white)));\n",
       "  --sklearn-color-border-box: var(--sg-text-color, var(--theme-code-foreground, var(--jp-content-font-color1, black)));\n",
       "  --sklearn-color-icon: #696969;\n",
       "\n",
       "  @media (prefers-color-scheme: dark) {\n",
       "    /* Redefinition of color scheme for dark theme */\n",
       "    --sklearn-color-text-on-default-background: var(--sg-text-color, var(--theme-code-foreground, var(--jp-content-font-color1, white)));\n",
       "    --sklearn-color-background: var(--sg-background-color, var(--theme-background, var(--jp-layout-color0, #111)));\n",
       "    --sklearn-color-border-box: var(--sg-text-color, var(--theme-code-foreground, var(--jp-content-font-color1, white)));\n",
       "    --sklearn-color-icon: #878787;\n",
       "  }\n",
       "}\n",
       "\n",
       "#sk-container-id-4 {\n",
       "  color: var(--sklearn-color-text);\n",
       "}\n",
       "\n",
       "#sk-container-id-4 pre {\n",
       "  padding: 0;\n",
       "}\n",
       "\n",
       "#sk-container-id-4 input.sk-hidden--visually {\n",
       "  border: 0;\n",
       "  clip: rect(1px 1px 1px 1px);\n",
       "  clip: rect(1px, 1px, 1px, 1px);\n",
       "  height: 1px;\n",
       "  margin: -1px;\n",
       "  overflow: hidden;\n",
       "  padding: 0;\n",
       "  position: absolute;\n",
       "  width: 1px;\n",
       "}\n",
       "\n",
       "#sk-container-id-4 div.sk-dashed-wrapped {\n",
       "  border: 1px dashed var(--sklearn-color-line);\n",
       "  margin: 0 0.4em 0.5em 0.4em;\n",
       "  box-sizing: border-box;\n",
       "  padding-bottom: 0.4em;\n",
       "  background-color: var(--sklearn-color-background);\n",
       "}\n",
       "\n",
       "#sk-container-id-4 div.sk-container {\n",
       "  /* jupyter's `normalize.less` sets `[hidden] { display: none; }`\n",
       "     but bootstrap.min.css set `[hidden] { display: none !important; }`\n",
       "     so we also need the `!important` here to be able to override the\n",
       "     default hidden behavior on the sphinx rendered scikit-learn.org.\n",
       "     See: https://github.com/scikit-learn/scikit-learn/issues/21755 */\n",
       "  display: inline-block !important;\n",
       "  position: relative;\n",
       "}\n",
       "\n",
       "#sk-container-id-4 div.sk-text-repr-fallback {\n",
       "  display: none;\n",
       "}\n",
       "\n",
       "div.sk-parallel-item,\n",
       "div.sk-serial,\n",
       "div.sk-item {\n",
       "  /* draw centered vertical line to link estimators */\n",
       "  background-image: linear-gradient(var(--sklearn-color-text-on-default-background), var(--sklearn-color-text-on-default-background));\n",
       "  background-size: 2px 100%;\n",
       "  background-repeat: no-repeat;\n",
       "  background-position: center center;\n",
       "}\n",
       "\n",
       "/* Parallel-specific style estimator block */\n",
       "\n",
       "#sk-container-id-4 div.sk-parallel-item::after {\n",
       "  content: \"\";\n",
       "  width: 100%;\n",
       "  border-bottom: 2px solid var(--sklearn-color-text-on-default-background);\n",
       "  flex-grow: 1;\n",
       "}\n",
       "\n",
       "#sk-container-id-4 div.sk-parallel {\n",
       "  display: flex;\n",
       "  align-items: stretch;\n",
       "  justify-content: center;\n",
       "  background-color: var(--sklearn-color-background);\n",
       "  position: relative;\n",
       "}\n",
       "\n",
       "#sk-container-id-4 div.sk-parallel-item {\n",
       "  display: flex;\n",
       "  flex-direction: column;\n",
       "}\n",
       "\n",
       "#sk-container-id-4 div.sk-parallel-item:first-child::after {\n",
       "  align-self: flex-end;\n",
       "  width: 50%;\n",
       "}\n",
       "\n",
       "#sk-container-id-4 div.sk-parallel-item:last-child::after {\n",
       "  align-self: flex-start;\n",
       "  width: 50%;\n",
       "}\n",
       "\n",
       "#sk-container-id-4 div.sk-parallel-item:only-child::after {\n",
       "  width: 0;\n",
       "}\n",
       "\n",
       "/* Serial-specific style estimator block */\n",
       "\n",
       "#sk-container-id-4 div.sk-serial {\n",
       "  display: flex;\n",
       "  flex-direction: column;\n",
       "  align-items: center;\n",
       "  background-color: var(--sklearn-color-background);\n",
       "  padding-right: 1em;\n",
       "  padding-left: 1em;\n",
       "}\n",
       "\n",
       "\n",
       "/* Toggleable style: style used for estimator/Pipeline/ColumnTransformer box that is\n",
       "clickable and can be expanded/collapsed.\n",
       "- Pipeline and ColumnTransformer use this feature and define the default style\n",
       "- Estimators will overwrite some part of the style using the `sk-estimator` class\n",
       "*/\n",
       "\n",
       "/* Pipeline and ColumnTransformer style (default) */\n",
       "\n",
       "#sk-container-id-4 div.sk-toggleable {\n",
       "  /* Default theme specific background. It is overwritten whether we have a\n",
       "  specific estimator or a Pipeline/ColumnTransformer */\n",
       "  background-color: var(--sklearn-color-background);\n",
       "}\n",
       "\n",
       "/* Toggleable label */\n",
       "#sk-container-id-4 label.sk-toggleable__label {\n",
       "  cursor: pointer;\n",
       "  display: block;\n",
       "  width: 100%;\n",
       "  margin-bottom: 0;\n",
       "  padding: 0.5em;\n",
       "  box-sizing: border-box;\n",
       "  text-align: center;\n",
       "}\n",
       "\n",
       "#sk-container-id-4 label.sk-toggleable__label-arrow:before {\n",
       "  /* Arrow on the left of the label */\n",
       "  content: \"▸\";\n",
       "  float: left;\n",
       "  margin-right: 0.25em;\n",
       "  color: var(--sklearn-color-icon);\n",
       "}\n",
       "\n",
       "#sk-container-id-4 label.sk-toggleable__label-arrow:hover:before {\n",
       "  color: var(--sklearn-color-text);\n",
       "}\n",
       "\n",
       "/* Toggleable content - dropdown */\n",
       "\n",
       "#sk-container-id-4 div.sk-toggleable__content {\n",
       "  max-height: 0;\n",
       "  max-width: 0;\n",
       "  overflow: hidden;\n",
       "  text-align: left;\n",
       "  /* unfitted */\n",
       "  background-color: var(--sklearn-color-unfitted-level-0);\n",
       "}\n",
       "\n",
       "#sk-container-id-4 div.sk-toggleable__content.fitted {\n",
       "  /* fitted */\n",
       "  background-color: var(--sklearn-color-fitted-level-0);\n",
       "}\n",
       "\n",
       "#sk-container-id-4 div.sk-toggleable__content pre {\n",
       "  margin: 0.2em;\n",
       "  border-radius: 0.25em;\n",
       "  color: var(--sklearn-color-text);\n",
       "  /* unfitted */\n",
       "  background-color: var(--sklearn-color-unfitted-level-0);\n",
       "}\n",
       "\n",
       "#sk-container-id-4 div.sk-toggleable__content.fitted pre {\n",
       "  /* unfitted */\n",
       "  background-color: var(--sklearn-color-fitted-level-0);\n",
       "}\n",
       "\n",
       "#sk-container-id-4 input.sk-toggleable__control:checked~div.sk-toggleable__content {\n",
       "  /* Expand drop-down */\n",
       "  max-height: 200px;\n",
       "  max-width: 100%;\n",
       "  overflow: auto;\n",
       "}\n",
       "\n",
       "#sk-container-id-4 input.sk-toggleable__control:checked~label.sk-toggleable__label-arrow:before {\n",
       "  content: \"▾\";\n",
       "}\n",
       "\n",
       "/* Pipeline/ColumnTransformer-specific style */\n",
       "\n",
       "#sk-container-id-4 div.sk-label input.sk-toggleable__control:checked~label.sk-toggleable__label {\n",
       "  color: var(--sklearn-color-text);\n",
       "  background-color: var(--sklearn-color-unfitted-level-2);\n",
       "}\n",
       "\n",
       "#sk-container-id-4 div.sk-label.fitted input.sk-toggleable__control:checked~label.sk-toggleable__label {\n",
       "  background-color: var(--sklearn-color-fitted-level-2);\n",
       "}\n",
       "\n",
       "/* Estimator-specific style */\n",
       "\n",
       "/* Colorize estimator box */\n",
       "#sk-container-id-4 div.sk-estimator input.sk-toggleable__control:checked~label.sk-toggleable__label {\n",
       "  /* unfitted */\n",
       "  background-color: var(--sklearn-color-unfitted-level-2);\n",
       "}\n",
       "\n",
       "#sk-container-id-4 div.sk-estimator.fitted input.sk-toggleable__control:checked~label.sk-toggleable__label {\n",
       "  /* fitted */\n",
       "  background-color: var(--sklearn-color-fitted-level-2);\n",
       "}\n",
       "\n",
       "#sk-container-id-4 div.sk-label label.sk-toggleable__label,\n",
       "#sk-container-id-4 div.sk-label label {\n",
       "  /* The background is the default theme color */\n",
       "  color: var(--sklearn-color-text-on-default-background);\n",
       "}\n",
       "\n",
       "/* On hover, darken the color of the background */\n",
       "#sk-container-id-4 div.sk-label:hover label.sk-toggleable__label {\n",
       "  color: var(--sklearn-color-text);\n",
       "  background-color: var(--sklearn-color-unfitted-level-2);\n",
       "}\n",
       "\n",
       "/* Label box, darken color on hover, fitted */\n",
       "#sk-container-id-4 div.sk-label.fitted:hover label.sk-toggleable__label.fitted {\n",
       "  color: var(--sklearn-color-text);\n",
       "  background-color: var(--sklearn-color-fitted-level-2);\n",
       "}\n",
       "\n",
       "/* Estimator label */\n",
       "\n",
       "#sk-container-id-4 div.sk-label label {\n",
       "  font-family: monospace;\n",
       "  font-weight: bold;\n",
       "  display: inline-block;\n",
       "  line-height: 1.2em;\n",
       "}\n",
       "\n",
       "#sk-container-id-4 div.sk-label-container {\n",
       "  text-align: center;\n",
       "}\n",
       "\n",
       "/* Estimator-specific */\n",
       "#sk-container-id-4 div.sk-estimator {\n",
       "  font-family: monospace;\n",
       "  border: 1px dotted var(--sklearn-color-border-box);\n",
       "  border-radius: 0.25em;\n",
       "  box-sizing: border-box;\n",
       "  margin-bottom: 0.5em;\n",
       "  /* unfitted */\n",
       "  background-color: var(--sklearn-color-unfitted-level-0);\n",
       "}\n",
       "\n",
       "#sk-container-id-4 div.sk-estimator.fitted {\n",
       "  /* fitted */\n",
       "  background-color: var(--sklearn-color-fitted-level-0);\n",
       "}\n",
       "\n",
       "/* on hover */\n",
       "#sk-container-id-4 div.sk-estimator:hover {\n",
       "  /* unfitted */\n",
       "  background-color: var(--sklearn-color-unfitted-level-2);\n",
       "}\n",
       "\n",
       "#sk-container-id-4 div.sk-estimator.fitted:hover {\n",
       "  /* fitted */\n",
       "  background-color: var(--sklearn-color-fitted-level-2);\n",
       "}\n",
       "\n",
       "/* Specification for estimator info (e.g. \"i\" and \"?\") */\n",
       "\n",
       "/* Common style for \"i\" and \"?\" */\n",
       "\n",
       ".sk-estimator-doc-link,\n",
       "a:link.sk-estimator-doc-link,\n",
       "a:visited.sk-estimator-doc-link {\n",
       "  float: right;\n",
       "  font-size: smaller;\n",
       "  line-height: 1em;\n",
       "  font-family: monospace;\n",
       "  background-color: var(--sklearn-color-background);\n",
       "  border-radius: 1em;\n",
       "  height: 1em;\n",
       "  width: 1em;\n",
       "  text-decoration: none !important;\n",
       "  margin-left: 1ex;\n",
       "  /* unfitted */\n",
       "  border: var(--sklearn-color-unfitted-level-1) 1pt solid;\n",
       "  color: var(--sklearn-color-unfitted-level-1);\n",
       "}\n",
       "\n",
       ".sk-estimator-doc-link.fitted,\n",
       "a:link.sk-estimator-doc-link.fitted,\n",
       "a:visited.sk-estimator-doc-link.fitted {\n",
       "  /* fitted */\n",
       "  border: var(--sklearn-color-fitted-level-1) 1pt solid;\n",
       "  color: var(--sklearn-color-fitted-level-1);\n",
       "}\n",
       "\n",
       "/* On hover */\n",
       "div.sk-estimator:hover .sk-estimator-doc-link:hover,\n",
       ".sk-estimator-doc-link:hover,\n",
       "div.sk-label-container:hover .sk-estimator-doc-link:hover,\n",
       ".sk-estimator-doc-link:hover {\n",
       "  /* unfitted */\n",
       "  background-color: var(--sklearn-color-unfitted-level-3);\n",
       "  color: var(--sklearn-color-background);\n",
       "  text-decoration: none;\n",
       "}\n",
       "\n",
       "div.sk-estimator.fitted:hover .sk-estimator-doc-link.fitted:hover,\n",
       ".sk-estimator-doc-link.fitted:hover,\n",
       "div.sk-label-container:hover .sk-estimator-doc-link.fitted:hover,\n",
       ".sk-estimator-doc-link.fitted:hover {\n",
       "  /* fitted */\n",
       "  background-color: var(--sklearn-color-fitted-level-3);\n",
       "  color: var(--sklearn-color-background);\n",
       "  text-decoration: none;\n",
       "}\n",
       "\n",
       "/* Span, style for the box shown on hovering the info icon */\n",
       ".sk-estimator-doc-link span {\n",
       "  display: none;\n",
       "  z-index: 9999;\n",
       "  position: relative;\n",
       "  font-weight: normal;\n",
       "  right: .2ex;\n",
       "  padding: .5ex;\n",
       "  margin: .5ex;\n",
       "  width: min-content;\n",
       "  min-width: 20ex;\n",
       "  max-width: 50ex;\n",
       "  color: var(--sklearn-color-text);\n",
       "  box-shadow: 2pt 2pt 4pt #999;\n",
       "  /* unfitted */\n",
       "  background: var(--sklearn-color-unfitted-level-0);\n",
       "  border: .5pt solid var(--sklearn-color-unfitted-level-3);\n",
       "}\n",
       "\n",
       ".sk-estimator-doc-link.fitted span {\n",
       "  /* fitted */\n",
       "  background: var(--sklearn-color-fitted-level-0);\n",
       "  border: var(--sklearn-color-fitted-level-3);\n",
       "}\n",
       "\n",
       ".sk-estimator-doc-link:hover span {\n",
       "  display: block;\n",
       "}\n",
       "\n",
       "/* \"?\"-specific style due to the `<a>` HTML tag */\n",
       "\n",
       "#sk-container-id-4 a.estimator_doc_link {\n",
       "  float: right;\n",
       "  font-size: 1rem;\n",
       "  line-height: 1em;\n",
       "  font-family: monospace;\n",
       "  background-color: var(--sklearn-color-background);\n",
       "  border-radius: 1rem;\n",
       "  height: 1rem;\n",
       "  width: 1rem;\n",
       "  text-decoration: none;\n",
       "  /* unfitted */\n",
       "  color: var(--sklearn-color-unfitted-level-1);\n",
       "  border: var(--sklearn-color-unfitted-level-1) 1pt solid;\n",
       "}\n",
       "\n",
       "#sk-container-id-4 a.estimator_doc_link.fitted {\n",
       "  /* fitted */\n",
       "  border: var(--sklearn-color-fitted-level-1) 1pt solid;\n",
       "  color: var(--sklearn-color-fitted-level-1);\n",
       "}\n",
       "\n",
       "/* On hover */\n",
       "#sk-container-id-4 a.estimator_doc_link:hover {\n",
       "  /* unfitted */\n",
       "  background-color: var(--sklearn-color-unfitted-level-3);\n",
       "  color: var(--sklearn-color-background);\n",
       "  text-decoration: none;\n",
       "}\n",
       "\n",
       "#sk-container-id-4 a.estimator_doc_link.fitted:hover {\n",
       "  /* fitted */\n",
       "  background-color: var(--sklearn-color-fitted-level-3);\n",
       "}\n",
       "</style><div id=\"sk-container-id-4\" class=\"sk-top-container\"><div class=\"sk-text-repr-fallback\"><pre>LogisticRegression(random_state=0)</pre><b>In a Jupyter environment, please rerun this cell to show the HTML representation or trust the notebook. <br />On GitHub, the HTML representation is unable to render, please try loading this page with nbviewer.org.</b></div><div class=\"sk-container\" hidden><div class=\"sk-item\"><div class=\"sk-estimator fitted sk-toggleable\"><input class=\"sk-toggleable__control sk-hidden--visually\" id=\"sk-estimator-id-4\" type=\"checkbox\" checked><label for=\"sk-estimator-id-4\" class=\"sk-toggleable__label fitted sk-toggleable__label-arrow fitted\">&nbsp;&nbsp;LogisticRegression<a class=\"sk-estimator-doc-link fitted\" rel=\"noreferrer\" target=\"_blank\" href=\"https://scikit-learn.org/1.5/modules/generated/sklearn.linear_model.LogisticRegression.html\">?<span>Documentation for LogisticRegression</span></a><span class=\"sk-estimator-doc-link fitted\">i<span>Fitted</span></span></label><div class=\"sk-toggleable__content fitted\"><pre>LogisticRegression(random_state=0)</pre></div> </div></div></div></div>"
      ],
      "text/plain": [
       "LogisticRegression(random_state=0)"
      ]
     },
     "execution_count": 129,
     "metadata": {},
     "output_type": "execute_result"
    }
   ],
   "source": [
    "#좀 더 세련된 코드\n",
    "BMI = [33.6, 26.6, 28.1, 31.0, 30.5, 25.8, 45.8, 43.3, 39.3, 29.0, ]\n",
    "diabetic = [1, 0, 0, 1, 1,  0, 1, 1, 0, 1]\n",
    "\n",
    "df = pd.DataFrame(\n",
    "    {\"BMI\": BMI, \"diabetic\": diabetic}\n",
    ")\n",
    "#pandas DataFrame 객체 df로 데이터 저장\n",
    "X = df[['BMI']]\n",
    "Y = df['diabetic']\n",
    "# 종속 변수, 독립 변수 지정\n",
    "model = LogisticRegression(random_state=0) \n",
    "model.fit(X, Y) # 로지스틱 회귀 모델 학습"
   ]
  },
  {
   "cell_type": "markdown",
   "metadata": {},
   "source": [
    "위와 동일."
   ]
  },
  {
   "cell_type": "code",
   "execution_count": 131,
   "metadata": {
    "colab": {
     "base_uri": "https://localhost:8080/",
     "height": 633
    },
    "id": "m3hlBqzNYV5G",
    "outputId": "6a0a6152-a7d5-4334-fb31-0b16c421e495"
   },
   "outputs": [
    {
     "name": "stdout",
     "output_type": "stream",
     "text": [
      "prediced probability shape= (10, 2)\n",
      "prediced probability =\n",
      " [[0.35439886 0.64560114]\n",
      " [0.61767706 0.38232294]\n",
      " [0.56177957 0.43822043]\n",
      " [0.45045884 0.54954116]\n",
      " [0.46960932 0.53039068]]\n",
      "y=1, prediced probability = [0.64560114 0.38232294 0.43822043 0.54954116 0.53039068]\n",
      "threshold = [       inf 0.92280631 0.8904729  0.81438323 0.47262742 0.35364236]\n"
     ]
    },
    {
     "data": {
      "image/png": "[encoded data removed]",
      "text/plain": [
       "<Figure size 640x480 with 1 Axes>"
      ]
     },
     "metadata": {},
     "output_type": "display_data"
    }
   ],
   "source": [
    "plt.title('ROC curve')\n",
    "y_pred_proba = model.predict_proba(X) \n",
    "print(\"prediced probability shape=\", y_pred_proba.shape)\n",
    "print(\"prediced probability =\\n\", y_pred_proba[0:5,:])\n",
    "# 레이블 값이 1일때의 예측 확률을 추출 \n",
    "y_pred_proba = model.predict_proba(X)[:,1] # 레이블 1에 대한 확률만 추출\n",
    "print(\"y=1, prediced probability =\", y_pred_proba[0:5])\n",
    "fpr, tpr, thresholds = metrics.roc_curve(Y,  y_pred_proba)\n",
    "print(\"threshold =\", thresholds)\n",
    "auc = metrics.roc_auc_score(Y, y_pred_proba)\n",
    "auc = round(auc,4) \n",
    "plt.plot(fpr,tpr,label=\"auc=\"+str(auc))\n",
    "plt.legend(loc=4)\n",
    "plt.xlabel('False Positive Rate')\n",
    "plt.ylabel('True Positive Rate')\n",
    "plt.show()"
   ]
  },
  {
   "cell_type": "markdown",
   "metadata": {},
   "source": [
    "* model.predict_proba(X)는 각 샘플에 대해 각 클래스(0, 1)에 속할 확률을 반환.\n",
    "반환 shape은 (샘플 수, 클래스 수)\n",
    "\n",
    "* y_pred_proba = model.predict_proba(X)[:, 1]\n",
    "클래스 1에 대한 예측 확률만 추출.\n",
    "\n",
    "* fpr, tpr, thresholds = metrics.roc_curve(Y,  y_pred_proba)\n",
    "다양한 임계값(thresholds)에서 FPR, TPR, 임계값 계산.\n",
    "\n",
    "\n"
   ]
  },
  {
   "cell_type": "markdown",
   "metadata": {
    "id": "yIZqSHVEYsOt"
   },
   "source": [
    "예제 4.4"
   ]
  },
  {
   "cell_type": "code",
   "execution_count": 134,
   "metadata": {
    "id": "zwGPzJxEYr3R"
   },
   "outputs": [],
   "source": [
    "df = pd.read_csv('student_admission_train.csv', index_col = 0)\n",
    "\n",
    "X = df.drop('admitted' , axis = 1).values\n",
    "y = df['admitted'].values"
   ]
  },
  {
   "cell_type": "markdown",
   "metadata": {},
   "source": [
    "학습용 데이터 읽기, 입력(X)과 정답(y) 분리\n",
    "X : 데이터프레임에서 'admitted'라는 열을 제외하고 나머지 모든 열 NumPy 배열로 변환. axis = 1은 열 의미.\n",
    "y : 'admitted' 라는 열만 선택하고 NumPy 배열로 변환. "
   ]
  },
  {
   "cell_type": "code",
   "execution_count": 136,
   "metadata": {
    "colab": {
     "base_uri": "https://localhost:8080/"
    },
    "id": "O-4PKxsMY653",
    "outputId": "8c28b496-afb6-4e56-80d7-e5a412df6e2c"
   },
   "outputs": [
    {
     "name": "stdout",
     "output_type": "stream",
     "text": [
      "epoch= 5000 a= [[-3.0903921e-03]\n",
      " [ 3.3423519e+00]\n",
      " [ 1.0114838e+00]] b= [-12.674388] loss= 0.25076565\n",
      "epoch= 10000 a= [[1.6702518e-03]\n",
      " [3.3268459e+00]\n",
      " [1.0044203e+00]] b= [-15.805236] loss= 0.24742404\n"
     ]
    }
   ],
   "source": [
    "device = torch.device(\"cuda\" if torch.cuda.is_available() else \"cpu\")\n",
    "\n",
    "X_tensor = torch.FloatTensor(X).to(device)\n",
    "y_tensor = torch.FloatTensor(y).view(-1,1).to(device)\n",
    "\n",
    "torch.manual_seed(1)\n",
    "\n",
    "#원래는 randn 으로!\n",
    "W = torch.zeros((3, 1), device=device, requires_grad=True)\n",
    "b = torch.zeros(1, device=device, requires_grad=True)\n",
    "\n",
    "learning_rate =0.01\n",
    "optimizer=torch.optim.Adam([W,b],lr=learning_rate)\n",
    "\n",
    "epochs=10000\n",
    "for epoch in range(epochs):\n",
    "    y_pred = torch.sigmoid(X_tensor.matmul(W)+ b).to(device) \n",
    "    loss = F.binary_cross_entropy(y_pred, y_tensor)\n",
    "   \n",
    "    optimizer.zero_grad()\n",
    "    loss.backward()\n",
    "    optimizer.step()\n",
    "   \n",
    "    if (epoch+1) % 5000 == 0:\n",
    "        print('epoch=',epoch+1, 'a=',W.detach().cpu().numpy(),\n",
    "              'b=', b.detach().cpu().numpy(), 'loss=',loss.detach().cpu().numpy())"
   ]
  },
  {
   "cell_type": "markdown",
   "metadata": {},
   "source": [
    "[텐서 변환 및 장치 설정]\n",
    "\n",
    "y_tensor = torch.FloatTensor(y).view(-1,1).to(device)y \n",
    "첫 번째 차원은 자동으로, 두 번째 차원은 크기 1로.\n",
    "  \n",
    "[파라미터 및 옵티마이저 설정]\n",
    "난수 생성 시 1로 고정 -> 반복 시 동일한 결과를 얻을 수 있다.\n",
    "가중치(W) : (3,1) 크기의 0으로 채워진 텐서 생성\n",
    "편향(b) : 1 크기의 0으로 채워진 텐서 생성. \n",
    "옵티마이저로 Adam 사용.\n",
    "\n",
    "[학습 루프]\n",
    "1) 모델 출력값에 시그모이드 적용.\n",
    "2) BCE Loss 계산.\n",
    "3) 이전 학습에서 누적된 모든 파라미터의 기울기(gradient) 0으로 초기화.\n",
    "4) 역전파 단계에서 현재 손실(loss)을 기준으로, W,b 등 학습 대상 파라미터에 대한 기울기(gradient)를 자동으로 계산하고, 계산된 기울기는 각 파라미터의 .grad 속성에 저장.\n",
    "5) 계산된 기울기(gradient)를 이용해 파라미터(W,b 등)을 업데이트.\n",
    "\n",
    "5000에폭마다 중간 점검.\n",
    "\n",
    "\n",
    "  "
   ]
  },
  {
   "cell_type": "code",
   "execution_count": 138,
   "metadata": {
    "colab": {
     "base_uri": "https://localhost:8080/"
    },
    "id": "AMd8feRJZQdP",
    "outputId": "d95e764a-e27d-487d-f1c6-c18b1e704151",
    "scrolled": true
   },
   "outputs": [
    {
     "name": "stdout",
     "output_type": "stream",
     "text": [
      "tensor([[2.3211e-03],\n",
      "        [2.4249e-02],\n",
      "        [2.2948e-02],\n",
      "        [5.7832e-02],\n",
      "        [7.8820e-04],\n",
      "        [5.9715e-01],\n",
      "        [3.7115e-01],\n",
      "        [2.1851e-02],\n",
      "        [7.9104e-01],\n",
      "        [9.7626e-01]], grad_fn=<SigmoidBackward0>)\n",
      "[[0]\n",
      " [0]\n",
      " [0]\n",
      " [0]\n",
      " [0]\n",
      " [1]\n",
      " [0]\n",
      " [0]\n",
      " [1]\n",
      " [1]]\n"
     ]
    }
   ],
   "source": [
    "#성능 평가\n",
    "df2 = pd.read_csv('student_admission_test.csv', index_col = 0)\n",
    "\n",
    "X_test = df2.drop('admitted' , axis = 1).values\n",
    "y_test = df2['admitted'].values\n",
    "\n",
    "X_tensor = torch.FloatTensor(X_test).to(device)\n",
    "y_tensor = torch.FloatTensor(y_test).to(device)\n",
    "\n",
    "threshold = 0.5\n",
    "y_pred = torch.sigmoid(X_tensor.matmul(W)+ b).to(device)\n",
    "print(y_pred)\n",
    "\n",
    "prediction = (y_pred.detach().cpu().numpy() > threshold).astype(np.int8) \n",
    "print(prediction)"
   ]
  },
  {
   "cell_type": "markdown",
   "metadata": {},
   "source": [
    "임계값 0.5로 설정 후 테스트 데이터로 예측 확률 계산."
   ]
  },
  {
   "cell_type": "code",
   "execution_count": 140,
   "metadata": {
    "colab": {
     "base_uri": "https://localhost:8080/"
    },
    "id": "-jSN22SXZusj",
    "outputId": "a76ae36a-802a-4142-acda-a12b285a64ab"
   },
   "outputs": [
    {
     "name": "stdout",
     "output_type": "stream",
     "text": [
      "Confusion Matrix : \n",
      " [[6 0]\n",
      " [1 3]]\n",
      "Precision :  1.0\n",
      "Sensitivity :  0.75\n",
      "Specificity :  1.0\n",
      "Accuracy :  0.9\n"
     ]
    }
   ],
   "source": [
    "from sklearn.metrics import confusion_matrix\n",
    "# confusion matrix\n",
    "confusion_matrix = confusion_matrix(y_test, prediction)\n",
    "TN=confusion_matrix[0][0]\n",
    "FP=confusion_matrix[0][1]\n",
    "FN=confusion_matrix[1][0]\n",
    "TP=confusion_matrix[1][1]\n",
    "precision= TP/(TP+FP)\n",
    "sensitivity=TP/(TP+FN)\n",
    "specificity=TN/(FP+TN)\n",
    "accuracy=(TP+TN)/(TP+TN+FP+FN)\n",
    "print (\"Confusion Matrix : \\n\", confusion_matrix)\n",
    "print (\"Precision : \", precision)\n",
    "print (\"Sensitivity : \", sensitivity)\n",
    "print (\"Specificity : \", specificity)\n",
    "print (\"Accuracy : \", accuracy)"
   ]
  },
  {
   "cell_type": "markdown",
   "metadata": {},
   "source": [
    "# 혼동 행렬 및 평가 지표 계산\n",
    "confusion_matrix(y_test, prediction)\n",
    "실제 정답(라벨, 0 or 1)(y_test)와 모델 예측값(0 or 1)(prediction)을 비교해 혼동행렬 반환.\n",
    "Accuracy(정확도) : 전체 데이터 중에서 맞게 분류한 비율\n",
    "Precision(정밀도) : 모델이 양성(Positive)이라고 예측한 것 중 실제로 양성인 비율\n",
    "Sensitivity(민감도 or 재현율) : 실제 양성 중에서 모델이 양성이라고 맞게 예측한 비율\n",
    "Specificity(특이도) : 실제 음성 중에서 몯레이 음성이라고 맞게 예측한 비율"
   ]
  },
  {
   "cell_type": "code",
   "execution_count": 142,
   "metadata": {
    "colab": {
     "base_uri": "https://localhost:8080/"
    },
    "id": "6RaJJLaNaKHB",
    "outputId": "cee80145-31f6-46a7-c93a-5a6e6e2052b3"
   },
   "outputs": [
    {
     "name": "stdout",
     "output_type": "stream",
     "text": [
      "Accuracy : 0.9\n",
      "Precision : 1.0\n",
      "Sensitivity : 0.75\n"
     ]
    }
   ],
   "source": [
    "#sklearn.metrics 모듈에서 제공되는 함수로 구하기\n",
    "from sklearn.metrics import accuracy_score, precision_score, recall_score\n",
    "print(\"Accuracy :\",metrics.accuracy_score(y_test, prediction))\n",
    "print(\"Precision :\",metrics.precision_score(y_test, prediction))\n",
    "print(\"Sensitivity :\",metrics.recall_score(y_test, prediction))"
   ]
  },
  {
   "cell_type": "markdown",
   "metadata": {},
   "source": [
    "scikit-learn 내장 함수로 동일 지표를 확인할 수 있다."
   ]
  },
  {
   "cell_type": "code",
   "execution_count": 144,
   "metadata": {
    "colab": {
     "base_uri": "https://localhost:8080/",
     "height": 472
    },
    "id": "Ur8X3wtUaRKy",
    "outputId": "3ebc2c85-c53d-4d38-e9d0-0f0203ffd8da"
   },
   "outputs": [
    {
     "data": {
      "image/png": "[encoded data removed]",
      "text/plain": [
       "<Figure size 640x480 with 1 Axes>"
      ]
     },
     "metadata": {},
     "output_type": "display_data"
    }
   ],
   "source": [
    "fpr, tpr, _ = metrics.roc_curve(y_test, y_pred.detach().cpu().numpy())\n",
    "auc = metrics.roc_auc_score(y_test, y_pred.detach().cpu().numpy())\n",
    "plt.plot(fpr, tpr, label=\"AUC =\"+str(auc))\n",
    "plt.legend(loc=4)\n",
    "plt.title(\"ROC Curve\")\n",
    "plt.ylabel('True Positive Rate')\n",
    "plt.xlabel('False Positive Rate')\n",
    "plt.show()\n",
    "#완벽한 분류 모델 의미!"
   ]
  },
  {
   "cell_type": "markdown",
   "metadata": {},
   "source": [
    "AUC가 1.0이고, Accuration, Precision, Sensitivity가 1.0에 근접하므로 완벽한 분류 모델임을 의미."
   ]
  },
  {
   "cell_type": "markdown",
   "metadata": {
    "id": "EHUDFSL6adEk"
   },
   "source": [
    "예제 4.5"
   ]
  },
  {
   "cell_type": "code",
   "execution_count": 147,
   "metadata": {
    "id": "yCbLJ0rTamkj"
   },
   "outputs": [],
   "source": [
    "#scikit-learn 이용\n",
    "pima = pd.read_csv('pima-indians-diabetes.csv')\n",
    "\n",
    "X = pima[['Pregnancies', 'Glucose','BloodPressure','SkinThickness','Insulin','BMI','DiabetesPedigreeFunction','Age']]\n",
    "y = pima['Outcome']"
   ]
  },
  {
   "cell_type": "markdown",
   "metadata": {},
   "source": [
    "데이터 준비"
   ]
  },
  {
   "cell_type": "code",
   "execution_count": 149,
   "metadata": {
    "id": "SZ-48Y8LdpJh"
   },
   "outputs": [],
   "source": [
    "from sklearn.model_selection import train_test_split\n",
    "X_train,X_test,y_train,y_test=train_test_split(X,y,test_size=0.25,random_state=0)"
   ]
  },
  {
   "cell_type": "markdown",
   "metadata": {},
   "source": [
    "데이터 분할 -> 전체 데이터의 25%를 테스트 데이터로, 75%를 학습 데이터로 사용."
   ]
  },
  {
   "cell_type": "code",
   "execution_count": 151,
   "metadata": {
    "colab": {
     "base_uri": "https://localhost:8080/",
     "height": 238
    },
    "id": "Lm8mvMSEdxNr",
    "outputId": "5df9dc72-a389-4243-fb52-3e62257a3781"
   },
   "outputs": [
    {
     "name": "stderr",
     "output_type": "stream",
     "text": [
      "C:\\Users\\user\\anaconda3\\Lib\\site-packages\\sklearn\\linear_model\\_logistic.py:469: ConvergenceWarning: lbfgs failed to converge (status=1):\n",
      "STOP: TOTAL NO. of ITERATIONS REACHED LIMIT.\n",
      "\n",
      "Increase the number of iterations (max_iter) or scale the data as shown in:\n",
      "    https://scikit-learn.org/stable/modules/preprocessing.html\n",
      "Please also refer to the documentation for alternative solver options:\n",
      "    https://scikit-learn.org/stable/modules/linear_model.html#logistic-regression\n",
      "  n_iter_i = _check_optimize_result(\n"
     ]
    },
    {
     "data": {
      "text/html": [
       "<style>#sk-container-id-5 {\n",
       "  /* Definition of color scheme common for light and dark mode */\n",
       "  --sklearn-color-text: black;\n",
       "  --sklearn-color-line: gray;\n",
       "  /* Definition of color scheme for unfitted estimators */\n",
       "  --sklearn-color-unfitted-level-0: #fff5e6;\n",
       "  --sklearn-color-unfitted-level-1: #f6e4d2;\n",
       "  --sklearn-color-unfitted-level-2: #ffe0b3;\n",
       "  --sklearn-color-unfitted-level-3: chocolate;\n",
       "  /* Definition of color scheme for fitted estimators */\n",
       "  --sklearn-color-fitted-level-0: #f0f8ff;\n",
       "  --sklearn-color-fitted-level-1: #d4ebff;\n",
       "  --sklearn-color-fitted-level-2: #b3dbfd;\n",
       "  --sklearn-color-fitted-level-3: cornflowerblue;\n",
       "\n",
       "  /* Specific color for light theme */\n",
       "  --sklearn-color-text-on-default-background: var(--sg-text-color, var(--theme-code-foreground, var(--jp-content-font-color1, black)));\n",
       "  --sklearn-color-background: var(--sg-background-color, var(--theme-background, var(--jp-layout-color0, white)));\n",
       "  --sklearn-color-border-box: var(--sg-text-color, var(--theme-code-foreground, var(--jp-content-font-color1, black)));\n",
       "  --sklearn-color-icon: #696969;\n",
       "\n",
       "  @media (prefers-color-scheme: dark) {\n",
       "    /* Redefinition of color scheme for dark theme */\n",
       "    --sklearn-color-text-on-default-background: var(--sg-text-color, var(--theme-code-foreground, var(--jp-content-font-color1, white)));\n",
       "    --sklearn-color-background: var(--sg-background-color, var(--theme-background, var(--jp-layout-color0, #111)));\n",
       "    --sklearn-color-border-box: var(--sg-text-color, var(--theme-code-foreground, var(--jp-content-font-color1, white)));\n",
       "    --sklearn-color-icon: #878787;\n",
       "  }\n",
       "}\n",
       "\n",
       "#sk-container-id-5 {\n",
       "  color: var(--sklearn-color-text);\n",
       "}\n",
       "\n",
       "#sk-container-id-5 pre {\n",
       "  padding: 0;\n",
       "}\n",
       "\n",
       "#sk-container-id-5 input.sk-hidden--visually {\n",
       "  border: 0;\n",
       "  clip: rect(1px 1px 1px 1px);\n",
       "  clip: rect(1px, 1px, 1px, 1px);\n",
       "  height: 1px;\n",
       "  margin: -1px;\n",
       "  overflow: hidden;\n",
       "  padding: 0;\n",
       "  position: absolute;\n",
       "  width: 1px;\n",
       "}\n",
       "\n",
       "#sk-container-id-5 div.sk-dashed-wrapped {\n",
       "  border: 1px dashed var(--sklearn-color-line);\n",
       "  margin: 0 0.4em 0.5em 0.4em;\n",
       "  box-sizing: border-box;\n",
       "  padding-bottom: 0.4em;\n",
       "  background-color: var(--sklearn-color-background);\n",
       "}\n",
       "\n",
       "#sk-container-id-5 div.sk-container {\n",
       "  /* jupyter's `normalize.less` sets `[hidden] { display: none; }`\n",
       "     but bootstrap.min.css set `[hidden] { display: none !important; }`\n",
       "     so we also need the `!important` here to be able to override the\n",
       "     default hidden behavior on the sphinx rendered scikit-learn.org.\n",
       "     See: https://github.com/scikit-learn/scikit-learn/issues/21755 */\n",
       "  display: inline-block !important;\n",
       "  position: relative;\n",
       "}\n",
       "\n",
       "#sk-container-id-5 div.sk-text-repr-fallback {\n",
       "  display: none;\n",
       "}\n",
       "\n",
       "div.sk-parallel-item,\n",
       "div.sk-serial,\n",
       "div.sk-item {\n",
       "  /* draw centered vertical line to link estimators */\n",
       "  background-image: linear-gradient(var(--sklearn-color-text-on-default-background), var(--sklearn-color-text-on-default-background));\n",
       "  background-size: 2px 100%;\n",
       "  background-repeat: no-repeat;\n",
       "  background-position: center center;\n",
       "}\n",
       "\n",
       "/* Parallel-specific style estimator block */\n",
       "\n",
       "#sk-container-id-5 div.sk-parallel-item::after {\n",
       "  content: \"\";\n",
       "  width: 100%;\n",
       "  border-bottom: 2px solid var(--sklearn-color-text-on-default-background);\n",
       "  flex-grow: 1;\n",
       "}\n",
       "\n",
       "#sk-container-id-5 div.sk-parallel {\n",
       "  display: flex;\n",
       "  align-items: stretch;\n",
       "  justify-content: center;\n",
       "  background-color: var(--sklearn-color-background);\n",
       "  position: relative;\n",
       "}\n",
       "\n",
       "#sk-container-id-5 div.sk-parallel-item {\n",
       "  display: flex;\n",
       "  flex-direction: column;\n",
       "}\n",
       "\n",
       "#sk-container-id-5 div.sk-parallel-item:first-child::after {\n",
       "  align-self: flex-end;\n",
       "  width: 50%;\n",
       "}\n",
       "\n",
       "#sk-container-id-5 div.sk-parallel-item:last-child::after {\n",
       "  align-self: flex-start;\n",
       "  width: 50%;\n",
       "}\n",
       "\n",
       "#sk-container-id-5 div.sk-parallel-item:only-child::after {\n",
       "  width: 0;\n",
       "}\n",
       "\n",
       "/* Serial-specific style estimator block */\n",
       "\n",
       "#sk-container-id-5 div.sk-serial {\n",
       "  display: flex;\n",
       "  flex-direction: column;\n",
       "  align-items: center;\n",
       "  background-color: var(--sklearn-color-background);\n",
       "  padding-right: 1em;\n",
       "  padding-left: 1em;\n",
       "}\n",
       "\n",
       "\n",
       "/* Toggleable style: style used for estimator/Pipeline/ColumnTransformer box that is\n",
       "clickable and can be expanded/collapsed.\n",
       "- Pipeline and ColumnTransformer use this feature and define the default style\n",
       "- Estimators will overwrite some part of the style using the `sk-estimator` class\n",
       "*/\n",
       "\n",
       "/* Pipeline and ColumnTransformer style (default) */\n",
       "\n",
       "#sk-container-id-5 div.sk-toggleable {\n",
       "  /* Default theme specific background. It is overwritten whether we have a\n",
       "  specific estimator or a Pipeline/ColumnTransformer */\n",
       "  background-color: var(--sklearn-color-background);\n",
       "}\n",
       "\n",
       "/* Toggleable label */\n",
       "#sk-container-id-5 label.sk-toggleable__label {\n",
       "  cursor: pointer;\n",
       "  display: block;\n",
       "  width: 100%;\n",
       "  margin-bottom: 0;\n",
       "  padding: 0.5em;\n",
       "  box-sizing: border-box;\n",
       "  text-align: center;\n",
       "}\n",
       "\n",
       "#sk-container-id-5 label.sk-toggleable__label-arrow:before {\n",
       "  /* Arrow on the left of the label */\n",
       "  content: \"▸\";\n",
       "  float: left;\n",
       "  margin-right: 0.25em;\n",
       "  color: var(--sklearn-color-icon);\n",
       "}\n",
       "\n",
       "#sk-container-id-5 label.sk-toggleable__label-arrow:hover:before {\n",
       "  color: var(--sklearn-color-text);\n",
       "}\n",
       "\n",
       "/* Toggleable content - dropdown */\n",
       "\n",
       "#sk-container-id-5 div.sk-toggleable__content {\n",
       "  max-height: 0;\n",
       "  max-width: 0;\n",
       "  overflow: hidden;\n",
       "  text-align: left;\n",
       "  /* unfitted */\n",
       "  background-color: var(--sklearn-color-unfitted-level-0);\n",
       "}\n",
       "\n",
       "#sk-container-id-5 div.sk-toggleable__content.fitted {\n",
       "  /* fitted */\n",
       "  background-color: var(--sklearn-color-fitted-level-0);\n",
       "}\n",
       "\n",
       "#sk-container-id-5 div.sk-toggleable__content pre {\n",
       "  margin: 0.2em;\n",
       "  border-radius: 0.25em;\n",
       "  color: var(--sklearn-color-text);\n",
       "  /* unfitted */\n",
       "  background-color: var(--sklearn-color-unfitted-level-0);\n",
       "}\n",
       "\n",
       "#sk-container-id-5 div.sk-toggleable__content.fitted pre {\n",
       "  /* unfitted */\n",
       "  background-color: var(--sklearn-color-fitted-level-0);\n",
       "}\n",
       "\n",
       "#sk-container-id-5 input.sk-toggleable__control:checked~div.sk-toggleable__content {\n",
       "  /* Expand drop-down */\n",
       "  max-height: 200px;\n",
       "  max-width: 100%;\n",
       "  overflow: auto;\n",
       "}\n",
       "\n",
       "#sk-container-id-5 input.sk-toggleable__control:checked~label.sk-toggleable__label-arrow:before {\n",
       "  content: \"▾\";\n",
       "}\n",
       "\n",
       "/* Pipeline/ColumnTransformer-specific style */\n",
       "\n",
       "#sk-container-id-5 div.sk-label input.sk-toggleable__control:checked~label.sk-toggleable__label {\n",
       "  color: var(--sklearn-color-text);\n",
       "  background-color: var(--sklearn-color-unfitted-level-2);\n",
       "}\n",
       "\n",
       "#sk-container-id-5 div.sk-label.fitted input.sk-toggleable__control:checked~label.sk-toggleable__label {\n",
       "  background-color: var(--sklearn-color-fitted-level-2);\n",
       "}\n",
       "\n",
       "/* Estimator-specific style */\n",
       "\n",
       "/* Colorize estimator box */\n",
       "#sk-container-id-5 div.sk-estimator input.sk-toggleable__control:checked~label.sk-toggleable__label {\n",
       "  /* unfitted */\n",
       "  background-color: var(--sklearn-color-unfitted-level-2);\n",
       "}\n",
       "\n",
       "#sk-container-id-5 div.sk-estimator.fitted input.sk-toggleable__control:checked~label.sk-toggleable__label {\n",
       "  /* fitted */\n",
       "  background-color: var(--sklearn-color-fitted-level-2);\n",
       "}\n",
       "\n",
       "#sk-container-id-5 div.sk-label label.sk-toggleable__label,\n",
       "#sk-container-id-5 div.sk-label label {\n",
       "  /* The background is the default theme color */\n",
       "  color: var(--sklearn-color-text-on-default-background);\n",
       "}\n",
       "\n",
       "/* On hover, darken the color of the background */\n",
       "#sk-container-id-5 div.sk-label:hover label.sk-toggleable__label {\n",
       "  color: var(--sklearn-color-text);\n",
       "  background-color: var(--sklearn-color-unfitted-level-2);\n",
       "}\n",
       "\n",
       "/* Label box, darken color on hover, fitted */\n",
       "#sk-container-id-5 div.sk-label.fitted:hover label.sk-toggleable__label.fitted {\n",
       "  color: var(--sklearn-color-text);\n",
       "  background-color: var(--sklearn-color-fitted-level-2);\n",
       "}\n",
       "\n",
       "/* Estimator label */\n",
       "\n",
       "#sk-container-id-5 div.sk-label label {\n",
       "  font-family: monospace;\n",
       "  font-weight: bold;\n",
       "  display: inline-block;\n",
       "  line-height: 1.2em;\n",
       "}\n",
       "\n",
       "#sk-container-id-5 div.sk-label-container {\n",
       "  text-align: center;\n",
       "}\n",
       "\n",
       "/* Estimator-specific */\n",
       "#sk-container-id-5 div.sk-estimator {\n",
       "  font-family: monospace;\n",
       "  border: 1px dotted var(--sklearn-color-border-box);\n",
       "  border-radius: 0.25em;\n",
       "  box-sizing: border-box;\n",
       "  margin-bottom: 0.5em;\n",
       "  /* unfitted */\n",
       "  background-color: var(--sklearn-color-unfitted-level-0);\n",
       "}\n",
       "\n",
       "#sk-container-id-5 div.sk-estimator.fitted {\n",
       "  /* fitted */\n",
       "  background-color: var(--sklearn-color-fitted-level-0);\n",
       "}\n",
       "\n",
       "/* on hover */\n",
       "#sk-container-id-5 div.sk-estimator:hover {\n",
       "  /* unfitted */\n",
       "  background-color: var(--sklearn-color-unfitted-level-2);\n",
       "}\n",
       "\n",
       "#sk-container-id-5 div.sk-estimator.fitted:hover {\n",
       "  /* fitted */\n",
       "  background-color: var(--sklearn-color-fitted-level-2);\n",
       "}\n",
       "\n",
       "/* Specification for estimator info (e.g. \"i\" and \"?\") */\n",
       "\n",
       "/* Common style for \"i\" and \"?\" */\n",
       "\n",
       ".sk-estimator-doc-link,\n",
       "a:link.sk-estimator-doc-link,\n",
       "a:visited.sk-estimator-doc-link {\n",
       "  float: right;\n",
       "  font-size: smaller;\n",
       "  line-height: 1em;\n",
       "  font-family: monospace;\n",
       "  background-color: var(--sklearn-color-background);\n",
       "  border-radius: 1em;\n",
       "  height: 1em;\n",
       "  width: 1em;\n",
       "  text-decoration: none !important;\n",
       "  margin-left: 1ex;\n",
       "  /* unfitted */\n",
       "  border: var(--sklearn-color-unfitted-level-1) 1pt solid;\n",
       "  color: var(--sklearn-color-unfitted-level-1);\n",
       "}\n",
       "\n",
       ".sk-estimator-doc-link.fitted,\n",
       "a:link.sk-estimator-doc-link.fitted,\n",
       "a:visited.sk-estimator-doc-link.fitted {\n",
       "  /* fitted */\n",
       "  border: var(--sklearn-color-fitted-level-1) 1pt solid;\n",
       "  color: var(--sklearn-color-fitted-level-1);\n",
       "}\n",
       "\n",
       "/* On hover */\n",
       "div.sk-estimator:hover .sk-estimator-doc-link:hover,\n",
       ".sk-estimator-doc-link:hover,\n",
       "div.sk-label-container:hover .sk-estimator-doc-link:hover,\n",
       ".sk-estimator-doc-link:hover {\n",
       "  /* unfitted */\n",
       "  background-color: var(--sklearn-color-unfitted-level-3);\n",
       "  color: var(--sklearn-color-background);\n",
       "  text-decoration: none;\n",
       "}\n",
       "\n",
       "div.sk-estimator.fitted:hover .sk-estimator-doc-link.fitted:hover,\n",
       ".sk-estimator-doc-link.fitted:hover,\n",
       "div.sk-label-container:hover .sk-estimator-doc-link.fitted:hover,\n",
       ".sk-estimator-doc-link.fitted:hover {\n",
       "  /* fitted */\n",
       "  background-color: var(--sklearn-color-fitted-level-3);\n",
       "  color: var(--sklearn-color-background);\n",
       "  text-decoration: none;\n",
       "}\n",
       "\n",
       "/* Span, style for the box shown on hovering the info icon */\n",
       ".sk-estimator-doc-link span {\n",
       "  display: none;\n",
       "  z-index: 9999;\n",
       "  position: relative;\n",
       "  font-weight: normal;\n",
       "  right: .2ex;\n",
       "  padding: .5ex;\n",
       "  margin: .5ex;\n",
       "  width: min-content;\n",
       "  min-width: 20ex;\n",
       "  max-width: 50ex;\n",
       "  color: var(--sklearn-color-text);\n",
       "  box-shadow: 2pt 2pt 4pt #999;\n",
       "  /* unfitted */\n",
       "  background: var(--sklearn-color-unfitted-level-0);\n",
       "  border: .5pt solid var(--sklearn-color-unfitted-level-3);\n",
       "}\n",
       "\n",
       ".sk-estimator-doc-link.fitted span {\n",
       "  /* fitted */\n",
       "  background: var(--sklearn-color-fitted-level-0);\n",
       "  border: var(--sklearn-color-fitted-level-3);\n",
       "}\n",
       "\n",
       ".sk-estimator-doc-link:hover span {\n",
       "  display: block;\n",
       "}\n",
       "\n",
       "/* \"?\"-specific style due to the `<a>` HTML tag */\n",
       "\n",
       "#sk-container-id-5 a.estimator_doc_link {\n",
       "  float: right;\n",
       "  font-size: 1rem;\n",
       "  line-height: 1em;\n",
       "  font-family: monospace;\n",
       "  background-color: var(--sklearn-color-background);\n",
       "  border-radius: 1rem;\n",
       "  height: 1rem;\n",
       "  width: 1rem;\n",
       "  text-decoration: none;\n",
       "  /* unfitted */\n",
       "  color: var(--sklearn-color-unfitted-level-1);\n",
       "  border: var(--sklearn-color-unfitted-level-1) 1pt solid;\n",
       "}\n",
       "\n",
       "#sk-container-id-5 a.estimator_doc_link.fitted {\n",
       "  /* fitted */\n",
       "  border: var(--sklearn-color-fitted-level-1) 1pt solid;\n",
       "  color: var(--sklearn-color-fitted-level-1);\n",
       "}\n",
       "\n",
       "/* On hover */\n",
       "#sk-container-id-5 a.estimator_doc_link:hover {\n",
       "  /* unfitted */\n",
       "  background-color: var(--sklearn-color-unfitted-level-3);\n",
       "  color: var(--sklearn-color-background);\n",
       "  text-decoration: none;\n",
       "}\n",
       "\n",
       "#sk-container-id-5 a.estimator_doc_link.fitted:hover {\n",
       "  /* fitted */\n",
       "  background-color: var(--sklearn-color-fitted-level-3);\n",
       "}\n",
       "</style><div id=\"sk-container-id-5\" class=\"sk-top-container\"><div class=\"sk-text-repr-fallback\"><pre>LogisticRegression()</pre><b>In a Jupyter environment, please rerun this cell to show the HTML representation or trust the notebook. <br />On GitHub, the HTML representation is unable to render, please try loading this page with nbviewer.org.</b></div><div class=\"sk-container\" hidden><div class=\"sk-item\"><div class=\"sk-estimator fitted sk-toggleable\"><input class=\"sk-toggleable__control sk-hidden--visually\" id=\"sk-estimator-id-5\" type=\"checkbox\" checked><label for=\"sk-estimator-id-5\" class=\"sk-toggleable__label fitted sk-toggleable__label-arrow fitted\">&nbsp;&nbsp;LogisticRegression<a class=\"sk-estimator-doc-link fitted\" rel=\"noreferrer\" target=\"_blank\" href=\"https://scikit-learn.org/1.5/modules/generated/sklearn.linear_model.LogisticRegression.html\">?<span>Documentation for LogisticRegression</span></a><span class=\"sk-estimator-doc-link fitted\">i<span>Fitted</span></span></label><div class=\"sk-toggleable__content fitted\"><pre>LogisticRegression()</pre></div> </div></div></div></div>"
      ],
      "text/plain": [
       "LogisticRegression()"
      ]
     },
     "execution_count": 151,
     "metadata": {},
     "output_type": "execute_result"
    }
   ],
   "source": [
    "# instantiate the model (using the default parameters)\n",
    "model = LogisticRegression()\n",
    "\n",
    "# fit the model with data\n",
    "model.fit(X_train,y_train)"
   ]
  },
  {
   "cell_type": "markdown",
   "metadata": {},
   "source": [
    "모델 : 로지스틱회귀 -> 학습"
   ]
  },
  {
   "cell_type": "code",
   "execution_count": 153,
   "metadata": {
    "id": "ohKG3ciod2st"
   },
   "outputs": [],
   "source": [
    "#prediction\n",
    "y_pred = model.predict(X_test)"
   ]
  },
  {
   "cell_type": "markdown",
   "metadata": {},
   "source": [
    "이전에 분할했던 테스트 데이터로 예측."
   ]
  },
  {
   "cell_type": "code",
   "execution_count": 155,
   "metadata": {
    "colab": {
     "base_uri": "https://localhost:8080/"
    },
    "id": "TLWgdT0od7VQ",
    "outputId": "90d2033b-8bab-45f0-889c-6dc95f979b68"
   },
   "outputs": [
    {
     "name": "stdout",
     "output_type": "stream",
     "text": [
      "Confusion Matrix : \n",
      " [[115  15]\n",
      " [ 25  37]]\n",
      "Precision :  0.7115\n",
      "Sensitivity :  0.5968\n",
      "Specificity :  0.8846\n",
      "Accuracy :  0.7917\n"
     ]
    }
   ],
   "source": [
    "#confusion matrix\n",
    "confusion_matrix = metrics.confusion_matrix(y_test, y_pred)\n",
    "TN=confusion_matrix[0][0]\n",
    "FP=confusion_matrix[0][1]\n",
    "FN=confusion_matrix[1][0]\n",
    "TP=confusion_matrix[1][1]\n",
    "precision= TP/(TP+FP)\n",
    "sensitivity=TP/(TP+FN)\n",
    "specificity=TN/(FP+TN)\n",
    "accuracy=(TP+TN)/(TP+TN+FP+FN)\n",
    "print(\"Confusion Matrix : \\n\", confusion_matrix)\n",
    "print(\"Precision : \", round(precision,4))\n",
    "print(\"Sensitivity : \", round(sensitivity,4))\n",
    "print(\"Specificity : \", round(specificity,4))\n",
    "print(\"Accuracy : \", round(accuracy,4))"
   ]
  },
  {
   "cell_type": "markdown",
   "metadata": {},
   "source": [
    "테스트용 정답 데이터와 예측 데이터로 혼동 행렬 생성.\n",
    "생성 후 각 지표를 소수점 넷째자리까지 반올림."
   ]
  },
  {
   "cell_type": "code",
   "execution_count": 157,
   "metadata": {
    "colab": {
     "base_uri": "https://localhost:8080/",
     "height": 597
    },
    "id": "20D9tIFRd-mA",
    "outputId": "94491cc6-5a22-43ec-df57-03067dafa60f"
   },
   "outputs": [
    {
     "name": "stdout",
     "output_type": "stream",
     "text": [
      "(192, 2)\n",
      "[[0.02566832 0.97433168]\n",
      " [0.83970251 0.16029749]\n",
      " [0.92320217 0.07679783]\n",
      " [0.31938215 0.68061785]\n",
      " [0.87785029 0.12214971]]\n",
      "[0.97433168 0.16029749 0.07679783 0.68061785 0.12214971]\n"
     ]
    },
    {
     "data": {
      "image/png": "[encoded data removed]",
      "text/plain": [
       "<Figure size 640x480 with 1 Axes>"
      ]
     },
     "metadata": {},
     "output_type": "display_data"
    }
   ],
   "source": [
    "#ROC 및 AUC 곡선\n",
    "y_pred_proba = model.predict_proba(X_test)\n",
    "print(y_pred_proba.shape)\n",
    "print(y_pred_proba[0:5,:])\n",
    "# 레이블 값이 1일때의 예측 확률을 추출 \n",
    "y_pred_proba = model.predict_proba(X_test)[:,1]\n",
    "print(y_pred_proba[0:5])\n",
    "fpr, tpr, thresholds = metrics.roc_curve(y_test, y_pred_proba)\n",
    "auc = metrics.roc_auc_score(y_test, y_pred_proba)\n",
    "auc =round(auc, 4)\n",
    "plt.plot(fpr, tpr, label=\"AUC =\"+str(auc))\n",
    "plt.legend(loc=4)\n",
    "plt.title(\"ROC Curve\")\n",
    "plt.ylabel('True Positive Rate')\n",
    "plt.xlabel('False Positive Rate')\n",
    "plt.show()"
   ]
  },
  {
   "cell_type": "markdown",
   "metadata": {},
   "source": [
    "model.predict_proba(X_test)는 테스트 데이터에 대해\n",
    "각 클래스(0, 1)에 속할 확률을 반환.\n",
    "shape은 (샘플 수, 클래스 수)\n",
    "y_pred_proba[0:5, :]는 앞의 5개 샘플에 대해\n",
    "[클래스 0 확률, 클래스 1 확률]을 보여줌.\n",
    "\n",
    "y_pred_proba = model.predict_proba(X_test)[:, 1]에서 \n",
    "[:, 1]은 **클래스 1(양성)**에 대한 예측 확률만 추출.\n",
    "\n",
    "이후 다양한 임계값에서 FPR, TPR, AUC 계산, ROC 곡선 시각화.\n",
    "이 때, AUC는 소수점 넷째자리까지 반올림."
   ]
  },
  {
   "cell_type": "code",
   "execution_count": 158,
   "metadata": {
    "colab": {
     "base_uri": "https://localhost:8080/"
    },
    "id": "Hq_X6ioPeOu_",
    "outputId": "42628ee8-0343-4785-f34b-18e0d224d87a"
   },
   "outputs": [
    {
     "name": "stdout",
     "output_type": "stream",
     "text": [
      "   Pregnancies  Glucose  BloodPressure  SkinThickness  Insulin   BMI  \\\n",
      "0            6      148             72             35        0  33.6   \n",
      "1            1       85             66             29        0  26.6   \n",
      "2            8      183             64              0        0  23.3   \n",
      "3            1       89             66             23       94  28.1   \n",
      "4            0      137             40             35      168  43.1   \n",
      "\n",
      "   DiabetesPedigreeFunction  Age  Outcome  \n",
      "0                     0.627   50        1  \n",
      "1                     0.351   31        0  \n",
      "2                     0.672   32        1  \n",
      "3                     0.167   21        0  \n",
      "4                     2.288   33        1  \n"
     ]
    }
   ],
   "source": [
    "#파이토치 이용\n",
    "pima = pd.read_csv('pima-indians-diabetes.csv')\n",
    "print(pima.head())\n",
    "\n",
    "X = pima.drop('Outcome' , axis = 1).values\n",
    "y = pima['Outcome'].values "
   ]
  },
  {
   "cell_type": "markdown",
   "metadata": {},
   "source": [
    "데이터셋을 pandas로 불러오고, Outcome 칼럼을 종속 변수로, 나머지 칼럼을 설명 변수로. NumPy배열 형태로."
   ]
  },
  {
   "cell_type": "code",
   "execution_count": 159,
   "metadata": {
    "colab": {
     "base_uri": "https://localhost:8080/"
    },
    "id": "2rne5dSOe7sU",
    "outputId": "10a8cc95-e6a2-402b-ea19-a16fb736535d"
   },
   "outputs": [
    {
     "name": "stdout",
     "output_type": "stream",
     "text": [
      "torch.Size([576, 8])\n",
      "torch.Size([576, 1])\n"
     ]
    }
   ],
   "source": [
    "device = torch.device(\"cuda\" if torch.cuda.is_available() else \"cpu\")\n",
    "\n",
    "from sklearn.model_selection import train_test_split\n",
    "X_train,X_test,y_train,y_test = train_test_split(X,y , test_size =0.25,random_state=0)\n",
    "\n",
    "# Creating Tensors\n",
    "X_train=torch.FloatTensor(X_train).to(device)\n",
    "X_test=torch.FloatTensor(X_test).to(device)\n",
    "y_train=torch.FloatTensor(y_train).view(-1,1).to(device)\n",
    "y_test=torch.FloatTensor(y_test).view(-1,1).to(device)\n",
    "\n",
    "print(X_train.shape)\n",
    "print(y_train.shape)\n",
    "\n",
    "import torch\n",
    "from torch import sigmoid\n",
    "import torch.nn.functional as F\n",
    "\n",
    "W = torch.zeros((8, 1),device=device, requires_grad=True)\n",
    "b = torch.zeros(1, device=device, requires_grad=True)"
   ]
  },
  {
   "cell_type": "markdown",
   "metadata": {},
   "source": [
    "위와 똑같이 학습 데이터 분할,\n",
    "\n",
    "넘파이 배열을 PyTorch 텐서로 변환 후 y_train, y_test는 .view(-1,1)로 (샘플수, 1) 형태로 reshape.\n",
    "\n",
    "입력 특성 수(클래스 수)에 맞게 가중치 W를 (8,1)로 초기화, 편향 b도 0으로 초기화.\n"
   ]
  },
  {
   "cell_type": "code",
   "execution_count": 160,
   "metadata": {
    "colab": {
     "base_uri": "https://localhost:8080/"
    },
    "id": "J2zTx7HhfD0m",
    "outputId": "64b8a196-f7cd-4aaa-da7a-5bf1d4e23302"
   },
   "outputs": [
    {
     "name": "stdout",
     "output_type": "stream",
     "text": [
      "epoch= 1000 a= [[ 8.3903380e-02]\n",
      " [ 2.2933833e-02]\n",
      " [-1.8483378e-02]\n",
      " [ 5.4355604e-03]\n",
      " [-3.6933002e-04]\n",
      " [ 4.2829312e-02]\n",
      " [ 5.6375271e-01]\n",
      " [ 8.6207874e-03]] b= [-4.446911] loss= 0.50745726\n",
      "epoch= 2000 a= [[ 8.6177833e-02]\n",
      " [ 3.0404110e-02]\n",
      " [-1.3236516e-02]\n",
      " [ 6.3579916e-03]\n",
      " [-4.5774464e-04]\n",
      " [ 7.3479235e-02]\n",
      " [ 7.8632736e-01]\n",
      " [ 1.8230442e-02]] b= [-7.1531386] loss= 0.48611063\n",
      "epoch= 3000 a= [[ 8.6538687e-02]\n",
      " [ 3.2537807e-02]\n",
      " [-1.1524527e-02]\n",
      " [ 6.0187187e-03]\n",
      " [-7.9744699e-04]\n",
      " [ 8.4363073e-02]\n",
      " [ 8.6660069e-01]\n",
      " [ 2.1119449e-02]] b= [-8.097676] loss= 0.48311716\n"
     ]
    }
   ],
   "source": [
    "optimizer=torch.optim.Adam([W,b],lr=0.01)\n",
    "epochs=3000\n",
    "for epoch in range(epochs):\n",
    "    y_pred = torch.sigmoid(X_train.matmul(W)+ b).to(device)   \n",
    "    loss = F.binary_cross_entropy(y_pred, y_train)\n",
    "\n",
    "    optimizer.zero_grad()\n",
    "    loss.backward()\n",
    "    optimizer.step()\n",
    "   \n",
    "    if (epoch+1) % 1000 == 0:\n",
    "        print('epoch=',epoch+1, 'a=', W.detach().cpu().numpy(),\n",
    "              'b=', b.detach().cpu().numpy(), 'loss=',loss.detach().cpu().numpy())"
   ]
  },
  {
   "cell_type": "markdown",
   "metadata": {},
   "source": [
    "1) Forward 계산 : 선형 결합 -> 시그모이드 함수로 0~1 확률로 변환\n",
    "2) 손실 계산 : BCE Loss 사용.\n",
    "3) 역전파 및 파라미터 업데이트\n",
    "   1) 기울기 초기화\n",
    "   2) 역전파로 기울기 계산\n",
    "   3) 파라미터 (W,b) 업데이트\n",
    "5) 중간 결과 출력\n",
    "   1000에폭마다 가중치, 바이어스, 손실 출력."
   ]
  },
  {
   "cell_type": "code",
   "execution_count": 161,
   "metadata": {
    "id": "2h8VQcvjfLAD"
   },
   "outputs": [],
   "source": [
    "y_pred = torch.sigmoid(X_test.matmul(W)+ b).to(device)\n",
    "prediction = y_pred >= torch.FloatTensor([0.5]).to(device)"
   ]
  },
  {
   "cell_type": "markdown",
   "metadata": {},
   "source": [
    "최종 학습된 예측 데이터를 기준으로 0.5이상이면 1, 이하면 0"
   ]
  },
  {
   "cell_type": "code",
   "execution_count": 162,
   "metadata": {
    "colab": {
     "base_uri": "https://localhost:8080/"
    },
    "id": "N7AOoT16fOtX",
    "outputId": "2513b740-d3c4-4b10-98c5-743bcae0573a"
   },
   "outputs": [
    {
     "name": "stdout",
     "output_type": "stream",
     "text": [
      "Confusion Matrix : \n",
      " [[116  14]\n",
      " [ 26  36]]\n",
      "Precision :  0.72\n",
      "Sensitivity :  0.5806\n",
      "Specificity :  0.8923\n",
      "Accuracy :  0.7917\n"
     ]
    }
   ],
   "source": [
    "#confusion matrix\n",
    "confusion_matrix = metrics.confusion_matrix(y_test.cpu().numpy(), prediction.cpu().numpy())\n",
    "TN=confusion_matrix[0][0]\n",
    "FP=confusion_matrix[0][1]\n",
    "FN=confusion_matrix[1][0]\n",
    "TP=confusion_matrix[1][1]\n",
    "precision= TP/(TP+FP)\n",
    "sensitivity=TP/(TP+FN)\n",
    "specificity=TN/(FP+TN)\n",
    "accuracy=(TP+TN)/(TP+TN+FP+FN)\n",
    "print (\"Confusion Matrix : \\n\", confusion_matrix)\n",
    "print (\"Precision : \", round(precision,4))\n",
    "print (\"Sensitivity : \", round(sensitivity,4))\n",
    "print (\"Specificity : \", round(specificity,4))\n",
    "print (\"Accuracy : \", round(accuracy,4))"
   ]
  },
  {
   "cell_type": "markdown",
   "metadata": {},
   "source": [
    "위와 같은 방식으로 혼동 행렬 및 평가 지표 계산."
   ]
  },
  {
   "cell_type": "code",
   "execution_count": 156,
   "metadata": {
    "colab": {
     "base_uri": "https://localhost:8080/",
     "height": 472
    },
    "id": "MlfHxpQXfR8x",
    "outputId": "f090d1a2-fe1e-4a45-d8d3-470cfed56cf0",
    "scrolled": true
   },
   "outputs": [
    {
     "data": {
      "image/png": "[encoded data removed]",
      "text/plain": [
       "<Figure size 640x480 with 1 Axes>"
      ]
     },
     "metadata": {},
     "output_type": "display_data"
    }
   ],
   "source": [
    "#ROC 및 AUC 곡선\n",
    "fpr, tpr, _ = metrics.roc_curve(y_test,  y_pred.detach().cpu().numpy())\n",
    "auc = metrics.roc_auc_score(y_test, y_pred_proba)\n",
    "auc=round(auc,4)\n",
    "plt.plot(fpr,tpr,label=\"AUC=\"+str(auc))\n",
    "plt.legend(loc=4)\n",
    "plt.title(\"ROC Curve\")\n",
    "plt.ylabel('True Positive Rate')\n",
    "plt.xlabel('False Positive Rate')\n",
    "plt.show()"
   ]
  },
  {
   "cell_type": "markdown",
   "metadata": {},
   "source": [
    "위와 같은 방식으로 ROC곡선 및 AUC 시각화"
   ]
  }
 ],
 "metadata": {
  "colab": {
   "provenance": []
  },
  "kernelspec": {
   "display_name": "Python [conda env:base] *",
   "language": "python",
   "name": "conda-base-py"
  },
  "language_info": {
   "codemirror_mode": {
    "name": "ipython",
    "version": 3
   },
   "file_extension": ".py",
   "mimetype": "text/x-python",
   "name": "python",
   "nbconvert_exporter": "python",
   "pygments_lexer": "ipython3",
   "version": "3.12.7"
  }
 },
 "nbformat": 4,
 "nbformat_minor": 4
}
