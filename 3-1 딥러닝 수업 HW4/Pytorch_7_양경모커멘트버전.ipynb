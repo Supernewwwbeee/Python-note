{
 "cells": [
  {
   "cell_type": "markdown",
   "metadata": {
    "id": "7geu2G7FLD12"
   },
   "source": [
    "DNN: torch.nn 모듈 이용"
   ]
  },
  {
   "cell_type": "code",
   "execution_count": 1,
   "metadata": {
    "executionInfo": {
     "elapsed": 437,
     "status": "ok",
     "timestamp": 1681809597931,
     "user": {
      "displayName": "최승훈",
      "userId": "10545016366834953850"
     },
     "user_tz": -540
    },
    "id": "K7cFXblbVCUs"
   },
   "outputs": [],
   "source": [
    "import torch\n",
    "from torch import nn\n",
    "import numpy as np\n",
    "import matplotlib.pyplot as plt"
   ]
  },
  {
   "cell_type": "markdown",
   "metadata": {},
   "source": [
    "PyTorch(딥러닝), numpy(수치계산), matplotlib(시각화) 라이브러리를 불러오기."
   ]
  },
  {
   "cell_type": "code",
   "execution_count": 3,
   "metadata": {
    "colab": {
     "base_uri": "https://localhost:8080/"
    },
    "executionInfo": {
     "elapsed": 27,
     "status": "ok",
     "timestamp": 1681804976741,
     "user": {
      "displayName": "최승훈",
      "userId": "10545016366834953850"
     },
     "user_tz": -540
    },
    "id": "XOuHp1qWJ5Hf",
    "outputId": "0df9f6e7-26af-4c27-fae3-2fc3f69eb697"
   },
   "outputs": [
    {
     "name": "stdout",
     "output_type": "stream",
     "text": [
      "linear_layer1.weight : Parameter containing:\n",
      "tensor([[ 0.3643, -0.3121],\n",
      "        [-0.1371,  0.3319],\n",
      "        [-0.6657,  0.4241]], requires_grad=True)\n",
      "linear_layer1.bias : Parameter containing:\n",
      "tensor([-0.1455,  0.3597,  0.0983], requires_grad=True)\n",
      "\n",
      "linear_layer2.weight : Parameter containing:\n",
      "tensor([[-0.0707,  0.1601,  0.0285]], requires_grad=True)\n",
      "linear_layer2.bias : Parameter containing:\n",
      "tensor([0.2109], requires_grad=True)\n",
      "\n",
      "tensor([[0.3608],\n",
      "        [0.4152],\n",
      "        [0.4776]], grad_fn=<AddmmBackward0>)\n"
     ]
    }
   ],
   "source": [
    "torch.manual_seed(1)\n",
    "\n",
    "linear_layer1 = nn.Linear(2,3)\n",
    "relu = nn.ReLU()\n",
    "linear_layer2 = nn.Linear(3,1)\n",
    "\n",
    "x = torch.tensor([[1.,2.],[3.,4.],[5.,6.]])\n",
    "print('linear_layer1.weight :', linear_layer1.weight)\n",
    "print('linear_layer1.bias :', linear_layer1.bias)\n",
    "print()\n",
    "print('linear_layer2.weight :', linear_layer2.weight)\n",
    "print('linear_layer2.bias :', linear_layer2.bias)\n",
    "\n",
    "out = linear_layer1(x)\n",
    "out = relu(out)\n",
    "y_pred = linear_layer2(out)\n",
    "print()\n",
    "print(y_pred)"
   ]
  },
  {
   "cell_type": "markdown",
   "metadata": {},
   "source": [
    "[기본 신경망 레이어 실습]\n",
    "\n",
    "랜덤 시드 고정: 실행마다 동일한 결과 보장\n",
    "\n",
    "2차원 입력 → 3차원 은닉층 → ReLU → 1차원 출력의 간단한 신경망을 실습.\n",
    "\n",
    "linear_layer1.weight: 랜덤 생성된 (3,2) 텐서\n",
    "linear_layer1.bias: 랜덤 생성된 (3,) 텐서\n",
    "linear_layer2.weight:랜덤 생성된 (1,3) 텐서\n",
    "linear_layer2.bias: 랜덤 생성된 (1,) 텐서\n",
    "\n",
    "1. 첫 번째 선형층\n",
    "   X*W_T : 행렬 곱 연산으로 인해 (3,3) 텐서 생성\n",
    "   X*W_T+b : (3,3) 텐서에 (3,)의 b가 브로드캐스팅 되어 그대로 (3,3) 텐서 생성\n",
    "\n",
    "2. ReLu 활성화 : 음수 값은 0으로 바뀜.\n",
    "\n",
    "3. 두 번째 선형층\n",
    "   ReLU(X*W+b)*W2 : 행렬 곱 연산으로 인해 (3,1) 텐서 생성\n",
    "   ReLU(X*W+b)*W2+b2 : (3,1) 텐서에 (1,)의 b가 브로드캐스팅 되어 그대로 (3,1) 텐서 생성\n",
    "   \n",
    "\n",
    "(3*2) 텐서 x에 대해 forward 연산 결과를 출력."
   ]
  },
  {
   "cell_type": "markdown",
   "metadata": {
    "id": "zvvDF4BJMp9V"
   },
   "source": [
    "nn.Sequential 함수 사용"
   ]
  },
  {
   "cell_type": "code",
   "execution_count": 6,
   "metadata": {
    "colab": {
     "base_uri": "https://localhost:8080/"
    },
    "executionInfo": {
     "elapsed": 21,
     "status": "ok",
     "timestamp": 1681804976742,
     "user": {
      "displayName": "최승훈",
      "userId": "10545016366834953850"
     },
     "user_tz": -540
    },
    "id": "X1L4ua7WMTBP",
    "outputId": "58af33bb-d55b-4357-9d83-9b10d11237e7"
   },
   "outputs": [
    {
     "name": "stdout",
     "output_type": "stream",
     "text": [
      "Sequential(\n",
      "  (0): Linear(in_features=2, out_features=3, bias=True)\n",
      "  (1): ReLU()\n",
      "  (2): Linear(in_features=3, out_features=1, bias=True)\n",
      ")\n",
      "linear_layer1.weight : Parameter containing:\n",
      "tensor([[ 0.3643, -0.3121],\n",
      "        [-0.1371,  0.3319],\n",
      "        [-0.6657,  0.4241]], requires_grad=True)\n",
      "linear_layer1.bias : Parameter containing:\n",
      "tensor([-0.1455,  0.3597,  0.0983], requires_grad=True)\n",
      "\n",
      "linear_layer2.weight : Parameter containing:\n",
      "tensor([[-0.0707,  0.1601,  0.0285]], requires_grad=True)\n",
      "linear_layer2.bias : Parameter containing:\n",
      "tensor([0.2109], requires_grad=True)\n",
      "\n",
      "tensor([[0.3608],\n",
      "        [0.4152],\n",
      "        [0.4776]], grad_fn=<AddmmBackward0>)\n"
     ]
    }
   ],
   "source": [
    "torch.manual_seed(1)\n",
    "\n",
    "model = nn.Sequential(\n",
    "    nn.Linear(2,3),\n",
    "    nn.ReLU(),\n",
    "    nn.Linear(3,1)\n",
    ")\n",
    "\n",
    "print(model)\n",
    "\n",
    "x = torch.tensor([[1.,2.],[3.,4.],[5.,6.]])\n",
    "print('linear_layer1.weight :', model[0].weight)\n",
    "print('linear_layer1.bias :', model[0].bias)\n",
    "print()\n",
    "print('linear_layer2.weight :', model[2].weight)\n",
    "print('linear_layer2.bias :', model[2].bias)\n",
    "print()\n",
    "y_pred = model(x)\n",
    "print(y_pred)"
   ]
  },
  {
   "cell_type": "markdown",
   "metadata": {},
   "source": [
    "\n",
    "랜덤 시드 고정: 실행마다 동일한 결과 보장\n",
    "\n",
    "nn.Sequential()을 사용해 모델 객체 생성.\n",
    "\n",
    "불필요한 변수 선언 방지하여 위와 동일한 신경망을 더 간결하게 정의.\n",
    "\n",
    "2차원 입력 → 3차원 은닉층 → ReLU → 1차원 출력의 간단한 신경망을 실습.\n",
    "\n",
    "linear_layer1.weight: 랜덤 생성된 (3,2) 텐서\n",
    "linear_layer1.bias: 랜덤 생성된 (3,) 텐서\n",
    "linear_layer2.weight:랜덤 생성된 (1,3) 텐서\n",
    "linear_layer2.bias: 랜덤 생성된 (1,) 텐서\n",
    "\n",
    "1. 첫 번째 선형층\n",
    "   X*W_T : 행렬 곱 연산으로 인해 (3,3) 텐서 생성\n",
    "   X*W_T+b : (3,3) 텐서에 (3,)의 b가 브로드캐스팅 되어 그대로 (3,3) 텐서 생성\n",
    "\n",
    "2. ReLu 활성화 : 음수 값은 0으로 바뀜.\n",
    "\n",
    "3. 두 번째 선형층\n",
    "   ReLU(X*W+b)*W2 : 행렬 곱 연산으로 인해 (3,1) 텐서 생성\n",
    "   ReLU(X*W+b)*W2+b2 : (3,1) 텐서에 (1,)의 b가 브로드캐스팅 되어 그대로 (3,1) 텐서 생성\n",
    "   \n",
    "\n",
    "(3*2) 텐서 x에 대해 forward 연산 결과를 출력."
   ]
  },
  {
   "cell_type": "markdown",
   "metadata": {
    "id": "gNxZdg0iPZyl"
   },
   "source": [
    "nn.Module 상속한 클래스 이용"
   ]
  },
  {
   "cell_type": "code",
   "execution_count": 9,
   "metadata": {
    "colab": {
     "base_uri": "https://localhost:8080/"
    },
    "executionInfo": {
     "elapsed": 17,
     "status": "ok",
     "timestamp": 1681804976743,
     "user": {
      "displayName": "최승훈",
      "userId": "10545016366834953850"
     },
     "user_tz": -540
    },
    "id": "2QhPP_-hNAFV",
    "outputId": "d08f610b-5c43-4263-a470-e66eebc06461"
   },
   "outputs": [
    {
     "name": "stdout",
     "output_type": "stream",
     "text": [
      "MyModel(\n",
      "  (fc1): Linear(in_features=2, out_features=3, bias=True)\n",
      "  (relu): ReLU()\n",
      "  (fc2): Linear(in_features=3, out_features=1, bias=True)\n",
      ")\n",
      "linear_layer1.weight : Parameter containing:\n",
      "tensor([[ 0.3643, -0.3121],\n",
      "        [-0.1371,  0.3319],\n",
      "        [-0.6657,  0.4241]], requires_grad=True)\n",
      "linear_layer1.bias : Parameter containing:\n",
      "tensor([-0.1455,  0.3597,  0.0983], requires_grad=True)\n",
      "\n",
      "linear_layer2.weight : Parameter containing:\n",
      "tensor([[-0.0707,  0.1601,  0.0285]], requires_grad=True)\n",
      "linear_layer2.bias : Parameter containing:\n",
      "tensor([0.2109], requires_grad=True)\n",
      "\n",
      "tensor([[0.3608],\n",
      "        [0.4152],\n",
      "        [0.4776]], grad_fn=<AddmmBackward0>)\n"
     ]
    }
   ],
   "source": [
    "torch.manual_seed(1)\n",
    "\n",
    "class MyModel(nn.Module):\n",
    "\n",
    "  def __init__(self):\n",
    "    super(MyModel, self).__init__()\n",
    "    self.fc1 = nn.Linear(2,3)\n",
    "    self.relu = nn.ReLU()\n",
    "    self.fc2 = nn.Linear(3,1)\n",
    "  \n",
    "  def forward(self, x):\n",
    "    out = self.fc1(x)\n",
    "    out = self.relu(out)\n",
    "    out = self.fc2(out)\n",
    "    return out\n",
    "  \n",
    "x = torch.tensor([[1.,2.],[3.,4.],[5.,6.]])\n",
    "model = MyModel()\n",
    "print(model)\n",
    "print('linear_layer1.weight :',model.fc1.weight)\n",
    "print('linear_layer1.bias :', model.fc1.bias)\n",
    "print()\n",
    "print('linear_layer2.weight :', model.fc2.weight)\n",
    "print('linear_layer2.bias :', model.fc2.bias)\n",
    "print()\n",
    "y_pred = model(x)\n",
    "print(y_pred)"
   ]
  },
  {
   "cell_type": "markdown",
   "metadata": {},
   "source": [
    "\n",
    "1. 랜덤 시드 고정: 실행마다 동일한 결과 보장\n",
    "torch.manual_seed(1)\n",
    "\n",
    "2. 사용자 정의 모델 클래스 정의 시작\n",
    "class MyModel(nn.Module):\n",
    "\n",
    "\n",
    "- PyTorch의 nn.Module을 상속받아 신경망 모델 클래스 정의.\n",
    "- nn.Module 기능(레이어 등록, 파라미터 관리, to(), eval() 등)을 물려받아, PyTorch 신경망 모델로 동작할 수 있게 함.\n",
    "\n",
    "3. 생성자(__init__) 정의\n",
    " def __init__(self):\n",
    "    super(MyModel, self).__init__()\n",
    "    self.fc1 = nn.Linear(2,3)\n",
    "    self.relu = nn.ReLU()\n",
    "    self.fc2 = nn.Linear(3,1)\n",
    "\n",
    "    - super(MyModel, self).__init__(): 부모 클래스 생성자 호출\n",
    "    - self.fc1 = nn.Linear(2,3) : 입력 2차원 -> 출력 3차원의 완전 연결층 정의.\n",
    "    - self.relu = nn.ReLU() : 활성화 함수로 RELU 사용\n",
    "    - self.fc2 = nn.Linear(3,1) : 입력 3차원 -> 출력 1차원의 완전 연결층 정의.\n",
    "\n",
    "4. 순전파(forward) 메서드 정의\n",
    "  def forward(self, x):\n",
    "    out = self.fc1(x)\n",
    "    out = self.relu(out)\n",
    "    out = self.fc2(out)\n",
    "    return out\n",
    "\n",
    "   - out = self.fc1(x): 입력 x를 첫 번째 선형층(fc1)에 통과.\n",
    "   - out = self.relu(out): ReLU 활성화 함수를 적용(음수 → 0).\n",
    "   - out = self.fc2(out): ReLU 출력을 두 번째 선형층(fc2)에 통과.\n",
    "   - return out : 최종 출력을 반환\n",
    "\n",
    "5. 입력 데이터 생성 #(3,2) 텐서\n",
    "x = torch.tensor([[1.,2.],[3.,4.],[5.,6.]])\n",
    "\n",
    "6. 모델 인스턴스 생성\n",
    "model = MyModel()\n",
    "\n",
    "7. 모델 구조 출력\n",
    "print(model)\n",
    "   "
   ]
  },
  {
   "cell_type": "code",
   "execution_count": 11,
   "metadata": {
    "colab": {
     "base_uri": "https://localhost:8080/"
    },
    "executionInfo": {
     "elapsed": 548,
     "status": "ok",
     "timestamp": 1681804977279,
     "user": {
      "displayName": "최승훈",
      "userId": "10545016366834953850"
     },
     "user_tz": -540
    },
    "id": "4EcqIcuxQKZn",
    "outputId": "f330ffe5-9093-49a1-99ae-0854c2325bb8"
   },
   "outputs": [
    {
     "name": "stdout",
     "output_type": "stream",
     "text": [
      "학습을 진행하는 기기:  cpu\n",
      "<class 'pandas.core.frame.DataFrame'>\n",
      "RangeIndex: 506 entries, 0 to 505\n",
      "Data columns (total 14 columns):\n",
      " #   Column   Non-Null Count  Dtype  \n",
      "---  ------   --------------  -----  \n",
      " 0   crim     506 non-null    float64\n",
      " 1   zn       506 non-null    float64\n",
      " 2   indus    506 non-null    float64\n",
      " 3   chas     506 non-null    int64  \n",
      " 4   nox      506 non-null    float64\n",
      " 5   rm       506 non-null    float64\n",
      " 6   age      506 non-null    float64\n",
      " 7   dis      506 non-null    float64\n",
      " 8   rad      506 non-null    int64  \n",
      " 9   tax      506 non-null    int64  \n",
      " 10  ptratio  506 non-null    float64\n",
      " 11  b        506 non-null    float64\n",
      " 12  lstat    506 non-null    float64\n",
      " 13  medv     506 non-null    float64\n",
      "dtypes: float64(11), int64(3)\n",
      "memory usage: 55.5 KB\n",
      "None\n"
     ]
    }
   ],
   "source": [
    "device = torch.device(\"cuda\" if torch.cuda.is_available() else \"cpu\")\n",
    "print(\"학습을 진행하는 기기: \", device)\n",
    "\n",
    "import pandas as pd\n",
    "boston = pd.read_csv('Boston_Housing.csv')\n",
    "print(boston.info())"
   ]
  },
  {
   "cell_type": "markdown",
   "metadata": {},
   "source": [
    "device = torch.device(\"cuda\" if torch.cuda.is_available() else \"cpu\")\n",
    "print(\"학습을 진행하는 기기: \", device)\n",
    "\n",
    "- torch.cuda.is_available()이 True이면 GPU(=cuda), 아니면 CPU를 사용합니다.\n",
    "- 학습 및 연산을 어느 하드웨어에서 진행할지 결정하고, 그 결과를 출력합니다.\n",
    "\n",
    "import pandas as pd\n",
    "boston = pd.read_csv('Boston_Housing.csv')\n",
    "print(boston.info())\n",
    "\n",
    "- import pandas as pd: 데이터 분석 라이브러리 pandas를 불러옵니다.\n",
    "- boston = pd.read_csv('Boston_Housing.csv'): 현재 폴더에 있는 Boston_Housing.csv 파일을 읽어와 DataFrame(표 형태 데이터)으로 저장합니다.\n",
    "- print(boston.info()): 데이터프레임의 전체 정보(컬럼명, 데이터 타입, 결측치 여부, 행 개수 등)를 출력합니다."
   ]
  },
  {
   "cell_type": "code",
   "execution_count": 13,
   "metadata": {
    "colab": {
     "base_uri": "https://localhost:8080/"
    },
    "executionInfo": {
     "elapsed": 12,
     "status": "ok",
     "timestamp": 1681804977279,
     "user": {
      "displayName": "최승훈",
      "userId": "10545016366834953850"
     },
     "user_tz": -540
    },
    "id": "4P_fMfZ3T1Kq",
    "outputId": "56156d85-7ba0-44a9-80bc-822f3f72df9b"
   },
   "outputs": [
    {
     "name": "stdout",
     "output_type": "stream",
     "text": [
      "      crim    zn  indus  chas    nox     rm   age     dis  rad  tax  ptratio  \\\n",
      "0  0.00632  18.0   2.31     0  0.538  6.575  65.2  4.0900    1  296     15.3   \n",
      "1  0.02731   0.0   7.07     0  0.469  6.421  78.9  4.9671    2  242     17.8   \n",
      "2  0.02729   0.0   7.07     0  0.469  7.185  61.1  4.9671    2  242     17.8   \n",
      "3  0.03237   0.0   2.18     0  0.458  6.998  45.8  6.0622    3  222     18.7   \n",
      "4  0.06905   0.0   2.18     0  0.458  7.147  54.2  6.0622    3  222     18.7   \n",
      "\n",
      "        b  lstat  medv  \n",
      "0  396.90   4.98  24.0  \n",
      "1  396.90   9.14  21.6  \n",
      "2  392.83   4.03  34.7  \n",
      "3  394.63   2.94  33.4  \n",
      "4  396.90   5.33  36.2  \n"
     ]
    }
   ],
   "source": [
    "print(boston.head())"
   ]
  },
  {
   "cell_type": "markdown",
   "metadata": {},
   "source": [
    "pandas DataFrame인 boston의 상위 5개 행(샘플) 출력"
   ]
  },
  {
   "cell_type": "code",
   "execution_count": 15,
   "metadata": {
    "colab": {
     "base_uri": "https://localhost:8080/"
    },
    "executionInfo": {
     "elapsed": 10,
     "status": "ok",
     "timestamp": 1681804977280,
     "user": {
      "displayName": "최승훈",
      "userId": "10545016366834953850"
     },
     "user_tz": -540
    },
    "id": "-XncycepT7Pk",
    "outputId": "59ab1863-89af-4604-dc71-e70bc2de1013"
   },
   "outputs": [
    {
     "data": {
      "text/plain": [
       "crim       0\n",
       "zn         0\n",
       "indus      0\n",
       "chas       0\n",
       "nox        0\n",
       "rm         0\n",
       "age        0\n",
       "dis        0\n",
       "rad        0\n",
       "tax        0\n",
       "ptratio    0\n",
       "b          0\n",
       "lstat      0\n",
       "medv       0\n",
       "dtype: int64"
      ]
     },
     "execution_count": 15,
     "metadata": {},
     "output_type": "execute_result"
    }
   ],
   "source": [
    "boston.isnull().sum()"
   ]
  },
  {
   "cell_type": "markdown",
   "metadata": {},
   "source": [
    "Boston_Housing.csv 데이터프레임에서 각 열별로 결측치(null,NaN)의 개수 계산"
   ]
  },
  {
   "cell_type": "code",
   "execution_count": 17,
   "metadata": {
    "colab": {
     "base_uri": "https://localhost:8080/"
    },
    "executionInfo": {
     "elapsed": 8,
     "status": "ok",
     "timestamp": 1681804977281,
     "user": {
      "displayName": "최승훈",
      "userId": "10545016366834953850"
     },
     "user_tz": -540
    },
    "id": "PtWElLIWUAE1",
    "outputId": "44de8305-6d2b-4608-ae7c-844553dcda24"
   },
   "outputs": [
    {
     "name": "stdout",
     "output_type": "stream",
     "text": [
      "<class 'numpy.ndarray'>\n",
      "<class 'numpy.ndarray'>\n",
      "(506, 13)\n",
      "(506, 1)\n"
     ]
    }
   ],
   "source": [
    "# Convert from Pandas dataframe to numpy arrays\n",
    "X = boston.drop(labels =['medv'], axis = 1).values\n",
    "y = boston[['medv']].values\n",
    "print(type(X))\n",
    "print(type(y))\n",
    "print(X.shape)\n",
    "print(y.shape)"
   ]
  },
  {
   "cell_type": "markdown",
   "metadata": {},
   "source": [
    "X = boston.drop(labels =['medv'], axis = 1).values\n",
    "- .drop(labels=['medv'], axis=1): 'medv' 열 삭제\n",
    "- .values: DataFrame을 numpy 배열로 변환\n",
    "\n",
    "y = boston[['medv']].values\n",
    "- 'medv'열만 선택해 numpy 배열로 변환\n",
    "- [['medv']]로 열 벡터 형태 유지\n",
    "\n",
    "X,y type, shape 출력\n"
   ]
  },
  {
   "cell_type": "code",
   "execution_count": 19,
   "metadata": {
    "id": "CtZFz5VMUeDU"
   },
   "outputs": [],
   "source": [
    "from sklearn.preprocessing import StandardScaler\n",
    "scaler = StandardScaler()\n",
    "scaler.fit(X)\n",
    "X_scaled = scaler.transform(X)"
   ]
  },
  {
   "cell_type": "markdown",
   "metadata": {},
   "source": [
    "from sklearn.preprocessing import StandardScaler\n",
    "- scikit-learn의 데이터 전처리 도구인 StandardScaler를 불러옴.\n",
    "\n",
    "scaler = StandardScaler()\n",
    "- StandardScaler 객체 생성\n",
    "\n",
    "scaler.fit(X)\n",
    "- X(입력 데이터)의 각 특성별 평균과 표준편차 계산해 scaler 객체에 저장.\n",
    "\n",
    "X_scaled = scaler.transform(X)\n",
    "- X의 각 특성에서 평균 빼고, 표준 편차로 나눠 표준정규분포 평균 0, 표준편차 1 되도록 표준화.\n",
    "- 결과는 X와 같은 shape의 numpy 배열(X_scaled)로 저장."
   ]
  },
  {
   "cell_type": "code",
   "execution_count": 21,
   "metadata": {
    "colab": {
     "base_uri": "https://localhost:8080/"
    },
    "executionInfo": {
     "elapsed": 15,
     "status": "ok",
     "timestamp": 1681804977661,
     "user": {
      "displayName": "최승훈",
      "userId": "10545016366834953850"
     },
     "user_tz": -540
    },
    "id": "SfKrvBmbVn-k",
    "outputId": "9aba4aa1-0b8b-4fd1-afd4-e883c3d99be5"
   },
   "outputs": [
    {
     "name": "stdout",
     "output_type": "stream",
     "text": [
      "(354, 13) (354, 1) (152, 13) (152, 1)\n"
     ]
    }
   ],
   "source": [
    "from sklearn.model_selection import train_test_split\n",
    "\n",
    "X_train, X_test, y_train, y_test = train_test_split(X_scaled, y, test_size = 0.3, random_state = 1)\n",
    "print(X_train.shape, y_train.shape, X_test.shape, y_test.shape)"
   ]
  },
  {
   "cell_type": "markdown",
   "metadata": {},
   "source": [
    "from sklearn.model_selection import train_test_split\n",
    "- scikit-learn의 데이터 분할 함수 train_test_split을 불러옴.\n",
    "데이터를 랜덤하게 섞어서 학습용/테스트용으로 나누는 데 사용.\n",
    "\n",
    "X_train, X_test, y_train, y_test = train_test_split(X_scaled, y, test_size = 0.3, random_state = 1)\n",
    "print(X_train.shape, y_train.shape, X_test.shape, y_test.shape)\n",
    "\n",
    "- X_scaled(입력 데이터)와 y(타겟)를 각각 학습용과 테스트용으로 나누기.\n",
    "\n",
    "- test_size=0.3: 전체 데이터의 30%는 테스트셋, 70%는 학습셋이 됩니다.\n",
    "\n",
    "- random_state=1: 분할을 매번 동일하게(재현 가능하게) 하도록 난수 시드를 고정.\n",
    "\n",
    "결과적으로 4개의 배열이 생성:\n",
    "\n",
    "- X_train: 학습 입력 데이터\n",
    "\n",
    "- X_test: 테스트 입력 데이터\n",
    "\n",
    "- y_train: 학습 타겟 데이터\n",
    "\n",
    "- y_test: 테스트 타겟 데이터"
   ]
  },
  {
   "cell_type": "code",
   "execution_count": 23,
   "metadata": {
    "id": "EUe6SQtMWBbU"
   },
   "outputs": [],
   "source": [
    "#데이터 텐서화\n",
    "import torch\n",
    "import torch.nn as nn\n",
    "import torch.nn.functional as F\n",
    "from torch import nn, optim"
   ]
  },
  {
   "cell_type": "markdown",
   "metadata": {},
   "source": [
    "torch: 텐서 생성, 연산, GPU 사용 등 PyTorch의 기본 기능 제공\n",
    "torch.nn: 레이어, 손실함수, 신경망 모델 정의 등에 사용. 신경망 관련 모듈 nn으로 불러오기.\n",
    "torch.nn.functional: 신경망에서 자주 쓰는 함수(활성화 함수, 손실 함수)를 F라는 이름으로 불러오기.\n",
    "Ex) F.relu(), F.cross_entropy()\n",
    "from torch import nn, optim : torch 패키지에서 nn(신경망 모듈)과 optim(최적화 알고리즘 모듈) 직접 불러오기.\n",
    "\n",
    "*optim : 모델 학습 시 파라미터 업데이트(Adam, SGD 등)에 사용"
   ]
  },
  {
   "cell_type": "code",
   "execution_count": 25,
   "metadata": {
    "colab": {
     "base_uri": "https://localhost:8080/"
    },
    "executionInfo": {
     "elapsed": 14,
     "status": "ok",
     "timestamp": 1681804977662,
     "user": {
      "displayName": "최승훈",
      "userId": "10545016366834953850"
     },
     "user_tz": -540
    },
    "id": "4kC8-SFoWbpv",
    "outputId": "22453c8c-b91a-4f90-9cc5-dc6c5224ecb8"
   },
   "outputs": [
    {
     "name": "stdout",
     "output_type": "stream",
     "text": [
      "torch.Size([354, 13]) torch.Size([354, 1]) torch.Size([152, 13]) torch.Size([152, 1])\n"
     ]
    }
   ],
   "source": [
    "n_train = X_train.shape[0]\n",
    "X_train = torch.tensor(X_train, device = device, dtype = torch.float)\n",
    "X_test = torch.tensor(X_test, device = device, dtype = torch.float)\n",
    "y_train = torch.tensor(y_train, device = device, dtype = torch.float)\n",
    "y_test = torch.tensor(y_test, device = device, dtype = torch.float)\n",
    "print(X_train.shape, y_train.shape, X_test.shape, y_test.shape)"
   ]
  },
  {
   "cell_type": "markdown",
   "metadata": {},
   "source": [
    "n_train = X_train.shape[0]\n",
    "- 학습 데이터의 샘플 수(행 개수)를 n_train에 저장.\n",
    "\n",
    "X_train = torch.tensor(X_train, device = device, dtype = torch.float)\n",
    "X_test = torch.tensor(X_test, device = device, dtype = torch.float)\n",
    "y_train = torch.tensor(y_train, device = device, dtype = torch.float)\n",
    "y_test = torch.tensor(y_test, device = device, dtype = torch.float)\n",
    "\n",
    "- numpy 배열 형태의 입력/타겟 데이터를 PyTorch의 텐서로 변환.\n",
    "\n",
    "- device=device로 지정하면, GPU(cuda) 또는 CPU 중 사용 가능한 곳에 데이터를 올린다.\n",
    "\n",
    "- dtype=torch.float로 실수형(float32) 텐서로 변환.\n",
    "\n",
    "- 각 데이터셋 크기 확인.\n",
    "\n",
    "- 신경망 학습에 사용할 수 있는 형태로 준비하는 단계."
   ]
  },
  {
   "cell_type": "code",
   "execution_count": 27,
   "metadata": {
    "id": "PcXtMvx8W5Rp"
   },
   "outputs": [],
   "source": [
    "class BostonDataset(torch.utils.data.Dataset):\n",
    "  '''\n",
    "  Prepare the Boston dataset for regression\n",
    "  '''\n",
    "\n",
    "  def __init__(self, X, y):\n",
    "    self.X = X\n",
    "    self.y = y\n",
    "  \n",
    "  def __len__(self):\n",
    "    return len(self.X)\n",
    "\n",
    "  def __getitem__(self, index):\n",
    "    x = self.X[index]\n",
    "    y = self.y[index]\n",
    "    return x, y"
   ]
  },
  {
   "cell_type": "markdown",
   "metadata": {},
   "source": [
    "[사용자 정의 데이터셋 클래스]\n",
    "\n",
    "class BostonDataset(torch.utils.data.Dataset):\n",
    "  '''\n",
    "  Prepare the Boston dataset for regression\n",
    "  '''\n",
    "\n",
    "- torch.utils.data.Dataset을 상속받아 사용자 정의 데이터셋 클래스를 만듦.\n",
    "- PyTorch의 DataLoader와 함께 사용되어, 배치 단위로 데이터를 쉽게 불러올 수 있게 해줌.\n",
    "\n",
    "def __init__(self, X, y):\n",
    "    self.X = X\n",
    "    self.y = y\n",
    "\n",
    "- 생성자 메서드\n",
    "- 입력 데이터(X)와 타겟 데이터(y)를 받아 객체 내부에 저장.\n",
    "- X,y는 이미 텐서화된 데이터.\n",
    "\n",
    "def __len__(self):\n",
    "    return len(self.X)\n",
    "\n",
    "- 데이터셋의 전체 샘플 개수를 반환.\n",
    "- DataLoader가 배치 단위로 데이터 불러올 때, 전체 데이터 크기를 파악하려고 사용.\n",
    "\n",
    "def __getitem__(self, index):\n",
    "    x = self.X[index]\n",
    "    y = self.y[index]\n",
    "    return x, y \n",
    "\n",
    "- 인덱스를 입력으로 받아, 해당 인덱스의 입력(x)과 타겟(y)를 한 쌍으로 반환.\n",
    "- DataLoader가 미니배치 구성 시 이 메서드를 반복적으로 호출.\n",
    "- 반환값은 (x,y) 튜플이며, 각각 하나의 샘플이다."
   ]
  },
  {
   "cell_type": "code",
   "execution_count": 29,
   "metadata": {
    "colab": {
     "base_uri": "https://localhost:8080/"
    },
    "executionInfo": {
     "elapsed": 10,
     "status": "ok",
     "timestamp": 1681804977662,
     "user": {
      "displayName": "최승훈",
      "userId": "10545016366834953850"
     },
     "user_tz": -540
    },
    "id": "WuxQiFoCXY2E",
    "outputId": "6c412417-0316-4b05-c19f-36d5abc40fc7"
   },
   "outputs": [
    {
     "name": "stdout",
     "output_type": "stream",
     "text": [
      "354\n",
      "(tensor([-0.3472, -0.4877, -0.4373, -0.2726, -0.1442, -0.4782, -0.2409,  0.4338,\n",
      "        -0.6380, -0.6013,  1.1765,  0.4411, -0.6158]), tensor([20.4000]))\n"
     ]
    }
   ],
   "source": [
    "dataset = BostonDataset(X_train, y_train)\n",
    "print(len(dataset))\n",
    "print(dataset[0])"
   ]
  },
  {
   "cell_type": "markdown",
   "metadata": {},
   "source": [
    "dataset = BostonDataset(X_train, y_train)\n",
    " - X_train, y_train 텐서를 받아 BostonDataset 객체 생성\n",
    "\n",
    "print(len(dataset))\n",
    " - 데이터셋에 포함된 샘플 개수(행 개수) 출력\n",
    "\n",
    "print(dataset[0])\n",
    " - 데이터셋의 첫 번째 샘플 출력\n",
    " - X : 354*13 y : 354*1 크기였으므로 0번째 데이터셋은 해당 결과로 출력. "
   ]
  },
  {
   "cell_type": "code",
   "execution_count": 31,
   "metadata": {
    "id": "k1a6qYdzXrxE"
   },
   "outputs": [],
   "source": [
    "torch.manual_seed(0)\n",
    "trainloader = torch.utils.data.DataLoader(dataset, batch_size = 16, shuffle=True)"
   ]
  },
  {
   "cell_type": "markdown",
   "metadata": {},
   "source": [
    "torch.manual_seed(0)\n",
    " - 실행 시마다 동일한 결과.\n",
    "\n",
    "trainloader = torch.utils.data.DataLoader(dataset, batch_size = 16, shuffle=True)\n",
    " - dataset(BostonDataset 객체)을 DataLoader에 넣어 학습 데이터 공급자 만들기.\n",
    " - batch_size = 16: 한 번에 16개 샘플씩 미니배치로 불러오기.\n",
    " - shuffle=True: 에폭마다 데이터 랜덤하게 섞어 배치 생성.\n",
    "   "
   ]
  },
  {
   "cell_type": "code",
   "execution_count": 33,
   "metadata": {
    "id": "yeYW4UQPYJy0"
   },
   "outputs": [],
   "source": [
    "class BostonModel(nn.Module):\n",
    "  def __init__(self):\n",
    "    super(BostonModel,self).__init__() # 모델 연산 정의\n",
    "    self.fc1 = nn.Linear(X_train.shape[1],32)\n",
    "    self.fc2 = nn.Linear(32, 16)\n",
    "    self.fc3 = nn.Linear(16, 8)\n",
    "    self.fc4 = nn.Linear(8,1)\n",
    "  def forward(self,x):\n",
    "    x = F.relu(self.fc1(x))\n",
    "    # Linear 계산 후 활성화 함수 ReLU를 적용한다.\n",
    "    x = F.relu(self.fc2(x))\n",
    "    x = F.relu(self.fc3(x))\n",
    "    x = self.fc4(x)\n",
    "    return x\n",
    "\n",
    "model = BostonModel().to(device)"
   ]
  },
  {
   "cell_type": "markdown",
   "metadata": {},
   "source": [
    "class BostonModel(nn.Module):\n",
    " - nn.Module을 상속받아 새로운 모델 클래스를 정의\n",
    "\n",
    "def __init__(self):\n",
    "    super(BostonModel,self).__init__() # 부모 클래스 초기화 메서드 호출\n",
    "    self.fc1 = nn.Linear(X_train.shape[1],32) # 입력 차원 -> 32차원 변환하는 완전 연결층\n",
    "    self.fc2 = nn.Linear(32, 16) # 32차원 -> 16차원\n",
    "    self.fc3 = nn.Linear(16, 8) # 16차원 -> 8차원\n",
    "    self.fc4 = nn.Linear(8,1) # 8차원 -> 1차원\n",
    "\n",
    "def forward(self,x): # 입력 데이터가 모델을 통과할 때의 연산 과정을 정의\n",
    "    x = F.relu(self.fc1(x))\n",
    "    # Linear 계산 후 활성화 함수 ReLU를 적용한다. -> 비선형성 부여\n",
    "    x = F.relu(self.fc2(x))\n",
    "    x = F.relu(self.fc3(x))\n",
    "    x = self.fc4(x) # 회귀 문제이므로 마지막 출력층은 활성화 x.\n",
    "    return x\n",
    "\n",
    "model = BostonModel().to(device)\n",
    " - BostonModel의 인스턴스 model 생성.\n",
    " - .to(device)는 모델의 파라미터와 연산을 GPU(cuda) 또는 CPU 중 사용 가능한 곳에 올림.\n",
    " - 이후 학습 및 예측을 이 모델로 진행합니다.\n",
    "\n",
    "\n"
   ]
  },
  {
   "cell_type": "code",
   "execution_count": 35,
   "metadata": {
    "id": "Ix7WaVTQZXel"
   },
   "outputs": [],
   "source": [
    "# Define the Loss function and optimizer\n",
    "learning_rate = 0.0001\n",
    "loss_function = nn.MSELoss()\n",
    "optimizer = torch.optim.Adam(model.parameters(), lr = learning_rate)"
   ]
  },
  {
   "cell_type": "markdown",
   "metadata": {},
   "source": [
    "learning_rate = 0.0001\n",
    " - 학습률 0.0001로 설정.\n",
    " - 값이 너무 크면 발산, 너무 작으면 학습이 느려짐.\n",
    "   \n",
    "loss_function = nn.MSELoss()\n",
    " - 손실 함수로 평균제곱오차를 사용.\n",
    " - 회귀 문제에서 가장 널리 쓰이는 손실 함수.\n",
    " - 예측값과 실제값의 차이를 제곱해 평균 내는 원리, 오차와 손실이 정비례.\n",
    "   \n",
    "optimizer = torch.optim.Adam(model.parameters(), lr = learning_rate)\n",
    " - 옵티마이저로 Adam사용\n",
    " - model.parameters()는 모델의 학습 가능한 모든 파라미터(가중치, 편향 등)를 옵티마이저에 전달.\n",
    " - lr = learning_rate로 학습률 지정.\n",
    " - Adam은 학습률 자동 조정하며, SGD보다 빠르고 안정적으로 수렴한다."
   ]
  },
  {
   "cell_type": "code",
   "execution_count": 37,
   "metadata": {
    "colab": {
     "base_uri": "https://localhost:8080/"
    },
    "executionInfo": {
     "elapsed": 35129,
     "status": "ok",
     "timestamp": 1681809393720,
     "user": {
      "displayName": "최승훈",
      "userId": "10545016366834953850"
     },
     "user_tz": -540
    },
    "id": "uIIDkllOZ_nk",
    "outputId": "09043a6e-731e-44b1-8224-14e115d1299a"
   },
   "outputs": [
    {
     "name": "stdout",
     "output_type": "stream",
     "text": [
      "Epoch 1/1000 loss : 13536.157\n",
      "Epoch 100/1000 loss : 1405.347\n",
      "Epoch 200/1000 loss : 561.298\n",
      "Epoch 300/1000 loss : 424.953\n",
      "Epoch 400/1000 loss : 354.203\n",
      "Epoch 500/1000 loss : 302.831\n",
      "Epoch 600/1000 loss : 265.337\n",
      "Epoch 700/1000 loss : 243.908\n",
      "Epoch 800/1000 loss : 230.717\n",
      "Epoch 900/1000 loss : 221.995\n",
      "Epoch 1000/1000 loss : 204.557\n"
     ]
    }
   ],
   "source": [
    "num_epochs = 1000\n",
    "epoch_losses = []\n",
    "for epoch in range(num_epochs):\n",
    "  running_loss = 0.0\n",
    "  for inputs, labels in trainloader:\n",
    "    #forward pass\n",
    "    outputs = model(inputs)\n",
    "    #loss\n",
    "    loss = loss_function(outputs, labels)\n",
    "    #backward pass\n",
    "    #computing gradients\n",
    "    loss.backward()\n",
    "    #파라미터 업데이트\n",
    "    #updated weights based on computed gradients\n",
    "    optimizer.step()\n",
    "    #다음 iters의 loss.backward()에서 gradient를 새로 계산하므로 grad 0으로 초기화\n",
    "    optimizer.zero_grad()\n",
    "\n",
    "    #accumulating running loss\n",
    "    running_loss += loss.item()\n",
    "\n",
    "  epoch_losses.append(running_loss)\n",
    "  if (epoch ==0):\n",
    "    print('Epoch %d/%d loss : %.3f' % (epoch + 1, num_epochs, running_loss))\n",
    "  if (epoch+1) % 100 ==0:\n",
    "     print('Epoch %d/%d loss : %.3f' % (epoch + 1, num_epochs, running_loss))"
   ]
  },
  {
   "cell_type": "markdown",
   "metadata": {},
   "source": [
    "num_epochs: 전체 학습 반복 횟수를 1000으로 설정.\n",
    "poch_losses: 각 epoch의 손실을 저장할 리스트를 초기화.\n",
    "\n",
    "1. 에폭 시작\n",
    "\n",
    "for epoch in range(num_epochs):\n",
    "    running_loss = 0.0\n",
    " - 총 1000번의 에폭\n",
    " - running_loss: 현재 에포크의 누적 손실을 0으로 초기화합니다.\n",
    "\n",
    "2. 미니배치 반복\n",
    "\n",
    "for inputs, labels in trainloader:\n",
    "\n",
    " - trainloader에서 미니배치(16개 샘플)를 하나씩 불러옴.\n",
    "\n",
    "3. 순전파\n",
    "\n",
    "outputs = model(inputs)\n",
    "\n",
    " - 모델에 입력 데이터(inputs)를 전달해 예측값(outputs) 계산.\n",
    "\n",
    "4. 손실 계산\n",
    "\n",
    "loss = loss_function(outputs, labels)\n",
    "\n",
    " - 예측값(outputs)과 실제값(labels) 사이의 평균제곱오차 계산.\n",
    "\n",
    "5. 역전파\n",
    "\n",
    "loss.backward()\n",
    "\n",
    " - 손실에 대한 각 파라미터의 기울기(gradient) 계산.\n",
    "\n",
    "\n",
    "6. 파라미터 업데이트\n",
    "\n",
    "optimizer.step()\n",
    "\n",
    " - 계산된 기울기 사용, Adam 옵티마이저로 모델 파라미터 업데이트.\n",
    "\n",
    "7. 기울기 초기화\n",
    "\n",
    "optimizer.zero_grad()\n",
    "\n",
    " - 다음 미니배치 계산 위해 기울기 0으로 초기화.\n",
    "\n",
    "8. 누적 손실 계산\n",
    "\n",
    "running_loss += loss.item()\n",
    "\n",
    " - 현재 미니배치의 손실을 running_loss에 누적.\n",
    "\n",
    "9. 에폭 종료 후 처리\n",
    "\n",
    "epoch_losses.append(running_loss)\n",
    "\n",
    " - 현재 에포크의 누적 손실을 epoch_losses 리스트에 저장.\n",
    "\n",
    "10. 진행 상황 출력\n",
    "\n",
    "if (epoch == 0):\n",
    "    print('Epoch %d/%d loss : %.3f' % (epoch + 1, num_epochs, running_loss))\n",
    "if (epoch + 1) % 100 == 0:\n",
    "    print('Epoch %d/%d loss : %.3f' % (epoch + 1, num_epochs, running_loss))\n",
    "\n",
    " - 첫 번째 에포크와 100번째 에포크마다 손실을 출력."
   ]
  },
  {
   "cell_type": "code",
   "execution_count": 39,
   "metadata": {
    "colab": {
     "base_uri": "https://localhost:8080/",
     "height": 449
    },
    "executionInfo": {
     "elapsed": 893,
     "status": "ok",
     "timestamp": 1681809641877,
     "user": {
      "displayName": "최승훈",
      "userId": "10545016366834953850"
     },
     "user_tz": -540
    },
    "id": "f6oS_lagpc_k",
    "outputId": "c4b38ff6-6d06-4be6-ab92-2cc68c75052b"
   },
   "outputs": [
    {
     "data": {
      "image/png": "[encoded data removed]",
      "text/plain": [
       "<Figure size 640x480 with 1 Axes>"
      ]
     },
     "metadata": {},
     "output_type": "display_data"
    }
   ],
   "source": [
    "plt.plot(range(num_epochs), epoch_losses)\n",
    "plt.xlabel('Epochs')\n",
    "plt.ylabel('Loss')\n",
    "plt.show()"
   ]
  },
  {
   "cell_type": "markdown",
   "metadata": {},
   "source": [
    "plt.plot(range(num_epochs), epoch_losses)\n",
    " - 학습이 진행되는 동안 기록된 손실 값을 선 그래프로 그림.\n",
    "plt.xlabel('Epochs')\n",
    " - x축에 에폭 수 표시.\n",
    "plt.ylabel('Loss')\n",
    " - y축에 손실 값 표시.\n",
    "plt.show()\n",
    " - 그래프 출력."
   ]
  },
  {
   "cell_type": "code",
   "execution_count": 41,
   "metadata": {
    "colab": {
     "base_uri": "https://localhost:8080/"
    },
    "executionInfo": {
     "elapsed": 7,
     "status": "ok",
     "timestamp": 1681810190395,
     "user": {
      "displayName": "최승훈",
      "userId": "10545016366834953850"
     },
     "user_tz": -540
    },
    "id": "_1Gm6CYHqnf0",
    "outputId": "ff3646f6-a374-4c6c-bd12-a0a9f07067c8"
   },
   "outputs": [
    {
     "name": "stdout",
     "output_type": "stream",
     "text": [
      "y_test_pred.requires_grad=  True\n",
      "y_test.requires_grad=  False\n",
      "MSE: 8.0012\n",
      "R2: 0.8977\n"
     ]
    }
   ],
   "source": [
    "#모델 성능평가\n",
    "\n",
    "from sklearn.metrics import mean_squared_error, r2_score\n",
    "\n",
    "y_test_pred = model(X_test)\n",
    "print('y_test_pred.requires_grad= ', y_test_pred.requires_grad)\n",
    "print('y_test.requires_grad= ', y_test.requires_grad)\n",
    "mse = mean_squared_error(y_test_pred.detach().cpu().numpy(), y_test.detach().cpu().numpy())\n",
    "print('MSE: {:.4f}'.format(mse))\n",
    "R2 = r2_score(y_test_pred.detach().cpu().numpy(), y_test.detach().cpu().numpy())\n",
    "print( 'R2: {:.4f}'.format(R2))"
   ]
  },
  {
   "cell_type": "markdown",
   "metadata": {},
   "source": [
    "#모델 성능평가\n",
    "\n",
    "from sklearn.metrics import mean_squared_error, r2_score\n",
    " - scikit-learn 라이브러리에서 회귀 모델 평가에 사용되는 두 가지 핵심 지표(MSE,R^2) 불러옴.\n",
    "\n",
    "y_test_pred = model(X_test)\n",
    " - 테스트 데이터에 대한 모델의 테스트 예측값 구하기.\n",
    " - 이 예측값은 학습에 사용되지 않은 데이터에 대한 결과로, 모델의 일반화 성능을 평가하는 데에 중요.\n",
    "print('y_test_pred.requires_grad= ', y_test_pred.requires_grad)\n",
    "print('y_test.requires_grad= ', y_test.requires_grad)\n",
    " - 예측값과 실제값 텐서에 대해 기울기 계산이 필요한지 여부 출력.\n",
    " - requires_grad=True면 텐서가 학습 중이라 기울기 계산이 필요함을 의미.\n",
    " - y_test_pred는 모델 학습에서 비롯된 예측이므로, requires_grad는 true\n",
    " - y_test는 정답 데이터이므로, requires_grad는 false\n",
    "\n",
    "mse = mean_squared_error(y_test_pred.detach().cpu().numpy(), y_test.detach().cpu().numpy())\n",
    "print('MSE: {:.4f}'.format(mse))\n",
    "\n",
    " - .detach()없이 requires_grad=True인 cpu 텐서를 호출 시 아래와 같은 런타임 에러 발생.\n",
    "   RuntimeError: Can't call numpy() on Tensor that requires grad. Use tensor.detach().numpy() instead.\n",
    "   <평균제곱오차>\n",
    " - 예측값과 실제값의 **차이(오차)**를 제곱해서 평균낸 값.\n",
    " - 오차가 클수록 값이 커짐. (오차를 제곱하므로 큰 오차에 더 큰 패널티)\n",
    " - 4번째 자리까지 출력.\n",
    "\n",
    "\n",
    "R2 = r2_score(y_test_pred.detach().cpu().numpy(), y_test.detach().cpu().numpy())\n",
    "print( 'R2: {:.4f}'.format(R2))\n",
    "\n",
    " - .detach()없이 requires_grad=True인 cpu 텐서를 호출 시 아래와 같은 런타임 에러 발생.\n",
    "   RuntimeError: Can't call numpy() on Tensor that requires grad. Use tensor.detach().numpy() instead.\n",
    "   <결정계수>\n",
    "  - 전체 변동성(실제값의 분산) 중에서 모델이 설명하는 비율.\n",
    "  - 1에 가까울수록 모델이 실제값을 잘 설명.\n",
    "  - 0이 모델이 평균값만큼도 못 맞춘다는 뜻\n",
    "  - 음수: 모델이 아예 엉뚱하게 맞춘 경우 (평균으로 예측하는 것보다 못함)\n",
    " - 4번째 자리까지 출력."
   ]
  },
  {
   "cell_type": "code",
   "execution_count": 43,
   "metadata": {
    "colab": {
     "base_uri": "https://localhost:8080/",
     "height": 470
    },
    "executionInfo": {
     "elapsed": 1106,
     "status": "ok",
     "timestamp": 1681810467749,
     "user": {
      "displayName": "최승훈",
      "userId": "10545016366834953850"
     },
     "user_tz": -540
    },
    "id": "dUI6W5bxspsR",
    "outputId": "345efa71-0171-4e05-d167-453b52ce8eb3"
   },
   "outputs": [
    {
     "data": {
      "image/png": "[encoded data removed]",
      "text/plain": [
       "<Figure size 500x500 with 1 Axes>"
      ]
     },
     "metadata": {},
     "output_type": "display_data"
    }
   ],
   "source": [
    "y_train_pred = model(X_train)\n",
    "y_test_pred = model(X_test)\n",
    "y_train_pred = y_train_pred.detach().numpy()\n",
    "y_test_pred = y_test_pred.detach().numpy()\n",
    "\n",
    "plt.figure(figsize=(5,5), dpi=100)\n",
    "plt.xlabel(\"medv\")\n",
    "plt.ylabel(\"predicted medv\")\n",
    "plt.xlim(0, 60)\n",
    "plt.ylim(0, 60)\n",
    "\n",
    "plt.scatter(y_train, y_train_pred, lw=1, color = 'r', label = 'train data')\n",
    "plt.scatter(y_test, y_test_pred, lw=1, color = 'b', label = 'test data')\n",
    "plt.plot([0,60],[0,60],color = 'green', lw=2, linestyle='solid')\n",
    "plt.legend()\n",
    "plt.show()"
   ]
  },
  {
   "cell_type": "markdown",
   "metadata": {},
   "source": [
    "y_train_pred = model(X_train)\n",
    "y_test_pred = model(X_test)\n",
    "y_train_pred = y_train_pred.detach().numpy()\n",
    "y_test_pred = y_test_pred.detach().numpy()\n",
    " \n",
    "- .detach()없이 requires_grad=True인 cpu 텐서를 호출 시 아래와 같은 런타임 에러 발생.\n",
    "   RuntimeError: Can't call numpy() on Tensor that requires grad. Use tensor.detach().numpy() instead.\n",
    "\n",
    "\n",
    "plt.figure(figsize=(5,5), dpi=100)\n",
    "그래프의 크기를 5x5인치, 해상도를 100dpi로 설정.\n",
    "\n",
    "plt.xlabel(\"medv\")\n",
    "x축 라벨을 \"medv\"로 지정.\n",
    "→ 실제 주택가격 의미(천달러 단위)\n",
    "\n",
    "plt.ylabel(\"predicted medv\")\n",
    "y축 라벨을 \"predicted medv\"로 지정.\n",
    "→ 모델이 예측한 주택가격을 의미(천달러 단위)\n",
    "\n",
    "plt.xlim(0, 60)\n",
    "x축의 값 범위를 0~60으로 제한.\n",
    "→ 실제 주택가격의 값이 0~60 사이에 분포하므로, 그래프가 보기 좋게 조정.\n",
    "\n",
    "plt.ylim(0, 60)\n",
    "y축의 값 범위를 0~60으로 제한.\n",
    "→ 예측값도 같은 범위로 맞춰, 실제값과 예측값을 1:1로 비교 가능.\n",
    "\n",
    "plt.scatter(y_train, y_train_pred, lw=1, color = 'r', label = 'train data')\n",
    "학습 데이터의 실제값(y_train)과 예측값(y_train_pred)을 빨간 점으로 산점도에 표시.\n",
    "label이 'train data'이므로 범례에 \"train data\"로 나타남.\n",
    "\n",
    "plt.scatter(y_test, y_test_pred, lw=1, color = 'b', label = 'test data')\n",
    "테스트 데이터의 실제값(y_test)과 예측값(y_test_pred)을 파란 점으로 산점도에 표시.\n",
    "label이 'test data'이므로 범례에 \"test data\"로 나타남.\n",
    "\n",
    "plt.plot([0,color='green', lw=2, linestyle='solid')\n",
    "x축과 y축이 같은 값을 가질 때의 직선, 즉 y=x 기준선을 초록색 실선으로 그림.\n",
    "이 선은 \"예측값 = 실제값\"인 완벽한 예측을 의미.\n"
   ]
  },
  {
   "cell_type": "markdown",
   "metadata": {
    "id": "t3AT4Q8uuFvu"
   },
   "source": [
    "예제 4.2 당뇨병 발병 유무 분류"
   ]
  },
  {
   "cell_type": "code",
   "execution_count": 46,
   "metadata": {
    "colab": {
     "base_uri": "https://localhost:8080/"
    },
    "executionInfo": {
     "elapsed": 307,
     "status": "ok",
     "timestamp": 1681810729731,
     "user": {
      "displayName": "최승훈",
      "userId": "10545016366834953850"
     },
     "user_tz": -540
    },
    "id": "O43hvwA9uJhn",
    "outputId": "3245d3f0-1608-4ea0-8112-99fdd6c53a6c"
   },
   "outputs": [
    {
     "name": "stdout",
     "output_type": "stream",
     "text": [
      "학습을 진행하는 기기:  cpu\n",
      "<class 'pandas.core.frame.DataFrame'>\n",
      "RangeIndex: 768 entries, 0 to 767\n",
      "Data columns (total 9 columns):\n",
      " #   Column                    Non-Null Count  Dtype  \n",
      "---  ------                    --------------  -----  \n",
      " 0   Pregnancies               768 non-null    int64  \n",
      " 1   Glucose                   768 non-null    int64  \n",
      " 2   BloodPressure             768 non-null    int64  \n",
      " 3   SkinThickness             768 non-null    int64  \n",
      " 4   Insulin                   768 non-null    int64  \n",
      " 5   BMI                       768 non-null    float64\n",
      " 6   DiabetesPedigreeFunction  768 non-null    float64\n",
      " 7   Age                       768 non-null    int64  \n",
      " 8   Outcome                   768 non-null    int64  \n",
      "dtypes: float64(2), int64(7)\n",
      "memory usage: 54.1 KB\n",
      "None\n",
      "   Pregnancies  Glucose  BloodPressure  SkinThickness  Insulin   BMI  \\\n",
      "0            6      148             72             35        0  33.6   \n",
      "1            1       85             66             29        0  26.6   \n",
      "2            8      183             64              0        0  23.3   \n",
      "3            1       89             66             23       94  28.1   \n",
      "4            0      137             40             35      168  43.1   \n",
      "\n",
      "   DiabetesPedigreeFunction  Age  Outcome  \n",
      "0                     0.627   50        1  \n",
      "1                     0.351   31        0  \n",
      "2                     0.672   32        1  \n",
      "3                     0.167   21        0  \n",
      "4                     2.288   33        1  \n"
     ]
    }
   ],
   "source": [
    "device = torch.device('cuda' if torch.cuda.is_available() else 'cpu')\n",
    "print('학습을 진행하는 기기: ', device)\n",
    "\n",
    "diabetes = pd.read_csv('pima-indians-diabetes.csv')\n",
    "print(diabetes.info())\n",
    "print(diabetes.head())"
   ]
  },
  {
   "cell_type": "markdown",
   "metadata": {},
   "source": [
    "device = torch.device('cuda' if torch.cuda.is_available() else 'cpu')\n",
    "만약 CUDA(즉, GPU)가 사용 가능하면 'cuda'를, 아니면 'cpu'를 선택.\n",
    "\n",
    "print('학습을 진행하는 기기: ', device)\n",
    "실제 학습이 진행될 기기를 출력합니다.\n",
    "\n",
    "diabetes = pd.read_csv('pima-indians-diabetes.csv')\n",
    "Pima Indians Diabetes 데이터셋을 pandas DataFrame으로 불러옴.\n",
    "\n",
    "print(diabetes.info())\n",
    "데이터프레임의 전체 구조(행/열 수, 각 컬럼별 결측치, 데이터 타입 등)를 출력\n",
    "\n",
    "print(diabetes.head())\n",
    "데이터의 앞부분 5개 행을 출력\n"
   ]
  },
  {
   "cell_type": "code",
   "execution_count": 48,
   "metadata": {
    "colab": {
     "base_uri": "https://localhost:8080/"
    },
    "executionInfo": {
     "elapsed": 4,
     "status": "ok",
     "timestamp": 1681810758330,
     "user": {
      "displayName": "최승훈",
      "userId": "10545016366834953850"
     },
     "user_tz": -540
    },
    "id": "aVuy2V3Tu3GS",
    "outputId": "9068921c-ad7a-4ff6-e953-d76c29f710af"
   },
   "outputs": [
    {
     "data": {
      "text/plain": [
       "Pregnancies                 0\n",
       "Glucose                     0\n",
       "BloodPressure               0\n",
       "SkinThickness               0\n",
       "Insulin                     0\n",
       "BMI                         0\n",
       "DiabetesPedigreeFunction    0\n",
       "Age                         0\n",
       "Outcome                     0\n",
       "dtype: int64"
      ]
     },
     "execution_count": 48,
     "metadata": {},
     "output_type": "execute_result"
    }
   ],
   "source": [
    "diabetes.isnull().sum()"
   ]
  },
  {
   "cell_type": "markdown",
   "metadata": {},
   "source": [
    "Pandas DataFrame인 diabetes의 각 열(컬럼)마다 결측치(null, NaN)의 개수"
   ]
  },
  {
   "cell_type": "code",
   "execution_count": 50,
   "metadata": {
    "colab": {
     "base_uri": "https://localhost:8080/"
    },
    "executionInfo": {
     "elapsed": 6,
     "status": "ok",
     "timestamp": 1681810823343,
     "user": {
      "displayName": "최승훈",
      "userId": "10545016366834953850"
     },
     "user_tz": -540
    },
    "id": "vIGQavPnu5fq",
    "outputId": "fab0de65-bf37-451f-c611-168179e94cb3"
   },
   "outputs": [
    {
     "name": "stdout",
     "output_type": "stream",
     "text": [
      "<class 'numpy.ndarray'>\n",
      "<class 'numpy.ndarray'>\n",
      "(768, 8) (768, 1)\n"
     ]
    }
   ],
   "source": [
    "# Convert from Pandas dataframe to numpy arrays\n",
    "X = diabetes.drop(labels = ['Outcome'], axis = 1).values\n",
    "y = diabetes[['Outcome']].values\n",
    "\n",
    "print(type(X))\n",
    "print(type(y))\n",
    "print(X.shape, y.shape)"
   ]
  },
  {
   "cell_type": "markdown",
   "metadata": {},
   "source": [
    "X = diabetes.drop(labels = ['Outcome'], axis = 1).values\n",
    "diabetes 데이터프레임에서 'Outcome' 컬럼(즉, 정답 레이블)만 제외하고, 나머지 8개 특징(입력 변수)만 추출.\n",
    "\n",
    ".values를 붙이면 pandas DataFrame이 numpy 배열(ndarray)로 변환.\n",
    "\n",
    "결과: X는 (768, 8) 크기의 numpy 배열.\n",
    "\n",
    "y = diabetes[['Outcome']].values\n",
    "'Outcome' 컬럼(정답, 0 또는 1)만 추출해서 numpy 배열로 변환.\n",
    "\n",
    "결과: y는 (768, 1) 크기의 numpy 배열.\n",
    "\n",
    "print(type(X))\n",
    "print(type(y))\n",
    "print(X.shape, y.shape)\n",
    "\n",
    "X와 y의 자료형, 크기 출력.\n"
   ]
  },
  {
   "cell_type": "code",
   "execution_count": 52,
   "metadata": {
    "colab": {
     "base_uri": "https://localhost:8080/"
    },
    "executionInfo": {
     "elapsed": 265,
     "status": "ok",
     "timestamp": 1681810886734,
     "user": {
      "displayName": "최승훈",
      "userId": "10545016366834953850"
     },
     "user_tz": -540
    },
    "id": "NMmmFlG5vJ9l",
    "outputId": "2006a048-7ce5-4313-d328-97a2d3ffe2c9"
   },
   "outputs": [
    {
     "name": "stdout",
     "output_type": "stream",
     "text": [
      "(614, 8) (154, 8) (614, 1) (154, 1)\n"
     ]
    }
   ],
   "source": [
    "X_train, X_test, y_train, y_test = train_test_split(X, y, test_size = 0.2, random_state = 0)\n",
    "print(X_train.shape, X_test.shape, y_train.shape, y_test.shape)"
   ]
  },
  {
   "cell_type": "markdown",
   "metadata": {},
   "source": [
    "전체 데이터 X(입력), y(정답)를 **학습용(80%)**과 **테스트용(20%)**으로 무작위 분할.\n",
    "\n",
    "random_state=0으로 무작위 분할의 결과를 항상 동일하게.(재현성 확보)\n",
    "\n",
    "각 데이터셋의 크기(행, 열)를 출력.\n"
   ]
  },
  {
   "cell_type": "code",
   "execution_count": 54,
   "metadata": {
    "colab": {
     "base_uri": "https://localhost:8080/"
    },
    "executionInfo": {
     "elapsed": 319,
     "status": "ok",
     "timestamp": 1681810968447,
     "user": {
      "displayName": "최승훈",
      "userId": "10545016366834953850"
     },
     "user_tz": -540
    },
    "id": "gvmiGhAqvVOM",
    "outputId": "6e68d0db-a213-4074-8d82-23c8708a50ad"
   },
   "outputs": [
    {
     "name": "stdout",
     "output_type": "stream",
     "text": [
      "torch.Size([614, 8]) torch.Size([154, 8]) torch.Size([614, 1]) torch.Size([154, 1])\n"
     ]
    }
   ],
   "source": [
    "#Creating Tensors\n",
    "X_train = torch.FloatTensor(X_train).to(device)\n",
    "X_test = torch.FloatTensor(X_test).to(device)\n",
    "y_train = torch.LongTensor(y_train).to(device)\n",
    "y_test = torch.LongTensor(y_test).to(device)\n",
    "\n",
    "print(X_train.shape, X_test.shape, y_train.shape, y_test.shape)"
   ]
  },
  {
   "cell_type": "markdown",
   "metadata": {},
   "source": [
    "torch.FloatTensor(...) : 넘파이 배열을 32비트 실수형(float) 텐서로 변환.\n",
    ".to(device) : 텐서를 GPU(사용 가능하면) 또는 CPU로 옮기.\n",
    "torch.LongTensor(...) : 넘파이 배열을 64비트 정수형(long) 텐서로 변환."
   ]
  },
  {
   "cell_type": "code",
   "execution_count": 56,
   "metadata": {
    "executionInfo": {
     "elapsed": 2,
     "status": "ok",
     "timestamp": 1681810993393,
     "user": {
      "displayName": "최승훈",
      "userId": "10545016366834953850"
     },
     "user_tz": -540
    },
    "id": "zkGvuYLrvsuo"
   },
   "outputs": [],
   "source": [
    "dataset = torch.utils.data.TensorDataset(X_train,y_train)"
   ]
  },
  {
   "cell_type": "markdown",
   "metadata": {},
   "source": [
    "TensorDataset은 여러 개의 텐서를 같은 인덱스끼리 묶어서 하나의 데이터셋 객체로 만들어줌.\n",
    "\n",
    "보통 (입력, 정답) 쌍을 하나의 샘플로 다루기 위해 사용.\n",
    "\n",
    "예를 들어, 첫 번째 샘플을 꺼내면 (X_train, y_train)이 반환."
   ]
  },
  {
   "cell_type": "code",
   "execution_count": 58,
   "metadata": {
    "executionInfo": {
     "elapsed": 2,
     "status": "ok",
     "timestamp": 1681811024162,
     "user": {
      "displayName": "최승훈",
      "userId": "10545016366834953850"
     },
     "user_tz": -540
    },
    "id": "xGKvENKTvcEa"
   },
   "outputs": [],
   "source": [
    "torch.manual_seed(0)\n",
    "trainloader = torch.utils.data.DataLoader(dataset, batch_size=16, shuffle=True)"
   ]
  },
  {
   "cell_type": "markdown",
   "metadata": {},
   "source": [
    "torch.manual_seed(0)\n",
    "파이토치의 난수 생성 시드를 0으로 고정.\n",
    "이를 통해 데이터 섞기(shuffle)마다 동일한 결과가 나오도록 보장(재현성 확보).\n",
    "\n",
    "trainloader = torch.utils.data.DataLoader(dataset, batch_size=16, shuffle=True)\n",
    "dataset을 미니배치 단위로 묶어주는 데이터로더 객체를 만듦.\n",
    "\n",
    "batch_size=16 : 한 번에 16개 샘플씩 미니배치로 제공.\n",
    "\n",
    "shuffle=True : 에포크마다 데이터를 무작위로 섞어서 모델이 데이터 순서에 의존하지 않도록."
   ]
  },
  {
   "cell_type": "code",
   "execution_count": 60,
   "metadata": {
    "colab": {
     "base_uri": "https://localhost:8080/"
    },
    "executionInfo": {
     "elapsed": 415,
     "status": "ok",
     "timestamp": 1681811260881,
     "user": {
      "displayName": "최승훈",
      "userId": "10545016366834953850"
     },
     "user_tz": -540
    },
    "id": "gOvbquGvv6bG",
    "outputId": "ecc62b4f-5fe2-4425-e8d8-58ac96ce4f1a"
   },
   "outputs": [
    {
     "name": "stdout",
     "output_type": "stream",
     "text": [
      "<bound method Module.parameters of Diabetes_model(\n",
      "  (fc1): Linear(in_features=8, out_features=20, bias=True)\n",
      "  (fc2): Linear(in_features=20, out_features=10, bias=True)\n",
      "  (fc3): Linear(in_features=10, out_features=2, bias=True)\n",
      ")>\n"
     ]
    }
   ],
   "source": [
    "#Creating the model\n",
    "class Diabetes_model(nn.Module):\n",
    "  def __init__(self):\n",
    "    super().__init__()\n",
    "    self.fc1 = nn.Linear(X_train.shape[1], 20)\n",
    "    self.fc2 = nn.Linear(20,10)\n",
    "    self.fc3 = nn.Linear(10,2)\n",
    "  def forward(self, x):\n",
    "    x = F.relu(self.fc1(x))\n",
    "    x = F.relu(self.fc2(x))\n",
    "    x = self.fc3(x)\n",
    "    return x\n",
    "  \n",
    "model = Diabetes_model().to(device)\n",
    "print(model.parameters)"
   ]
  },
  {
   "cell_type": "markdown",
   "metadata": {},
   "source": [
    "class Diabetes_model(nn.Module): #PyTorch의 nn.Module을 상속받아 신경망 모델을 정의\n",
    "  def __init__(self):\n",
    "    super().__init__()\n",
    "    self.fc1 = nn.Linear(X_train.shape[1], 20) # 첫 번째 완전연결층(fc1): 입력 특성 개수(8개) → 20개 노드\n",
    "    self.fc2 = nn.Linear(20,10) # 두 번째 완전연결층(fc2): 20개 → 10개 노드\n",
    "    self.fc3 = nn.Linear(10,2) # 세 번째 완전연결층(fc3): 10개 → 2개 노드 (이진 분류이므로 출력 2개)\n",
    "    \n",
    "  def forward(self, x):\n",
    "    x = F.relu(self.fc1(x)) # 입력을 순서대로 fc1, fc2, fc3에 통과시키며, fc1과 fc2 뒤에는 ReLU 활성화 함수를 적용.\n",
    "    x = F.relu(self.fc2(x)) # 입력을 순서대로 fc1, fc2, fc3에 통과시키며, fc1과 fc2 뒤에는 ReLU 활성화 함수를 적용.\n",
    "    x = self.fc3(x) # 마지막 fc3은 활성화 함수 없이 그대로 출력(이후 CrossEntropyLoss 등에서 softmax 처리).\n",
    "    return x\n",
    "  \n",
    "model = Diabetes_model().to(device) # 모델 객체를 생성하고, GPU가 있으면 GPU에, 없으면 CPU에 할당\n",
    "print(model.parameters) # 모델의 학습 가능한 파라미터(가중치, 편향 등) 정보를 출력\n",
    "  def __init__(self):\n",
    "    super().__init__()\n",
    "    self.fc1 = nn.Linear(X_train.shape[1], 20)\n",
    "    self.fc2 = nn.Linear(20,10)\n",
    "    self.fc3 = nn.Linear(10,2)\n",
    "  def forward(self, x):\n",
    "    x = F.relu(self.fc1(x))\n",
    "    x = F.relu(self.fc2(x))\n",
    "    x = self.fc3(x)\n",
    "    return x\n",
    "  \n",
    "model = Diabetes_model().to(device)\n",
    "print(model.parameters)"
   ]
  },
  {
   "cell_type": "code",
   "execution_count": 62,
   "metadata": {
    "executionInfo": {
     "elapsed": 275,
     "status": "ok",
     "timestamp": 1681811328118,
     "user": {
      "displayName": "최승훈",
      "userId": "10545016366834953850"
     },
     "user_tz": -540
    },
    "id": "LcAdaSquw0F8"
   },
   "outputs": [],
   "source": [
    "# Define the loss function and optimizer\n",
    "learning_rate = 0.0001\n",
    "loss_function = nn.CrossEntropyLoss()\n",
    "optimizer = torch.optim.Adam(model.parameters(), lr=learning_rate)"
   ]
  },
  {
   "cell_type": "markdown",
   "metadata": {},
   "source": [
    "학습률(learning rate)을 0.0001로 설정.\n",
    "분류 문제(특히 다중 클래스 분류)에서 손실 함수로 CrossEntropyLoss(교차 엔트로피 손실) 사용.\n",
    "최적화 알고리즘으로 Adam 선택.\n",
    "model.parameters()는 모델의 학습 가능한 파라미터(가중치, 편향 등)를 모두 전달.\n",
    "lr=learning_rate로 학습률을 지정.\n"
   ]
  },
  {
   "cell_type": "code",
   "execution_count": 64,
   "metadata": {
    "colab": {
     "base_uri": "https://localhost:8080/"
    },
    "executionInfo": {
     "elapsed": 103349,
     "status": "ok",
     "timestamp": 1681812162121,
     "user": {
      "displayName": "최승훈",
      "userId": "10545016366834953850"
     },
     "user_tz": -540
    },
    "id": "5maeN0_GxTcx",
    "outputId": "c5532385-895e-47c1-a3e5-3c6fbb5523c3"
   },
   "outputs": [
    {
     "name": "stdout",
     "output_type": "stream",
     "text": [
      "Epoch 1/2000 loss : 102.391\n",
      "Epoch 100/2000 loss : 22.760\n",
      "Epoch 200/2000 loss : 21.899\n",
      "Epoch 300/2000 loss : 21.102\n",
      "Epoch 400/2000 loss : 20.683\n",
      "Epoch 500/2000 loss : 20.409\n",
      "Epoch 600/2000 loss : 19.959\n",
      "Epoch 700/2000 loss : 19.649\n",
      "Epoch 800/2000 loss : 19.470\n",
      "Epoch 900/2000 loss : 19.404\n",
      "Epoch 1000/2000 loss : 18.803\n",
      "Epoch 1100/2000 loss : 18.789\n",
      "Epoch 1200/2000 loss : 18.699\n",
      "Epoch 1300/2000 loss : 18.251\n",
      "Epoch 1400/2000 loss : 18.091\n",
      "Epoch 1500/2000 loss : 17.893\n",
      "Epoch 1600/2000 loss : 17.795\n",
      "Epoch 1700/2000 loss : 17.587\n",
      "Epoch 1800/2000 loss : 17.506\n",
      "Epoch 1900/2000 loss : 17.379\n",
      "Epoch 2000/2000 loss : 17.160\n"
     ]
    }
   ],
   "source": [
    "num_epochs = 2000\n",
    "epoch_loss = []\n",
    "for epoch in range(num_epochs):\n",
    "  running_loss = 0.0\n",
    "  for inputs, labels in trainloader:\n",
    "    y_pred = model(inputs)\n",
    "    loss = loss_function(y_pred, labels.view(-1))\n",
    "    loss.backward()\n",
    "    optimizer.step()\n",
    "    optimizer.zero_grad()\n",
    "\n",
    "    running_loss += loss.item()\n",
    "  \n",
    "  epoch_loss.append(running_loss)\n",
    "\n",
    "  if(epoch==0):\n",
    "    print('Epoch %d/%d loss : %.3f' % (epoch + 1, num_epochs, running_loss))\n",
    "  if(epoch+1) % 100 ==0:\n",
    "    print('Epoch %d/%d loss : %.3f' % (epoch + 1, num_epochs, running_loss))"
   ]
  },
  {
   "cell_type": "markdown",
   "metadata": {},
   "source": [
    "num_epochs = 2000\n",
    "전체 학습을 2000번 반복(에폭).\n",
    "\n",
    "epoch_loss = []\n",
    "각 에폭(epoch)마다 전체 손실을 저장할 리스트.\n",
    "\n",
    "for epoch in range(num_epochs): # 에폭 단위 반복문.\n",
    "\n",
    "  running_loss = 0.0  # 한 에폭 동안 누적 손실값을 저장\n",
    "  for inputs, labels in trainloader: # 학습 데이터를 미니배치 단위로 반복\n",
    "    y_pred = model(inputs) # 입력 데이터를 모델에 넣어 예측값\n",
    "    loss = loss_function(y_pred, labels.view(-1)) # 예측값과 실제 정답(라벨)을 비교하여 손실(loss)을 계산. labels.view(-1)은 라벨 텐서의 차원을 맞추기 위한 코드.\n",
    "    loss.backward() # 손실에 대해 모델의 모든 파라미터에 대한 gradient(미분값)를 계산\n",
    "    optimizer.step() # 계산된 gradient를 이용해 모델 파라미터(가중치)를 한 번 업데이트.\n",
    "    optimizer.zero_grad() # 다음 배치에서 gradient가 누적되지 않도록 0으로 초기화.\n",
    "\n",
    "    running_loss += loss.item() # 현재 배치의 손실값을 running_loss에 더해, 에폭 전체 손실을 누적.\n",
    "  \n",
    "  epoch_loss.append(running_loss) # 한 에폭이 끝날 때마다 전체 손실을 리스트에 저장.\n",
    "\n",
    "  if(epoch==0):\n",
    "    print('Epoch %d/%d loss : %.3f' % (epoch + 1, num_epochs, running_loss))\n",
    "  if(epoch+1) % 100 ==0:\n",
    "    print('Epoch %d/%d loss : %.3f' % (epoch + 1, num_epochs, running_loss))\n",
    "# 1번째 에폭과 100의 배수 에폭마다 현재 에폭의 손실값을 출력"
   ]
  },
  {
   "cell_type": "code",
   "execution_count": 66,
   "metadata": {
    "colab": {
     "base_uri": "https://localhost:8080/",
     "height": 449
    },
    "executionInfo": {
     "elapsed": 622,
     "status": "ok",
     "timestamp": 1681812389334,
     "user": {
      "displayName": "최승훈",
      "userId": "10545016366834953850"
     },
     "user_tz": -540
    },
    "id": "OXG7XOCmz28D",
    "outputId": "1e7a1626-e8e1-47b9-9265-2347790d9459"
   },
   "outputs": [
    {
     "data": {
      "image/png": "[encoded data removed]",
      "text/plain": [
       "<Figure size 640x480 with 1 Axes>"
      ]
     },
     "metadata": {},
     "output_type": "display_data"
    }
   ],
   "source": [
    "plt.plot(range(num_epochs), epoch_loss) \n",
    "plt.xlabel('Epochs')\n",
    "plt.ylabel('Loss')\n",
    "plt.show()"
   ]
  },
  {
   "cell_type": "markdown",
   "metadata": {},
   "source": [
    "x축에 학습 에폭, y축에 각 에폭별 누적 손실값 그리기."
   ]
  },
  {
   "cell_type": "code",
   "execution_count": 68,
   "metadata": {
    "colab": {
     "base_uri": "https://localhost:8080/"
    },
    "executionInfo": {
     "elapsed": 4,
     "status": "ok",
     "timestamp": 1681812478344,
     "user": {
      "displayName": "최승훈",
      "userId": "10545016366834953850"
     },
     "user_tz": -540
    },
    "id": "Nqtalddy1Hlt",
    "outputId": "37200438-f4f1-4468-86bb-42ed98c77a86"
   },
   "outputs": [
    {
     "name": "stdout",
     "output_type": "stream",
     "text": [
      "1\n",
      "0\n",
      "0\n",
      "1\n",
      "0\n",
      "0\n",
      "1\n",
      "1\n",
      "0\n",
      "1\n",
      "1\n"
     ]
    }
   ],
   "source": [
    "predictions = []\n",
    "for i, data in enumerate(X_test):\n",
    "  y_pred = model(data)\n",
    "  predictions.append(y_pred.argmax().item())\n",
    "  if (i <=10):\n",
    "    print(y_pred.argmax().item())"
   ]
  },
  {
   "cell_type": "code",
   "execution_count": 110,
   "metadata": {},
   "outputs": [
    {
     "name": "stdout",
     "output_type": "stream",
     "text": [
      "1\n",
      "0\n",
      "0\n",
      "1\n",
      "0\n",
      "0\n",
      "1\n",
      "1\n",
      "0\n",
      "1\n",
      "1\n"
     ]
    }
   ],
   "source": [
    "predictions = [] # 예측 결과(클래스)를 저장할 빈 리스트를 만듦.\n",
    "for i, data in enumerate(X_test): # 테스트 데이터셋의 각 샘플을 하나씩 반복. i는 인덱스, data는 각 샘플(입력 데이터).\n",
    "  y_pred = model(data) # 각 샘플을 모델에 넣어 예측 결과(클래스 점수)를 얻는다.\n",
    "  predictions.append(y_pred.argmax().item())\n",
    "  if (i <=10):\n",
    "    print(y_pred.argmax().item())"
   ]
  },
  {
   "cell_type": "markdown",
   "metadata": {},
   "source": [
    "predictions = [] # 예측 결과(클래스)를 저장할 빈 리스트를 만듦.\n",
    "for i, data in enumerate(X_test): # 테스트 데이터셋의 각 샘플을 하나씩 반복. i는 인덱스, data는 각 샘플(입력 데이터).\n",
    "  y_pred = model(data) # 각 샘플을 모델에 넣어 예측 결과(클래스 점수)를 얻는다.\n",
    "  data는 1차원 텐서이므로, 모델이 배치 입력만 받는 경우 에러가 날 수 있다.\n",
    "  일반적으로 data.unsqueeze(0)으로 차원을 늘려 (1,특성수)형태로 넣는다.\n",
    "  predictions.append(y_pred.argmax().item()) # 예측 결과 중 가장 값이 큰 인덱스(=예측 클래스, 0 또는 1)를 추출해 리스트에 저장.\n",
    "  if (i <=10):\n",
    "    print(y_pred.argmax().item()) # 처음 11개 샘플의 예측 클래스 출력"
   ]
  },
  {
   "cell_type": "code",
   "execution_count": 70,
   "metadata": {
    "colab": {
     "base_uri": "https://localhost:8080/"
    },
    "executionInfo": {
     "elapsed": 257,
     "status": "ok",
     "timestamp": 1681812505516,
     "user": {
      "displayName": "최승훈",
      "userId": "10545016366834953850"
     },
     "user_tz": -540
    },
    "id": "6RGS-9lc1dVv",
    "outputId": "29498955-5af6-425f-a345-9059fd8600d4"
   },
   "outputs": [
    {
     "name": "stdout",
     "output_type": "stream",
     "text": [
      "Confusion Matrix : \n",
      " [[88 19]\n",
      " [17 30]]\n",
      "Precision :  0.6122\n",
      "Sensitivity :  0.6383\n",
      "Specificity :  0.8224\n",
      "Accuracy :  0.7662\n"
     ]
    }
   ],
   "source": [
    "from sklearn.metrics import confusion_matrix\n",
    "# confusion matrix\n",
    "confusion_matrix = confusion_matrix(y_test.cpu().numpy(), predictions)\n",
    "TN=confusion_matrix[0][0]\n",
    "FP=confusion_matrix[0][1]\n",
    "FN=confusion_matrix[1][0]\n",
    "TP=confusion_matrix[1][1]\n",
    "precision= TP/(TP+FP)\n",
    "sensitivity=TP/(TP+FN)\n",
    "specificity=TN/(FP+TN)\n",
    "accuracy=(TP+TN)/(TP+TN+FP+FN)\n",
    "print (\"Confusion Matrix : \\n\", confusion_matrix)\n",
    "print (\"Precision : \", round(precision,4))\n",
    "print (\"Sensitivity : \", round(sensitivity,4))\n",
    "print (\"Specificity : \", round(specificity,4))\n",
    "print (\"Accuracy : \", round(accuracy,4))"
   ]
  },
  {
   "cell_type": "markdown",
   "metadata": {},
   "source": [
    "from sklearn.metrics import confusion_matrix\n",
    "# confusion matrix\n",
    "confusion_matrix = confusion_matrix(y_test.cpu().numpy(), predictions)\n",
    "# 실제 정답(y_test)과 예측 결과(predictions)를 비교하여 혼동행렬을 만듦.\n",
    "TN=confusion_matrix[0][0]\n",
    "FP=confusion_matrix[0][1]\n",
    "FN=confusion_matrix[1][0]\n",
    "TP=confusion_matrix[1][1]\n",
    "precision= TP/(TP+FP) # 모델이 양성이라고 예측한 것 중 실제 양성의 비율\n",
    "sensitivity=TP/(TP+FN) # 실제 양성 중에서 모델이 양성으로 잘 맞춘 비율\n",
    "specificity=TN/(FP+TN) #  실제 음성 중에서 모델이 음성으로 잘 맞춘 비율\n",
    "accuracy=(TP+TN)/(TP+TN+FP+FN) # 전체 데이터 중에서 맞춘 비율\n",
    "print (\"Confusion Matrix : \\n\", confusion_matrix)\n",
    "print (\"Precision : \", round(precision,4))\n",
    "print (\"Sensitivity : \", round(sensitivity,4))\n",
    "print (\"Specificity : \", round(specificity,4))\n",
    "print (\"Accuracy : \", round(accuracy,4))\n",
    "각 지표를 소수점 4자리까지 출력."
   ]
  },
  {
   "cell_type": "code",
   "execution_count": 115,
   "metadata": {
    "colab": {
     "base_uri": "https://localhost:8080/",
     "height": 472
    },
    "executionInfo": {
     "elapsed": 487,
     "status": "ok",
     "timestamp": 1681812525743,
     "user": {
      "displayName": "최승훈",
      "userId": "10545016366834953850"
     },
     "user_tz": -540
    },
    "id": "Alk9Uaox1kC_",
    "outputId": "f6a2a07d-6c0d-407e-a88d-29d62e3ba2d7"
   },
   "outputs": [
    {
     "data": {
      "image/png": "[encoded data removed]",
      "text/plain": [
       "<Figure size 640x480 with 1 Axes>"
      ]
     },
     "metadata": {},
     "output_type": "display_data"
    }
   ],
   "source": [
    "from sklearn.metrics import roc_curve, roc_auc_score\n",
    "\n",
    "fpr, tpr, _ = roc_curve(y_test.cpu().numpy(),  predictions)\n",
    "auc = roc_auc_score(y_test.cpu().numpy(), predictions)\n",
    "auc=round(auc,4)\n",
    "plt.plot(fpr,tpr,label=\"AUC =\"+str(auc))\n",
    "plt.legend(loc=4)\n",
    "plt.title(\"ROC Curve\")\n",
    "plt.ylabel('True Positive Rate')\n",
    "plt.xlabel('False Positive Rate')\n",
    "plt.show()"
   ]
  },
  {
   "cell_type": "markdown",
   "metadata": {},
   "source": [
    "from sklearn.metrics import roc_curve, roc_auc_score\n",
    "\n",
    "fpr, tpr, _ = roc_curve(y_test.cpu().numpy(),  predictions)\n",
    "\n",
    "[roc_curve]\n",
    "roc_curve(y_test.cpu().numpy(), predictions)\n",
    "실제 정답(y_test)과 예측값(predictions)을 이용해\n",
    "FPR(위양성률, False Positive Rate)과 TPR(진양성률, True Positive Rate, 민감도)을 계산\n",
    "FPR: 실제 0을 1로 잘못 예측한 비율\n",
    "TPR: 실제 1을 1로 잘 맞춘 비율(=민감도, Sensitivity)\n",
    "\n",
    "auc = roc_auc_score(y_test.cpu().numpy(), predictions)\n",
    "[roc_auc_score]\n",
    "roc_auc_score(y_test.cpu().numpy(), predictions)\n",
    "ROC 커브 아래 면적(AUC, Area Under Curve)을 계산\n",
    "AUC 값이 1에 가까울수록 분류 성능이 우수함을 의미\n",
    "\n",
    "auc=round(auc,4)\n",
    "4자리까지 반올림.\n",
    "\n",
    "plt.plot(fpr,tpr,label=\"AUC =\"+str(auc))\n",
    "x축: FPR, y축: TPR로 ROC 커브를 그립니다.\n",
    "\n",
    "커브의 범례에 AUC 값을 함께 표시합니다.\n",
    "plt.legend(loc=4) # 범례를 오른쪽 아래(loc=4)에 표시.\n",
    "plt.title(\"ROC Curve\") # 그래프 제목을 'ROC Curve'로 지정.\n",
    "plt.ylabel('True Positive Rate') # y축 라벨을 '진양성률'(민감도)로 지정\n",
    "plt.xlabel('False Positive Rate') # x축 라벨을 '위양성률'로 지정\n",
    "plt.show() 그래프 출력."
   ]
  }
 ],
 "metadata": {
  "colab": {
   "authorship_tag": "ABX9TyN89aBFUzfpbtBN3y722P04",
   "provenance": []
  },
  "kernelspec": {
   "display_name": "Python [conda env:base] *",
   "language": "python",
   "name": "conda-base-py"
  },
  "language_info": {
   "codemirror_mode": {
    "name": "ipython",
    "version": 3
   },
   "file_extension": ".py",
   "mimetype": "text/x-python",
   "name": "python",
   "nbconvert_exporter": "python",
   "pygments_lexer": "ipython3",
   "version": "3.12.7"
  }
 },
 "nbformat": 4,
 "nbformat_minor": 4
}
